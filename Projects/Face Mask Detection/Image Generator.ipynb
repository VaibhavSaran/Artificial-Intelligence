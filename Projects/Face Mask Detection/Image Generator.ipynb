{
 "cells": [
  {
   "cell_type": "code",
   "execution_count": 1,
   "id": "f330f3a9-6f7f-4eca-b039-afb069b6dd80",
   "metadata": {
    "tags": []
   },
   "outputs": [],
   "source": [
    "from keras.preprocessing.image import ImageDataGenerator\n",
    "import matplotlib.pyplot as plt\n",
    "import cv2"
   ]
  },
  {
   "cell_type": "code",
   "execution_count": 2,
   "id": "cc765318-d5dc-4ab5-9858-16a95702f8c4",
   "metadata": {
    "tags": []
   },
   "outputs": [],
   "source": [
    "path = r'C:\\Users\\user\\Documents\\Face Mask\\data\\augment\\with_mask_1.jpg'\n",
    "img = cv2.imread(path)\n",
    "img = cv2.resize(img,(200,200)) "
   ]
  },
  {
   "cell_type": "code",
   "execution_count": 8,
   "id": "9dd28e81-80ad-4a3a-a4f5-d601ba5a1fe2",
   "metadata": {
    "tags": []
   },
   "outputs": [],
   "source": [
    "datagen = ImageDataGenerator(\n",
    "                            rotation_range=20,\n",
    "                            width_shift_range=0.1,\n",
    "                            height_shift_range=0.1,\n",
    "                            shear_range=0.2,\n",
    "                            horizontal_flip=True,\n",
    "                            zoom_range=0.2)"
   ]
  },
  {
   "cell_type": "code",
   "execution_count": 4,
   "id": "948a366e-67ad-44f0-be11-20de403e303c",
   "metadata": {
    "tags": []
   },
   "outputs": [
    {
     "data": {
      "text/plain": [
       "(200, 200, 3)"
      ]
     },
     "execution_count": 4,
     "metadata": {},
     "output_type": "execute_result"
    }
   ],
   "source": [
    "img.shape"
   ]
  },
  {
   "cell_type": "code",
   "execution_count": 5,
   "id": "ef8ef05f-b5bd-4661-9c56-d07d20181985",
   "metadata": {
    "tags": []
   },
   "outputs": [],
   "source": [
    "img = img.reshape(1,img.shape[0],img.shape[1],img.shape[2])"
   ]
  },
  {
   "cell_type": "code",
   "execution_count": 9,
   "id": "73398171-413a-4814-9d04-b13ad7758214",
   "metadata": {
    "tags": []
   },
   "outputs": [],
   "source": [
    "i = 0 \n",
    "for z in datagen.flow(img,batch_size=1,save_to_dir=r\"C:\\Users\\user\\Documents\\Face Mask\\data\\augment\"):\n",
    "    i=i+1\n",
    "    if i==5:\n",
    "        break"
   ]
  }
 ],
 "metadata": {
  "kernelspec": {
   "display_name": "BHP_dep",
   "language": "python",
   "name": "bhp_dep"
  },
  "language_info": {
   "codemirror_mode": {
    "name": "ipython",
    "version": 3
   },
   "file_extension": ".py",
   "mimetype": "text/x-python",
   "name": "python",
   "nbconvert_exporter": "python",
   "pygments_lexer": "ipython3",
   "version": "3.8.10"
  }
 },
 "nbformat": 4,
 "nbformat_minor": 5
}
