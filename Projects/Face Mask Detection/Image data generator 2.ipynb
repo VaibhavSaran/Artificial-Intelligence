{
 "cells": [
  {
   "cell_type": "code",
   "execution_count": 1,
   "id": "fdb70ff3-ac40-4b45-9c36-da4fa5d1d02c",
   "metadata": {
    "tags": []
   },
   "outputs": [],
   "source": [
    "import numpy as np\n",
    "from keras.models import Sequential\n",
    "from keras.layers import Dense,Activation,Flatten,Dropout\n",
    "from keras.layers import Conv2D, MaxPooling2D"
   ]
  },
  {
   "cell_type": "code",
   "execution_count": 2,
   "id": "f49878c7-39f7-4ce6-a546-df693931e14c",
   "metadata": {
    "tags": []
   },
   "outputs": [],
   "source": [
    "from keras.preprocessing.image import ImageDataGenerator\n",
    "import matplotlib.pyplot as plt\n",
    "import cv2"
   ]
  },
  {
   "cell_type": "code",
   "execution_count": 4,
   "id": "ff367dab-6c10-40f6-9259-343385c7b17a",
   "metadata": {
    "tags": []
   },
   "outputs": [
    {
     "name": "stdout",
     "output_type": "stream",
     "text": [
      "Found 7553 images belonging to 2 classes.\n",
      "Found 7553 images belonging to 2 classes.\n"
     ]
    }
   ],
   "source": [
    "# Press Shift + tab to view all the parameters.\n",
    "train_data = ImageDataGenerator(\n",
    "rescale = 1./255,\n",
    "zoom_range = 0.2,\n",
    "shear_range = 0.2,\n",
    "rotation_range = 20)\n",
    "\n",
    "train_g = train_data.flow_from_directory(r\"C:\\Users\\user\\Documents\\Face Mask\\data\",\n",
    "                                        target_size = (200,200),\n",
    "                                         batch_size = 16,\n",
    "                                         class_mode = \"categorical\"\n",
    "                                        )\n",
    "\n",
    "validation_data = ImageDataGenerator(rescale=1./255)\n",
    "\n",
    "validation_gen = validation_data.flow_from_directory(r\"C:\\Users\\user\\Documents\\Face Mask\\data\",\n",
    "                                                    target_size = (200,200),\n",
    "                                                    batch_size = 16,\n",
    "                                                    class_mode = \"categorical\")"
   ]
  },
  {
   "cell_type": "code",
   "execution_count": null,
   "id": "18654822-bfab-48af-805a-95456591ad51",
   "metadata": {},
   "outputs": [],
   "source": []
  }
 ],
 "metadata": {
  "kernelspec": {
   "display_name": "fmenv",
   "language": "python",
   "name": "fmenv"
  },
  "language_info": {
   "codemirror_mode": {
    "name": "ipython",
    "version": 3
   },
   "file_extension": ".py",
   "mimetype": "text/x-python",
   "name": "python",
   "nbconvert_exporter": "python",
   "pygments_lexer": "ipython3",
   "version": "3.8.10"
  }
 },
 "nbformat": 4,
 "nbformat_minor": 5
}
