{
 "cells": [
  {
   "cell_type": "code",
   "execution_count": 1,
   "id": "9177a873-2fa1-4418-acec-1d0e4a7748dc",
   "metadata": {
    "tags": []
   },
   "outputs": [],
   "source": [
    "import os\n",
    "import random as rd\n",
    "import glob\n",
    "import numpy as np\n",
    "import cv2"
   ]
  },
  {
   "cell_type": "code",
   "execution_count": 2,
   "id": "684b8e0b-3a81-4499-b8fb-ee66ba8b5ef1",
   "metadata": {
    "tags": []
   },
   "outputs": [],
   "source": [
    "with_mask = glob.glob(r'C:\\Users\\user\\Documents\\Face Mask\\data\\with_mask/*.*')\n",
    "without_mask = glob.glob(r'C:\\Users\\user\\Documents\\Face Mask\\data\\without_mask/*.*')"
   ]
  },
  {
   "cell_type": "code",
   "execution_count": 3,
   "id": "85a925ff-dc08-4049-9e5e-6be4fc8479a8",
   "metadata": {
    "tags": []
   },
   "outputs": [],
   "source": [
    "data = []\n",
    "labels = []\n",
    "\n",
    "for i in with_mask:\n",
    "    img = cv2.imread(i)\n",
    "    img = cv2.resize(img,(250,250))\n",
    "    data.append(img)\n",
    "    labels.append(0)\n",
    "    \n",
    "for i in without_mask:\n",
    "    img = cv2.imread(i)\n",
    "    img = cv2.resize(img,(250,250))\n",
    "    data.append(img)\n",
    "    labels.append(1)\n",
    "\n",
    "# resizing because CNN needs all input images in same size\n",
    "# label = 0 Mask is there\n",
    "# Label = 1 Mask is not there"
   ]
  },
  {
   "cell_type": "code",
   "execution_count": 4,
   "id": "33df8743-aab8-4fd4-99ee-4a3401eb8c2e",
   "metadata": {
    "tags": []
   },
   "outputs": [
    {
     "data": {
      "text/plain": [
       "7553"
      ]
     },
     "execution_count": 4,
     "metadata": {},
     "output_type": "execute_result"
    }
   ],
   "source": [
    "len(data)"
   ]
  },
  {
   "cell_type": "code",
   "execution_count": 5,
   "id": "1c2e2738-8058-44ec-934b-a885ec8c3647",
   "metadata": {
    "tags": []
   },
   "outputs": [
    {
     "data": {
      "text/plain": [
       "7553"
      ]
     },
     "execution_count": 5,
     "metadata": {},
     "output_type": "execute_result"
    }
   ],
   "source": [
    "len(labels)"
   ]
  },
  {
   "cell_type": "code",
   "execution_count": 6,
   "id": "bf34af08-7f93-452e-bfa0-636c88cc0dcc",
   "metadata": {
    "tags": []
   },
   "outputs": [
    {
     "name": "stdout",
     "output_type": "stream",
     "text": [
      "0\n"
     ]
    }
   ],
   "source": [
    "cv2.imshow(\"img\",data[2])\n",
    "cv2.waitKey(0)\n",
    "cv2.destroyAllWindows()\n",
    "print(labels[2])"
   ]
  },
  {
   "cell_type": "code",
   "execution_count": 9,
   "id": "5a7d985f-a8c9-454f-9448-47ea2f44a675",
   "metadata": {
    "tags": []
   },
   "outputs": [],
   "source": [
    "from sklearn.model_selection import train_test_split\n",
    "import keras\n",
    "import tensorflow as tf\n",
    "from tensorflow.keras import layers\n",
    "from sklearn.metrics import confusion_matrix\n",
    "from sklearn.metrics import classification_report"
   ]
  },
  {
   "cell_type": "code",
   "execution_count": 10,
   "id": "a50fcb4b-d593-4213-86c9-76fab2335b38",
   "metadata": {
    "tags": []
   },
   "outputs": [
    {
     "name": "stdout",
     "output_type": "stream",
     "text": [
      "X Train Shape is : (6420, 250, 250, 3)\n",
      "X Test Shape is : (1133, 250, 250, 3)\n",
      "Y Train Shape is : (6420,)\n",
      "Y Test Shape is : (1133,)\n"
     ]
    }
   ],
   "source": [
    "data=np.array(data)\n",
    "label=np.array(labels)\n",
    "X_train,X_test,y_train,y_test=train_test_split(data,label,test_size=.15,shuffle=True,random_state=44)\n",
    "print('X Train Shape is :',X_train.shape)\n",
    "print('X Test Shape is :',X_test.shape)\n",
    "print('Y Train Shape is :',y_train.shape)\n",
    "print('Y Test Shape is :',y_test.shape)"
   ]
  },
  {
   "cell_type": "code",
   "execution_count": 12,
   "id": "3ee2b573-93ed-4811-886d-cf33d31d836f",
   "metadata": {
    "tags": []
   },
   "outputs": [],
   "source": [
    "Size=250"
   ]
  },
  {
   "cell_type": "code",
   "execution_count": 13,
   "id": "7efb2f6a-b1cc-4025-876c-74d8cc37821f",
   "metadata": {
    "tags": []
   },
   "outputs": [],
   "source": [
    "model=keras.models.Sequential()\n",
    "model.add(keras.layers.Conv2D(filters=32,kernel_size=(3,3),activation=tf.nn.relu,input_shape=(Size,Size,3)))\n",
    "model.add(keras.layers.MaxPooling2D((3,3)))\n",
    "model.add(keras.layers.Conv2D(filters=64,kernel_size=(3,3),activation=tf.nn.relu))\n",
    "model.add(keras.layers.MaxPooling2D((3,3)))\n",
    "model.add(keras.layers.Flatten())\n",
    "model.add(keras.layers.Dense(128, activation='relu'))\n",
    "model.add(keras.layers.Dropout(0.2))\n",
    "model.add(keras.layers.Dense(64, activation='relu'))\n",
    "model.add(keras.layers.Dropout(0.2))\n",
    "model.add(keras.layers.Dense(2, activation='softmax'))"
   ]
  },
  {
   "cell_type": "code",
   "execution_count": 14,
   "id": "12e25f30-fd8c-40ed-b66e-b1f2ced42a65",
   "metadata": {
    "tags": []
   },
   "outputs": [
    {
     "name": "stdout",
     "output_type": "stream",
     "text": [
      "Epoch 1/10\n",
      "181/181 [==============================] - 171s 937ms/step - loss: 9.2911 - accuracy: 0.6661 - val_loss: 0.4644 - val_accuracy: 0.7897\n",
      "Epoch 2/10\n",
      "181/181 [==============================] - 163s 898ms/step - loss: 0.4080 - accuracy: 0.8373 - val_loss: 0.3154 - val_accuracy: 0.8629\n",
      "Epoch 3/10\n",
      "181/181 [==============================] - 149s 824ms/step - loss: 0.2862 - accuracy: 0.8913 - val_loss: 0.3410 - val_accuracy: 0.8816\n",
      "Epoch 4/10\n",
      "181/181 [==============================] - 144s 793ms/step - loss: 0.2125 - accuracy: 0.9199 - val_loss: 0.2849 - val_accuracy: 0.9065\n",
      "Epoch 5/10\n",
      "181/181 [==============================] - 147s 811ms/step - loss: 0.1814 - accuracy: 0.9351 - val_loss: 0.3170 - val_accuracy: 0.9128\n",
      "Epoch 6/10\n",
      "181/181 [==============================] - 150s 830ms/step - loss: 0.1570 - accuracy: 0.9491 - val_loss: 0.3349 - val_accuracy: 0.8894\n",
      "Epoch 7/10\n",
      "181/181 [==============================] - 152s 837ms/step - loss: 0.1107 - accuracy: 0.9652 - val_loss: 0.2956 - val_accuracy: 0.9050\n",
      "Epoch 8/10\n",
      "181/181 [==============================] - 151s 832ms/step - loss: 0.1179 - accuracy: 0.9656 - val_loss: 0.3703 - val_accuracy: 0.9143\n",
      "Epoch 9/10\n",
      "181/181 [==============================] - 147s 812ms/step - loss: 0.1019 - accuracy: 0.9675 - val_loss: 0.2655 - val_accuracy: 0.9330\n",
      "Epoch 10/10\n",
      "181/181 [==============================] - 145s 801ms/step - loss: 0.0836 - accuracy: 0.9770 - val_loss: 0.2831 - val_accuracy: 0.9330\n"
     ]
    }
   ],
   "source": [
    "model.compile(optimizer ='adam',loss='sparse_categorical_crossentropy',metrics=['accuracy'])\n",
    "hist=model.fit(X_train,y_train,epochs=10,validation_split = 0.1)"
   ]
  },
  {
   "cell_type": "code",
   "execution_count": 15,
   "id": "4fe1712e-ee3f-4efa-8e16-e79df8ed36a2",
   "metadata": {
    "tags": []
   },
   "outputs": [
    {
     "name": "stdout",
     "output_type": "stream",
     "text": [
      "Model: \"sequential_1\"\n",
      "_________________________________________________________________\n",
      " Layer (type)                Output Shape              Param #   \n",
      "=================================================================\n",
      " conv2d (Conv2D)             (None, 248, 248, 32)      896       \n",
      "                                                                 \n",
      " max_pooling2d (MaxPooling2D  (None, 82, 82, 32)       0         \n",
      " )                                                               \n",
      "                                                                 \n",
      " conv2d_1 (Conv2D)           (None, 80, 80, 64)        18496     \n",
      "                                                                 \n",
      " max_pooling2d_1 (MaxPooling  (None, 26, 26, 64)       0         \n",
      " 2D)                                                             \n",
      "                                                                 \n",
      " flatten (Flatten)           (None, 43264)             0         \n",
      "                                                                 \n",
      " dense (Dense)               (None, 128)               5537920   \n",
      "                                                                 \n",
      " dropout (Dropout)           (None, 128)               0         \n",
      "                                                                 \n",
      " dense_1 (Dense)             (None, 64)                8256      \n",
      "                                                                 \n",
      " dropout_1 (Dropout)         (None, 64)                0         \n",
      "                                                                 \n",
      " dense_2 (Dense)             (None, 2)                 130       \n",
      "                                                                 \n",
      "=================================================================\n",
      "Total params: 5,565,698\n",
      "Trainable params: 5,565,698\n",
      "Non-trainable params: 0\n",
      "_________________________________________________________________\n"
     ]
    }
   ],
   "source": [
    "model.summary()"
   ]
  }
 ],
 "metadata": {
  "kernelspec": {
   "display_name": "fmenv",
   "language": "python",
   "name": "fmenv"
  },
  "language_info": {
   "codemirror_mode": {
    "name": "ipython",
    "version": 3
   },
   "file_extension": ".py",
   "mimetype": "text/x-python",
   "name": "python",
   "nbconvert_exporter": "python",
   "pygments_lexer": "ipython3",
   "version": "3.8.10"
  }
 },
 "nbformat": 4,
 "nbformat_minor": 5
}
