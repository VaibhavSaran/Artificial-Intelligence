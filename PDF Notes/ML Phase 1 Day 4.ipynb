{
 "cells": [
  {
   "cell_type": "markdown",
   "metadata": {
    "id": "Gimw8HAHpBwb"
   },
   "source": [
    "<h1>Data Preparation and Model Building Pipeline</h1>\n",
    "<h4>Whenever we have to deal with non-numerical data, we need to perform some <u><b>Pre-Processing</b></u> on the data as all the algorithms are designed to run and work with numbers.</h4>\n",
    "\n",
    "At the very core of any algorithm it is nothing but mathematical formula only.\n",
    "\n",
    "In order to get the best performing models, it is imperative that you not only clean the data but also transform it in accordance to the algorithm that you are planning to use on the data.<br>\n",
    "Broadly we will be looking into `Data Pre-Processing` for:\n",
    "- Categorical Data\n",
    "- Text Data\n",
    "- Image Data\n",
    "- Numerical Data\n",
    "<br>\n",
    "\n",
    "Pre-Processing Numerical Data might seem quite counter intuitive to the ideas that we have seen so far but as we progress forward you will see that it as important as any other step."
   ]
  },
  {
   "cell_type": "markdown",
   "metadata": {
    "id": "MRfoBjlPIxaG"
   },
   "source": [
    "In CRISP-DM:<br>\n",
    "<img src=\"Notes Images\\Data Pipeline.png\">\n",
    "\n",
    "Now in CRISP-DM the model is built using the Transformed Data:<br>\n",
    "<img src=\"Notes Images\\Model Building.png\">\n",
    "<br>\n",
    "Followed by the evaluation of the model.<br>\n",
    "<b><u>NOTE:</u> WHENEVER YOU START WORKING ON ANY M.L. PROBLEM STATEMENT, ALWAYS PLAN OUT A ROADMAP FOR YOUR ENTIRE PROJECT WHICH YOU WILL BE FOLLOWING AS IT WILL HELP YOU STAY ON TRACK AND IDENTIFY MISTAKES EASILY.</b>"
   ]
  },
  {
   "cell_type": "markdown",
   "metadata": {
    "id": "U_T5x2xCIxUu"
   },
   "source": [
    "<h2>Steps:</h2>\n",
    "\n",
    "1. <b>Loading the data</b>:\n",
    "  \n",
    "  - Use Pandas or glob module to load the data.\n",
    "\n",
    "2. <b>Data Preparation</b>:\n",
    "  - <b>Identify the target variable</b>:\n",
    "    - After identification segregate Input(X) and Output(Y).\n",
    "  - <b>Split the data into train and test</b>:\n",
    "    - Splitting the data gives you: X_train, X_test, Y_train, Y_test.\n",
    "    - Training data is to train the model\n",
    "    - Testing data is for evaluating the model as it is never seen before hand by the model.\n",
    "  - <b>Apply appropriate Data preparation strategy on the input data</b>:<br>\n",
    "  <img src=\"Notes Images\\Data Pipeline.png\">\n",
    "3. <b>Building the Model</b>:<br>\n",
    "    <img src=\"Notes Images\\Model Building.png\">\n",
    "\n",
    "4. <b>Use the model to predict on the unseen data</b>:<br>\n",
    "  <img src=\"Notes Images\\Model Prediction.png\">\n",
    "  - `X_test_transformed` is unseen data for the model\n",
    "  - `Y_test_predicted` is the prediction made by the model on the unseen datapoints of test data.\n",
    "5. <b>Check the performance using evaluation metrics</b>:<br>\n",
    "<img src=\"Notes Images\\Evaluation Step.png\">\n",
    "\n",
    "<b><u>NOTE</u>: WHEN THE ALGORITHM IS LEARNING FROM THE TRAINING DATA, AND IF THE LEARNING IS NOT GOOD IN THAT CASE THE MODEL WILL PERFORM VERT BADLY ON UNSEEN/TEST DATAPOINTS AND AS A RESULT IT WILL GIVE A VERY BAD SCORE IN EVALUATION</b>"
   ]
  },
  {
   "cell_type": "markdown",
   "metadata": {
    "id": "BEvR5UiWIxO1"
   },
   "source": [
    "<h2>Data Preparation For Various Types Of Data</h2>\n",
    "\n",
    "<img src=\"Notes Images\\Data Transformations.png\">"
   ]
  }
 ],
 "metadata": {
  "colab": {
   "authorship_tag": "ABX9TyP94Bq89RT3pAuRof/5w+aJ",
   "provenance": []
  },
  "kernelspec": {
   "display_name": "Python 3 (ipykernel)",
   "language": "python",
   "name": "python3"
  },
  "language_info": {
   "codemirror_mode": {
    "name": "ipython",
    "version": 3
   },
   "file_extension": ".py",
   "mimetype": "text/x-python",
   "name": "python",
   "nbconvert_exporter": "python",
   "pygments_lexer": "ipython3",
   "version": "3.10.0"
  }
 },
 "nbformat": 4,
 "nbformat_minor": 4
}
