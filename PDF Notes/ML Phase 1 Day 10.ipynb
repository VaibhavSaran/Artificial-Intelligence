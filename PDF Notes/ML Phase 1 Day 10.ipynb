{
 "cells": [
  {
   "cell_type": "markdown",
   "metadata": {
    "id": "3rpQGJuA0RB9"
   },
   "source": [
    "<h1>IMAGES IN MACHINE LEARNING</h1>\n",
    "\n"
   ]
  },
  {
   "cell_type": "markdown",
   "metadata": {
    "id": "dHfLeZoP0Q_c"
   },
   "source": [
    "<h2>What is an Image?</h2>\n",
    "\n",
    "- An image is a rectangular array of dots called `pixel`. The size of an image is specified in terms of `Width 𝕏 Height` with respect to `pixels`.\n",
    "\n",
    "<h2>Viewing An Image</h2>\n",
    "\n",
    "- The physical viewing size {by-default}, depends upon the <b><u>resolution of device</u></b> on which the image is displayed. The resolution is measured in D.P.I. (Dots Per Inch)."
   ]
  },
  {
   "cell_type": "markdown",
   "metadata": {
    "id": "2saHGTjY0Q8w"
   },
   "source": [
    "<img src=\"Notes Images\\vaibhav saran_ML Image.png\"><br>\n",
    "\n",
    "<b><u>NOTE</u>:\n",
    "- IF YOU ZOOM A 1080p IMAGE IN A 8K PANEL, IT WILL TEAR THE IMAGE. {TEAR ⟹ PIXELATED OR BLURRY IMAGE}\n",
    "- FOR COLOR IMAGES WE NEED BITS/PIXELS TO REPRESENT ALL THE COLORS IN THE IMAGE. THE NUMBER OF BITS/PIXELS REQUIRED TO REPRESENT AN IMAGE IS CALLED <u>DEPTH OF IMAGE</u>.</b>"
   ]
  },
  {
   "cell_type": "markdown",
   "metadata": {
    "id": "OhYV7XhqRcU3"
   },
   "source": [
    "Images can be broadly classified into 2 types:\n",
    "- `Monochrome Images`: It is created using a single color.\n",
    "- `Color Images`: It is created using multiple colors."
   ]
  },
  {
   "cell_type": "markdown",
   "metadata": {
    "id": "OwlpLInYazPV"
   },
   "source": [
    "<h4>Some Important Values</h4>\n",
    "\n",
    "- 4 Bits = 1 Nibble\n",
    "- 8 Bits = 1 Byte\n",
    "- 1024 Bytes = 1 KB (Kilo Byte)\n",
    "- 1024 KB = 1 MB (Mega Byte)\n",
    "- 1024 MB = 1 GB (Giga Byte)\n",
    "<br>\n",
    "\n",
    "Some important powers of 2:<br>\n",
    " $$\n",
    " 2^{0} = 1 \n",
    " $$\n",
    " $$\n",
    " 2^{1} = 2 \\\\\n",
    " $$\n",
    " $$\n",
    " 2^{2} = 4 \\\\\n",
    " $$\n",
    " $$\n",
    " 2^{3} = 8 \\\\\n",
    " $$\n",
    " $$\n",
    " 2^{4} = 16 \\\\\n",
    " $$\n",
    " $$\n",
    " 2^{5} = 32 \\\\\n",
    " $$\n",
    " $$\n",
    " 2^{6} = 64 \\\\\n",
    " $$\n",
    " $$\n",
    " 2^{7} = 128 \\\\\n",
    " $$\n",
    " $$\n",
    " 2^{8} = 256 \\\\\n",
    " $$\n",
    " $$\n",
    " 2^{9} = 512 \\\\\n",
    " $$\n",
    " $$\n",
    " 2^{10} = 1024  \n",
    " $$"
   ]
  },
  {
   "cell_type": "markdown",
   "metadata": {
    "id": "HvGb6hcZ0Q3f"
   },
   "source": [
    "<h2>Datatypes for Image</h2>\n",
    "\n",
    "1. <b>1 Bit Image</b>:\n",
    "  - It is also known as `Binary Image` or `1 Bit Monochrome Image`.\n",
    "  - In this format each pixel is stored as 0 or 1, i.e. in a bit.\n",
    "  - The clarity/quality of 1 Bit Image is very low.<br>\n",
    "  <img src=\"Image Types\\1 bit image.jpeg\">\n",
    "  - This is an example of 1 Bit Image.\n",
    "  - <u><b>Pixel value 0 ⟹ White and 1 ⟹ Black</b></u>.\n",
    "2. <b>8 Bit Gray Level Image</b>:\n",
    "  - It is also know as a `Monochrome Image`.\n",
    "  - Each pixel is represented by a single byte (8 Bits)\n",
    "  $$Each \\ pixel \\ can \\ hold \\ 2^{8} = 256 \\ values$$\n",
    "  - The images in this type are exclusively composed of <u>*Gray Shades*</u>; where 0 is to represent `black color` {No Intensity/Brightness} and 255 is to represent `white color` {Full Intensity/Brightness}.\n",
    "  - In gray scale image the value of each pixel is a single sample, which carries intensity information. For e.g.\n",
    "    - Dark Pixel = 15 *{Dark Grey}*\n",
    "    - Light Pixel = 240 *{Dark White / Light Gray}*\n",
    "  - An image is represented using bit map. A bit map is a simple matrix of pixels that form an image which is either displayed on a computer screen or printed.\n",
    "  - Example of 8 Bit Gray Level Image:<br>\n",
    "  <img src=\"Image Types\\8 bit Gray level Images.jpeg\">\n",
    "3. <b>24 Bit Color Image</b>:\n",
    "  - In this each pixel of an image is represented using 3 bytes.\n",
    "  - Usually the 3 bytes represent RGB.\n",
    "  - A `true color` is defined to mean 256 shades of RGB for a total of 16.7 million color variations.\n",
    "  - These images provide a method of representing and storing a graphical image information in a RGB colorspace in its `true color`, which in turn allows for a large number of variations of color, shades &hues to be displayed and stored.\n",
    "  - The `24 Bit Image` is often stored as a `32 Bit Image`, where the extra byte is used to store an *`Alpha`* value for each pixel in the image. `Alpha` represents the special effect information for an image like transparency.\n",
    "  - Example of 24 Bit Color Image v/s 30 Bit Image:<br>\n",
    "  <img src=\"Image Types\\24 bit color images.jpeg\">\n",
    "\n",
    "  - Drawbacks:\n",
    "    - It requires a lot of storage space.\n",
    "    - Most monitors are only capable to display 256 colors at a time, so the rest of the colors are wasted.\n",
    "4. <b>8 Bit Color Image</b>:\n",
    "  - Each pixel is represented with 1 Byte (8 Bits).\n",
    "  - The maximum number of colors which can be displayed in this format is 256. (0-255).\n",
    "  - 8 Bit color graphics are of 2 forms:\n",
    "    - Form 1:\n",
    "      - In this form a color is not stored instead, an 8 Bit index is stored into the color map of each pixel inplace of the full 24 bit color value.\n",
    "      - In layman terms, Imagine you have a box of crayons with numbers on them. Instead of using names like “sky blue,” we just say “number 5.” In the same way, computers use a small number to pick a color from a list. This saves a lot of space, like using a shortcut.\n",
    "      - This format has 2 parts:\n",
    "        - A color map describing what colors are present in the image.\n",
    "        - An array of index values for each pixel in an image.\n",
    "    - Form 2:\n",
    "      - In this form the bifurcation of 8 Bits is as follows ⟶ {3 Red, 3 Green, 2 Blue}\n",
    "      - It is often called as the 8 Bit True color as it does not use the pallete wall.\n",
    "      - When a 24 bit full color image is turned into 8 Bit image, some colors have to be eliminated which is called as **COLOR QUANTIZATION** process.\n",
    "  - Example of 8 Bit color v/s 24 bit color:<br>\n",
    "  <img src=\"Image Types\\8 bit color image.png\">"
   ]
  },
  {
   "cell_type": "markdown",
   "metadata": {
    "id": "cJ4Eo2aT0Q0z"
   },
   "source": [
    "<h1>Color Spaces</h1>"
   ]
  },
  {
   "cell_type": "markdown",
   "metadata": {
    "id": "5iehFDvc0Qya"
   },
   "source": [
    "A color space refers to a specific organization of colors. It specifies the mapping between numeric values and specific colors which are called as <b>\"<u>primaries</u>\"</b> in that collor space.\n",
    "- A color space is basically the range of colors that a monitor can display/program can display as output.\n",
    "  - For e.g. RGB16, CMYK 100, etc.\n",
    "    - `RGB16` is basically 16 bit RGB ⟹ almost 280 Trillion colors.\n",
    "- Images with different color spaces cannot be mixed together equally or printed.\n",
    "- Some of the most commonly used color spaces are:\n",
    "  - RGB (Red, Green, Blue) ⟶ This color space is used for website images and monitor display.<br>\n",
    " <img src=\"Image Types\\RGB color space.jpg\">\n",
    "  - CMYK (Cyan, Magenta, Yellow, Key) ⟶ This color space is used for printing as it is better at capturing the larger color variations.<br>\n",
    "  <img src=\"Image Types\\cmyk.png\">\n",
    "  - HSV (Hue, Saturation, Value) ⟶ This color space is the best when it comes to editing photos and videos. It is good because it is able to separate out lightness variations from the hue and saturation variations.<br>\n",
    "  <img src=\"Image Types\\hsv.png\">"
   ]
  },
  {
   "cell_type": "markdown",
   "metadata": {
    "id": "1CU6izrVLGwF"
   },
   "source": [
    "<h2>Additive and Subtractive Color Spaces</h2>\n",
    "\n",
    "- Additive color spaces are obtained by emitting the light. For e.g. RGB is an additive color space as combining R+G+B = white\n",
    "\n",
    "- Subtractive color spaces are obtained by absorbing the light. For e.g. CMYK is a subtractive color space as combining C+M+Y = Black. *{The black is not so convincing so `Key` is also used}*\n",
    "\n",
    "<img src=\"Image Types\\types of color spaces.jpg\">"
   ]
  },
  {
   "cell_type": "markdown",
   "metadata": {
    "id": "nlqAsLi50Qvf"
   },
   "source": [
    "<b><u><h1>CONTRAST V/S CLARITY V/S SHARPNESS</h1></u></b>"
   ]
  },
  {
   "cell_type": "markdown",
   "metadata": {
    "id": "PTd_Thhu0Qs4"
   },
   "source": [
    "<h2>Contrast</h2>\n",
    "\n",
    "- It is used to adjust the overall tonal range of photo.\n",
    "- In layman terms it makes lights (light colors) lighter and darks (dark colors) darker.\n",
    "\n",
    "<img src=\"Image Types\\contrast.png\">"
   ]
  },
  {
   "cell_type": "markdown",
   "metadata": {
    "id": "kTPLsqY90Qqg"
   },
   "source": [
    "<h2>Clarity</h2>\n",
    "\n",
    "It is used to adjust the mid-tones of the photo.\n",
    "\n",
    "<img src=\"Image Types\\clarity.png\">"
   ]
  },
  {
   "cell_type": "markdown",
   "metadata": {
    "id": "aZF-24_T0Qnr"
   },
   "source": [
    "<h2>Sharpness</h2>\n",
    "\n",
    "It deals at the pixel level and makes the contrast between each pixel more or less pronounced based upon the parameter or value given to it.\n",
    "\n",
    "<img src=\"Image Types\\sharpening.jpeg\">"
   ]
  },
  {
   "cell_type": "markdown",
   "metadata": {
    "id": "4nlnrtzE0QlE"
   },
   "source": [
    "<h1>IMAGE FILE FORMATS</h1>"
   ]
  },
  {
   "cell_type": "markdown",
   "metadata": {
    "id": "aV-nH8s-0QiZ"
   },
   "source": [
    "There are many kinds of formats available to store images. Some of them are:"
   ]
  },
  {
   "cell_type": "markdown",
   "metadata": {
    "id": "p0Wv_NJT0Qfz"
   },
   "source": [
    "1. GIF (Graphical Interchange Format)\n",
    "  - It was created by compuserve and supports 256 colors. It does so by creating a table of 256 colors from a pool of 16 million colors.\n",
    "  - It renders images without any quality loss. In case there are multiple colors, it uses an algorithm to match the colors of the image with the pallete of optimum set of 256 colors.\n",
    "  - It is lossless for images with less than 256 colors and in case of rich, true color image it looses 99% of the colors.\n",
    "\n",
    "2. JPEG (Joint Photgraphic Experts Group)\n",
    "  - The bitmapped image in JPEG stores information as 24 bit color.\n",
    "  - Most widely used format across multiple fields.\n",
    "  - It uses lossy compression in order to make file size small.\n",
    "  - Not good for tasks involving animation, transparency, simple cartoons, etc.\n",
    "\n",
    "3. PNG (Portable Network Graphics)\n",
    "  - It supports lossless format which is also supported by web browsers.\n",
    "  - It supports 8-bit, 24-bit, 32-bit and 48-bit data types.\n",
    "\n",
    "4. TIFF (Tagged Image File Format)\n",
    "  - Developed by Aldus Corp in 1980 and later supported by Microsoft. Currently it is used and controlled by Adobe.\n",
    "  - It is used by many editing applications as it can store 1-bit grayscale to higher bit RGB.\n",
    "  - It originally used lossless compression but now it can also do lossy compression if needed.\n",
    "\n",
    "Some other formats if you wish to explore:\n",
    "- BMP (Bit Map)\n",
    "- EPS (Encapsulated Post Script)\n",
    "- PDF (Portable Document Format)\n",
    "- EXIF (Exchange Image File)\n",
    "- WMF (Windows Media File)\n",
    "- PICT (used in Mac, but is prone to corruption)\n",
    "- Photoshop (Adobe Proprietary)\n",
    "- HEIC (High Efficiency Image Container) *{Used widely in smartphones}*"
   ]
  },
  {
   "cell_type": "markdown",
   "metadata": {
    "id": "N6Eb6OMs0Qc3"
   },
   "source": [
    "<h1>IMAGE TASKS</h1>"
   ]
  },
  {
   "cell_type": "markdown",
   "metadata": {
    "id": "OX6YgKOH0QZ7"
   },
   "source": [
    "<h2>Image Recognition/Classification</h2>\n",
    "\n",
    "It is the task of identifying images and categorizing them into one of the several predefined classes.\n",
    "<br>\n",
    "\n",
    "**THE FIELD OF STUDY AIMED AT ENABLING MACHINES WITH THIS ABILITY IS CALLED COMPUTER VISION**"
   ]
  },
  {
   "cell_type": "markdown",
   "metadata": {
    "id": "DrB8nbq40QXB"
   },
   "source": [
    "<h2>Image Classification With Localization</h2>\n",
    "\n",
    "The task is to place an image in a given class and drawing a bounding box around the object to show where it is located in the image."
   ]
  },
  {
   "cell_type": "markdown",
   "metadata": {
    "id": "K5mOLSDz0QUW"
   },
   "source": [
    "<h2>Object Detection</h2>\n",
    "\n",
    "The task is to categorize multiple different objects in an image and showing the location of each one of them by drawing bounding boxes around them.\n",
    "- In layman terms, it is basically doing image classification with localization for multiple objects in the same image."
   ]
  },
  {
   "cell_type": "markdown",
   "metadata": {
    "id": "LgfdzLif0QRa"
   },
   "source": [
    "<h2>Semantic Segmentation</h2>\n",
    "\n",
    "The task is to to identify specific pixels belonging to each object in an image instead of drawing bounding boxes around each object as in object detection."
   ]
  },
  {
   "cell_type": "markdown",
   "metadata": {
    "id": "h0FovxcF0QOp"
   },
   "source": [
    "<h2>Instance Segmentation</h2>\n",
    "\n",
    "The task is to differentiate multiple objects/instances belonging to the same class."
   ]
  },
  {
   "cell_type": "markdown",
   "metadata": {
    "id": "dSCut2h80QLB"
   },
   "source": [
    "<img src=\"Image Types\\image tasks.png\">\n",
    "<br>\n",
    "<img src=\"Image Types\\image tasks 2.png\">"
   ]
  }
 ],
 "metadata": {
  "colab": {
   "authorship_tag": "ABX9TyNk0rLD1xF5dVfQDxgadGqK",
   "provenance": []
  },
  "kernelspec": {
   "display_name": "Python 3 (ipykernel)",
   "language": "python",
   "name": "python3"
  },
  "language_info": {
   "codemirror_mode": {
    "name": "ipython",
    "version": 3
   },
   "file_extension": ".py",
   "mimetype": "text/x-python",
   "name": "python",
   "nbconvert_exporter": "python",
   "pygments_lexer": "ipython3",
   "version": "3.10.0"
  }
 },
 "nbformat": 4,
 "nbformat_minor": 4
}
