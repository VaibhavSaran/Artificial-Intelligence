{
 "cells": [
  {
   "cell_type": "code",
   "execution_count": 1,
   "id": "78a2caee",
   "metadata": {},
   "outputs": [],
   "source": [
    "import numpy as np\n",
    "import matplotlib.pyplot as plt\n",
    "from tensorflow import keras\n",
    "from tensorflow.keras.models import Sequential\n",
    "from tensorflow.keras.layers import Dense,Dropout,BatchNormalization,Flatten\n",
    "from keras.callbacks import TensorBoard\n",
    "import keras_tuner"
   ]
  },
  {
   "cell_type": "code",
   "execution_count": 13,
   "id": "b87584b4",
   "metadata": {},
   "outputs": [
    {
     "data": {
      "text/plain": [
       "(404, 13)"
      ]
     },
     "execution_count": 13,
     "metadata": {},
     "output_type": "execute_result"
    }
   ],
   "source": [
    "x_train.shape"
   ]
  },
  {
   "cell_type": "code",
   "execution_count": 9,
   "id": "89c6c886",
   "metadata": {},
   "outputs": [
    {
     "name": "stdout",
     "output_type": "stream",
     "text": [
      "Downloading data from https://storage.googleapis.com/tensorflow/tf-keras-datasets/boston_housing.npz\n",
      "57026/57026 [==============================] - 0s 1us/step\n"
     ]
    }
   ],
   "source": [
    "(x_train, y_train), (x_test, y_test) = keras.datasets.boston_housing.load_data()"
   ]
  },
  {
   "cell_type": "code",
   "execution_count": 12,
   "id": "98bd0c6a",
   "metadata": {},
   "outputs": [],
   "source": [
    "x_train=x_train/255\n",
    "x_test=x_test/255"
   ]
  },
  {
   "cell_type": "code",
   "execution_count": 15,
   "id": "c6405fe3",
   "metadata": {},
   "outputs": [],
   "source": [
    "# Training a simple network\n",
    "model=Sequential()\n",
    "model.add(Dense(10,activation=\"relu\",input_dim=13))\n",
    "model.add(Dense(1,activation=\"linear\"))\n",
    "model.compile(optimizer=\"Adam\",loss=\"mae\",metrics=[\"mae\"])"
   ]
  },
  {
   "cell_type": "code",
   "execution_count": 17,
   "id": "abe850d6",
   "metadata": {},
   "outputs": [
    {
     "name": "stdout",
     "output_type": "stream",
     "text": [
      "Epoch 1/10\n",
      "11/11 [==============================] - 2s 40ms/step - loss: 23.2999 - mae: 23.2999 - val_loss: 24.7949 - val_mae: 24.7949\n",
      "Epoch 2/10\n",
      "11/11 [==============================] - 0s 43ms/step - loss: 23.1832 - mae: 23.1832 - val_loss: 24.6812 - val_mae: 24.6812\n",
      "Epoch 3/10\n",
      "11/11 [==============================] - 0s 23ms/step - loss: 23.0717 - mae: 23.0717 - val_loss: 24.5734 - val_mae: 24.5734\n",
      "Epoch 4/10\n",
      "11/11 [==============================] - 0s 20ms/step - loss: 22.9662 - mae: 22.9662 - val_loss: 24.4718 - val_mae: 24.4718\n",
      "Epoch 5/10\n",
      "11/11 [==============================] - 0s 20ms/step - loss: 22.8667 - mae: 22.8667 - val_loss: 24.3753 - val_mae: 24.3753\n",
      "Epoch 6/10\n",
      "11/11 [==============================] - 0s 24ms/step - loss: 22.7717 - mae: 22.7717 - val_loss: 24.2834 - val_mae: 24.2834\n",
      "Epoch 7/10\n",
      "11/11 [==============================] - 0s 20ms/step - loss: 22.6814 - mae: 22.6814 - val_loss: 24.1954 - val_mae: 24.1954\n",
      "Epoch 8/10\n",
      "11/11 [==============================] - 0s 23ms/step - loss: 22.5958 - mae: 22.5958 - val_loss: 24.1117 - val_mae: 24.1117\n",
      "Epoch 9/10\n",
      "11/11 [==============================] - 0s 20ms/step - loss: 22.5144 - mae: 22.5144 - val_loss: 24.0320 - val_mae: 24.0320\n",
      "Epoch 10/10\n",
      "11/11 [==============================] - 0s 24ms/step - loss: 22.4382 - mae: 22.4382 - val_loss: 23.9582 - val_mae: 23.9582\n"
     ]
    },
    {
     "data": {
      "text/plain": [
       "<keras.callbacks.History at 0x230894b7880>"
      ]
     },
     "execution_count": 17,
     "metadata": {},
     "output_type": "execute_result"
    }
   ],
   "source": [
    "model.fit(x_train,y_train,epochs=10,validation_split=0.2)"
   ]
  },
  {
   "cell_type": "code",
   "execution_count": 49,
   "id": "ba362bd0",
   "metadata": {},
   "outputs": [],
   "source": [
    "def models1(par):\n",
    "    model=Sequential()\n",
    "    model.add(Flatten(input_shape=(28,28)))\n",
    "    model.add(Dense(par.Int(\"nu_neuron\",1,100),activation=par.Choice(\"activatio_c\",values=[\"sigmoid\",\"tanh\",\"relu\"])))\n",
    "    model.add(Dropout(par.Choice(\"dprate\",values=[0.1,0.2,0.3,0.4,0.5,0.6,0.7,0.8,0.9])))\n",
    "    model.add(Dense(10,activation=\"softmax\"))\n",
    "    model.compile(optimizer=par.Choice(\"opt\",values=[\"sgd\",\"rmsprop\"]),loss=\"sparse_categorical_crossentropy\",metrics=[\"accuracy\"])\n",
    "    return model"
   ]
  },
  {
   "cell_type": "code",
   "execution_count": 53,
   "id": "31e456cc",
   "metadata": {},
   "outputs": [],
   "source": [
    "robj=keras_tuner.RandomSearch(models1,objective=\"val_accuracy\",max_trials=5,directory=r\"C:\\Users\\LENOVO\\Pictures\\logs6\")"
   ]
  },
  {
   "cell_type": "code",
   "execution_count": 54,
   "id": "d954c738",
   "metadata": {},
   "outputs": [
    {
     "name": "stdout",
     "output_type": "stream",
     "text": [
      "Trial 5 Complete [00h 00m 43s]\n",
      "val_accuracy: 0.9484999775886536\n",
      "\n",
      "Best val_accuracy So Far: 0.9610000252723694\n",
      "Total elapsed time: 00h 03m 44s\n",
      "INFO:tensorflow:Oracle triggered exit\n"
     ]
    }
   ],
   "source": [
    "robj.search(x_train,y_train,epochs=2,validation_data=(x_test,y_test))"
   ]
  },
  {
   "cell_type": "code",
   "execution_count": 55,
   "id": "1506afc2",
   "metadata": {},
   "outputs": [
    {
     "data": {
      "text/plain": [
       "{'nu_neuron': 77, 'activatio_c': 'tanh', 'opt': 'rmsprop'}"
      ]
     },
     "execution_count": 55,
     "metadata": {},
     "output_type": "execute_result"
    }
   ],
   "source": [
    "robj.get_best_hyperparameters()[0].values"
   ]
  },
  {
   "cell_type": "code",
   "execution_count": 56,
   "id": "4bb2e254",
   "metadata": {},
   "outputs": [],
   "source": [
    "finalmodel=robj.get_best_models(num_models=1)[0]"
   ]
  },
  {
   "cell_type": "code",
   "execution_count": 57,
   "id": "8c8e7566",
   "metadata": {},
   "outputs": [
    {
     "name": "stdout",
     "output_type": "stream",
     "text": [
      "Model: \"sequential\"\n",
      "_________________________________________________________________\n",
      " Layer (type)                Output Shape              Param #   \n",
      "=================================================================\n",
      " flatten (Flatten)           (None, 784)               0         \n",
      "                                                                 \n",
      " dense (Dense)               (None, 77)                60445     \n",
      "                                                                 \n",
      " dense_1 (Dense)             (None, 10)                780       \n",
      "                                                                 \n",
      "=================================================================\n",
      "Total params: 61,225\n",
      "Trainable params: 61,225\n",
      "Non-trainable params: 0\n",
      "_________________________________________________________________\n"
     ]
    }
   ],
   "source": [
    "finalmodel.summary()"
   ]
  },
  {
   "cell_type": "code",
   "execution_count": 58,
   "id": "65903ccd",
   "metadata": {},
   "outputs": [],
   "source": [
    "finalmodel.compile(optimizer='adam',loss=\"sparse_categorical_crossentropy\",metrics=[\"accuracy\"])"
   ]
  },
  {
   "cell_type": "code",
   "execution_count": 59,
   "id": "d4241929",
   "metadata": {},
   "outputs": [
    {
     "name": "stdout",
     "output_type": "stream",
     "text": [
      "Epoch 1/50\n",
      "420/420 [==============================] - 6s 12ms/step - loss: 0.1198 - accuracy: 0.9655 - val_loss: 0.1160 - val_accuracy: 0.9674\n",
      "Epoch 2/50\n",
      "420/420 [==============================] - 8s 18ms/step - loss: 0.0996 - accuracy: 0.9722 - val_loss: 0.1114 - val_accuracy: 0.9677\n",
      "Epoch 3/50\n",
      "420/420 [==============================] - 6s 14ms/step - loss: 0.0855 - accuracy: 0.9769 - val_loss: 0.1055 - val_accuracy: 0.9696\n",
      "Epoch 4/50\n",
      "420/420 [==============================] - 6s 14ms/step - loss: 0.0735 - accuracy: 0.9801 - val_loss: 0.1058 - val_accuracy: 0.9688\n",
      "Epoch 5/50\n",
      "420/420 [==============================] - 6s 14ms/step - loss: 0.0645 - accuracy: 0.9828 - val_loss: 0.1002 - val_accuracy: 0.9702\n",
      "Epoch 6/50\n",
      "420/420 [==============================] - 6s 13ms/step - loss: 0.0561 - accuracy: 0.9859 - val_loss: 0.1001 - val_accuracy: 0.9706\n",
      "Epoch 7/50\n",
      "420/420 [==============================] - 6s 14ms/step - loss: 0.0490 - accuracy: 0.9879 - val_loss: 0.1009 - val_accuracy: 0.9698\n",
      "Epoch 8/50\n",
      "420/420 [==============================] - 6s 14ms/step - loss: 0.0431 - accuracy: 0.9900 - val_loss: 0.0985 - val_accuracy: 0.9709\n",
      "Epoch 9/50\n",
      "420/420 [==============================] - 6s 14ms/step - loss: 0.0378 - accuracy: 0.9910 - val_loss: 0.0977 - val_accuracy: 0.9707\n",
      "Epoch 10/50\n",
      "420/420 [==============================] - 6s 15ms/step - loss: 0.0329 - accuracy: 0.9933 - val_loss: 0.0956 - val_accuracy: 0.9721\n",
      "Epoch 11/50\n",
      "420/420 [==============================] - 7s 16ms/step - loss: 0.0291 - accuracy: 0.9940 - val_loss: 0.0969 - val_accuracy: 0.9709\n",
      "Epoch 12/50\n",
      "420/420 [==============================] - 6s 14ms/step - loss: 0.0256 - accuracy: 0.9950 - val_loss: 0.1005 - val_accuracy: 0.9704\n",
      "Epoch 13/50\n",
      "420/420 [==============================] - 6s 15ms/step - loss: 0.0219 - accuracy: 0.9963 - val_loss: 0.1008 - val_accuracy: 0.9703\n",
      "Epoch 14/50\n",
      "420/420 [==============================] - 6s 15ms/step - loss: 0.0189 - accuracy: 0.9975 - val_loss: 0.1000 - val_accuracy: 0.9719\n",
      "Epoch 15/50\n",
      "420/420 [==============================] - 6s 15ms/step - loss: 0.0165 - accuracy: 0.9979 - val_loss: 0.1013 - val_accuracy: 0.9709\n",
      "Epoch 16/50\n",
      "420/420 [==============================] - 6s 15ms/step - loss: 0.0145 - accuracy: 0.9983 - val_loss: 0.1017 - val_accuracy: 0.9712\n",
      "Epoch 17/50\n",
      "420/420 [==============================] - 6s 15ms/step - loss: 0.0127 - accuracy: 0.9986 - val_loss: 0.1032 - val_accuracy: 0.9714\n",
      "Epoch 18/50\n",
      "420/420 [==============================] - 6s 15ms/step - loss: 0.0108 - accuracy: 0.9990 - val_loss: 0.1056 - val_accuracy: 0.9716\n",
      "Epoch 19/50\n",
      "420/420 [==============================] - 11s 25ms/step - loss: 0.0092 - accuracy: 0.9995 - val_loss: 0.1055 - val_accuracy: 0.9716\n",
      "Epoch 20/50\n",
      "420/420 [==============================] - 6s 14ms/step - loss: 0.0078 - accuracy: 0.9995 - val_loss: 0.1083 - val_accuracy: 0.9711\n",
      "Epoch 21/50\n",
      "420/420 [==============================] - 6s 13ms/step - loss: 0.0072 - accuracy: 0.9997 - val_loss: 0.1083 - val_accuracy: 0.9705\n",
      "Epoch 22/50\n",
      "420/420 [==============================] - 5s 12ms/step - loss: 0.0060 - accuracy: 0.9997 - val_loss: 0.1106 - val_accuracy: 0.9713\n",
      "Epoch 23/50\n",
      "420/420 [==============================] - 5s 12ms/step - loss: 0.0051 - accuracy: 0.9999 - val_loss: 0.1115 - val_accuracy: 0.9714\n",
      "Epoch 24/50\n",
      "420/420 [==============================] - 5s 12ms/step - loss: 0.0044 - accuracy: 0.9999 - val_loss: 0.1132 - val_accuracy: 0.9712\n",
      "Epoch 25/50\n",
      "420/420 [==============================] - 5s 12ms/step - loss: 0.0038 - accuracy: 0.9999 - val_loss: 0.1155 - val_accuracy: 0.9706\n",
      "Epoch 26/50\n",
      "420/420 [==============================] - 5s 12ms/step - loss: 0.0033 - accuracy: 1.0000 - val_loss: 0.1165 - val_accuracy: 0.9703\n",
      "Epoch 27/50\n",
      "420/420 [==============================] - 5s 12ms/step - loss: 0.0029 - accuracy: 1.0000 - val_loss: 0.1178 - val_accuracy: 0.9708\n",
      "Epoch 28/50\n",
      "420/420 [==============================] - 5s 12ms/step - loss: 0.0025 - accuracy: 1.0000 - val_loss: 0.1216 - val_accuracy: 0.9708\n",
      "Epoch 29/50\n",
      "420/420 [==============================] - 5s 12ms/step - loss: 0.0024 - accuracy: 1.0000 - val_loss: 0.1215 - val_accuracy: 0.9708\n",
      "Epoch 30/50\n",
      "420/420 [==============================] - 5s 12ms/step - loss: 0.0019 - accuracy: 1.0000 - val_loss: 0.1251 - val_accuracy: 0.9706\n",
      "Epoch 31/50\n",
      "420/420 [==============================] - 5s 12ms/step - loss: 0.0018 - accuracy: 1.0000 - val_loss: 0.1277 - val_accuracy: 0.9701\n",
      "Epoch 32/50\n",
      "420/420 [==============================] - 5s 13ms/step - loss: 0.0015 - accuracy: 1.0000 - val_loss: 0.1304 - val_accuracy: 0.9699\n",
      "Epoch 33/50\n",
      "420/420 [==============================] - 7s 16ms/step - loss: 0.0013 - accuracy: 1.0000 - val_loss: 0.1305 - val_accuracy: 0.9701\n",
      "Epoch 34/50\n",
      "420/420 [==============================] - 5s 12ms/step - loss: 9.8065e-04 - accuracy: 1.0000 - val_loss: 0.1301 - val_accuracy: 0.9713\n",
      "Epoch 35/50\n",
      "420/420 [==============================] - 2s 5ms/step - loss: 8.4621e-04 - accuracy: 1.0000 - val_loss: 0.1320 - val_accuracy: 0.9714\n",
      "Epoch 36/50\n",
      "420/420 [==============================] - 2s 5ms/step - loss: 0.0061 - accuracy: 0.9983 - val_loss: 0.1517 - val_accuracy: 0.9666\n",
      "Epoch 37/50\n",
      "420/420 [==============================] - 2s 5ms/step - loss: 0.0034 - accuracy: 0.9994 - val_loss: 0.1376 - val_accuracy: 0.9699\n",
      "Epoch 38/50\n",
      "420/420 [==============================] - 2s 5ms/step - loss: 8.2016e-04 - accuracy: 1.0000 - val_loss: 0.1362 - val_accuracy: 0.9705\n",
      "Epoch 39/50\n",
      "420/420 [==============================] - 3s 6ms/step - loss: 6.2669e-04 - accuracy: 1.0000 - val_loss: 0.1365 - val_accuracy: 0.9704\n",
      "Epoch 40/50\n",
      "420/420 [==============================] - 2s 5ms/step - loss: 5.5244e-04 - accuracy: 1.0000 - val_loss: 0.1370 - val_accuracy: 0.9709\n",
      "Epoch 41/50\n",
      "420/420 [==============================] - 2s 5ms/step - loss: 4.9727e-04 - accuracy: 1.0000 - val_loss: 0.1379 - val_accuracy: 0.9705\n",
      "Epoch 42/50\n",
      "420/420 [==============================] - 2s 5ms/step - loss: 4.5066e-04 - accuracy: 1.0000 - val_loss: 0.1387 - val_accuracy: 0.9711\n",
      "Epoch 43/50\n",
      "420/420 [==============================] - 2s 5ms/step - loss: 4.1760e-04 - accuracy: 1.0000 - val_loss: 0.1408 - val_accuracy: 0.9711\n",
      "Epoch 44/50\n",
      "420/420 [==============================] - 2s 5ms/step - loss: 3.7890e-04 - accuracy: 1.0000 - val_loss: 0.1411 - val_accuracy: 0.9714\n",
      "Epoch 45/50\n",
      "420/420 [==============================] - 2s 5ms/step - loss: 3.5039e-04 - accuracy: 1.0000 - val_loss: 0.1425 - val_accuracy: 0.9710\n",
      "Epoch 46/50\n",
      "420/420 [==============================] - 7s 17ms/step - loss: 3.2113e-04 - accuracy: 1.0000 - val_loss: 0.1439 - val_accuracy: 0.9709\n",
      "Epoch 47/50\n",
      "420/420 [==============================] - 7s 18ms/step - loss: 2.9429e-04 - accuracy: 1.0000 - val_loss: 0.1469 - val_accuracy: 0.9707\n",
      "Epoch 48/50\n",
      "420/420 [==============================] - 7s 17ms/step - loss: 2.6436e-04 - accuracy: 1.0000 - val_loss: 0.1475 - val_accuracy: 0.9704\n",
      "Epoch 49/50\n",
      "420/420 [==============================] - 6s 15ms/step - loss: 2.4504e-04 - accuracy: 1.0000 - val_loss: 0.1488 - val_accuracy: 0.9716\n",
      "Epoch 50/50\n",
      "420/420 [==============================] - 6s 15ms/step - loss: 0.0059 - accuracy: 0.9980 - val_loss: 0.1623 - val_accuracy: 0.9664\n"
     ]
    },
    {
     "data": {
      "text/plain": [
       "<keras.callbacks.History at 0x25d169ebc70>"
      ]
     },
     "execution_count": 59,
     "metadata": {},
     "output_type": "execute_result"
    }
   ],
   "source": [
    "finalmodel.fit(x_train,y_train,epochs=50,batch_size=100,validation_split=0.3)"
   ]
  },
  {
   "cell_type": "code",
   "execution_count": 45,
   "id": "e4d2af5b",
   "metadata": {},
   "outputs": [
    {
     "data": {
      "text/plain": [
       "(10000, 28, 28)"
      ]
     },
     "execution_count": 45,
     "metadata": {},
     "output_type": "execute_result"
    }
   ],
   "source": [
    "x_test.shape"
   ]
  },
  {
   "cell_type": "code",
   "execution_count": 4,
   "id": "dd39bccb",
   "metadata": {},
   "outputs": [],
   "source": [
    "def models1(par):\n",
    "    model=Sequential()\n",
    "    model.add(Flatten(input_shape=(28,28,)))\n",
    "    \n",
    "    x=0\n",
    "    for y in range(par.Int(\"hiddenlayers\",2,100)):\n",
    "        model.add(Dense(par.Int(\"neuron{}\".format(x),2,50),activation=par.Choice(\"ac\",value=[\"relu\",\"sigmoid\"]))\n",
    "        x+=1\n",
    "        \n",
    "    \n",
    "    model.add(Dense(10,activation=\"softmax\"))\n",
    "    model.compile(optimizer=par.Choice(\"opt\",values=[\"sgd\",\"rmsprop\"]),loss=\"sparse_categorical_crossentropy\",metrics=[\"accuracy\"])\n",
    "    return model"
   ]
  },
  {
   "cell_type": "code",
   "execution_count": 5,
   "id": "6f0936a8",
   "metadata": {},
   "outputs": [],
   "source": [
    "robj=keras_tuner.Hyperband(models1,objective=\"val_accuracy\",max_trials=7,directory=r\"C:\\Users\\LENOVO\\Pictures\\logs50\")"
   ]
  },
  {
   "cell_type": "code",
   "execution_count": 6,
   "id": "01e3698a",
   "metadata": {},
   "outputs": [
    {
     "name": "stdout",
     "output_type": "stream",
     "text": [
      "Trial 7 Complete [00h 03m 13s]\n",
      "val_accuracy: 0.11349999904632568\n",
      "\n",
      "Best val_accuracy So Far: 0.11349999904632568\n",
      "Total elapsed time: 00h 18m 53s\n",
      "INFO:tensorflow:Oracle triggered exit\n"
     ]
    }
   ],
   "source": [
    "robj.search(x_train,y_train,epochs=30,validation_data=(x_test,y_test))"
   ]
  },
  {
   "cell_type": "code",
   "execution_count": 7,
   "id": "add6a096",
   "metadata": {},
   "outputs": [],
   "source": [
    "finalmodel=robj.get_best_models(num_models=1)[0]"
   ]
  },
  {
   "cell_type": "code",
   "execution_count": 8,
   "id": "ea60d021",
   "metadata": {},
   "outputs": [
    {
     "name": "stdout",
     "output_type": "stream",
     "text": [
      "Model: \"sequential\"\n",
      "_________________________________________________________________\n",
      " Layer (type)                Output Shape              Param #   \n",
      "=================================================================\n",
      " flatten (Flatten)           (None, 784)               0         \n",
      "                                                                 \n",
      " dense (Dense)               (None, 26)                20410     \n",
      "                                                                 \n",
      " dense_1 (Dense)             (None, 4)                 108       \n",
      "                                                                 \n",
      " dense_2 (Dense)             (None, 2)                 10        \n",
      "                                                                 \n",
      " dense_3 (Dense)             (None, 2)                 6         \n",
      "                                                                 \n",
      " dense_4 (Dense)             (None, 2)                 6         \n",
      "                                                                 \n",
      " dense_5 (Dense)             (None, 2)                 6         \n",
      "                                                                 \n",
      " dense_6 (Dense)             (None, 2)                 6         \n",
      "                                                                 \n",
      " dense_7 (Dense)             (None, 2)                 6         \n",
      "                                                                 \n",
      " dense_8 (Dense)             (None, 2)                 6         \n",
      "                                                                 \n",
      " dense_9 (Dense)             (None, 2)                 6         \n",
      "                                                                 \n",
      " dense_10 (Dense)            (None, 2)                 6         \n",
      "                                                                 \n",
      " dense_11 (Dense)            (None, 2)                 6         \n",
      "                                                                 \n",
      " dense_12 (Dense)            (None, 2)                 6         \n",
      "                                                                 \n",
      " dense_13 (Dense)            (None, 2)                 6         \n",
      "                                                                 \n",
      " dense_14 (Dense)            (None, 2)                 6         \n",
      "                                                                 \n",
      " dense_15 (Dense)            (None, 2)                 6         \n",
      "                                                                 \n",
      " dense_16 (Dense)            (None, 2)                 6         \n",
      "                                                                 \n",
      " dense_17 (Dense)            (None, 2)                 6         \n",
      "                                                                 \n",
      " dense_18 (Dense)            (None, 2)                 6         \n",
      "                                                                 \n",
      " dense_19 (Dense)            (None, 2)                 6         \n",
      "                                                                 \n",
      " dense_20 (Dense)            (None, 2)                 6         \n",
      "                                                                 \n",
      " dense_21 (Dense)            (None, 2)                 6         \n",
      "                                                                 \n",
      " dense_22 (Dense)            (None, 2)                 6         \n",
      "                                                                 \n",
      " dense_23 (Dense)            (None, 2)                 6         \n",
      "                                                                 \n",
      " dense_24 (Dense)            (None, 2)                 6         \n",
      "                                                                 \n",
      " dense_25 (Dense)            (None, 2)                 6         \n",
      "                                                                 \n",
      " dense_26 (Dense)            (None, 2)                 6         \n",
      "                                                                 \n",
      " dense_27 (Dense)            (None, 2)                 6         \n",
      "                                                                 \n",
      " dense_28 (Dense)            (None, 2)                 6         \n",
      "                                                                 \n",
      " dense_29 (Dense)            (None, 2)                 6         \n",
      "                                                                 \n",
      " dense_30 (Dense)            (None, 2)                 6         \n",
      "                                                                 \n",
      " dense_31 (Dense)            (None, 2)                 6         \n",
      "                                                                 \n",
      " dense_32 (Dense)            (None, 2)                 6         \n",
      "                                                                 \n",
      " dense_33 (Dense)            (None, 2)                 6         \n",
      "                                                                 \n",
      " dense_34 (Dense)            (None, 2)                 6         \n",
      "                                                                 \n",
      " dense_35 (Dense)            (None, 2)                 6         \n",
      "                                                                 \n",
      " dense_36 (Dense)            (None, 2)                 6         \n",
      "                                                                 \n",
      " dense_37 (Dense)            (None, 2)                 6         \n",
      "                                                                 \n",
      " dense_38 (Dense)            (None, 2)                 6         \n",
      "                                                                 \n",
      " dense_39 (Dense)            (None, 2)                 6         \n",
      "                                                                 \n",
      " dense_40 (Dense)            (None, 2)                 6         \n",
      "                                                                 \n",
      " dense_41 (Dense)            (None, 2)                 6         \n",
      "                                                                 \n",
      " dense_42 (Dense)            (None, 2)                 6         \n",
      "                                                                 \n",
      " dense_43 (Dense)            (None, 2)                 6         \n",
      "                                                                 \n",
      " dense_44 (Dense)            (None, 2)                 6         \n",
      "                                                                 \n",
      " dense_45 (Dense)            (None, 2)                 6         \n",
      "                                                                 \n",
      " dense_46 (Dense)            (None, 2)                 6         \n",
      "                                                                 \n",
      " dense_47 (Dense)            (None, 2)                 6         \n",
      "                                                                 \n",
      " dense_48 (Dense)            (None, 2)                 6         \n",
      "                                                                 \n",
      " dense_49 (Dense)            (None, 2)                 6         \n",
      "                                                                 \n",
      " dense_50 (Dense)            (None, 2)                 6         \n",
      "                                                                 \n",
      " dense_51 (Dense)            (None, 2)                 6         \n",
      "                                                                 \n",
      " dense_52 (Dense)            (None, 10)                30        \n",
      "                                                                 \n",
      "=================================================================\n",
      "Total params: 20,852\n",
      "Trainable params: 20,852\n",
      "Non-trainable params: 0\n",
      "_________________________________________________________________\n"
     ]
    }
   ],
   "source": [
    "finalmodel.summary()"
   ]
  },
  {
   "cell_type": "code",
   "execution_count": null,
   "id": "121df1a0",
   "metadata": {},
   "outputs": [],
   "source": [
    "model.fit(x_train,y_train,epochs=200)"
   ]
  }
 ],
 "metadata": {
  "kernelspec": {
   "display_name": "Python 3 (ipykernel)",
   "language": "python",
   "name": "python3"
  },
  "language_info": {
   "codemirror_mode": {
    "name": "ipython",
    "version": 3
   },
   "file_extension": ".py",
   "mimetype": "text/x-python",
   "name": "python",
   "nbconvert_exporter": "python",
   "pygments_lexer": "ipython3",
   "version": "3.8.10"
  }
 },
 "nbformat": 4,
 "nbformat_minor": 5
}
