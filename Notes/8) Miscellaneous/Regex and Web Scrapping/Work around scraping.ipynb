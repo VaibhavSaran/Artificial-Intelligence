{
 "cells": [
  {
   "cell_type": "code",
   "execution_count": 2,
   "id": "742127fb-efcb-4382-9172-44b48f2a65e3",
   "metadata": {},
   "outputs": [],
   "source": [
    "import re\n",
    "from bs4 import BeautifulSoup\n",
    "import requests"
   ]
  },
  {
   "cell_type": "code",
   "execution_count": 6,
   "id": "2ee7aa49-cbd3-4364-bb18-e1c95b49b272",
   "metadata": {},
   "outputs": [],
   "source": [
    "URL=\"https://www.flipkart.com/yonex-mavis-350-nylon-shuttle-yellow/product-reviews/itmfcjdyhnghfyey?pid=STLEFJ7UFQGRUUR3&lid=LSTSTLEFJ7UFQGRUUR3SUDA2S&marketplace=FLIPKART&page=\""
   ]
  },
  {
   "cell_type": "code",
   "execution_count": 7,
   "id": "04362b81-4e54-41fc-a9ae-063ace21f3d6",
   "metadata": {},
   "outputs": [
    {
     "name": "stdout",
     "output_type": "stream",
     "text": [
      "<Response [200]>\n"
     ]
    }
   ],
   "source": [
    "request_header = {'Content-Type': 'text/html; charset=UTF-8', \n",
    "                  'User-Agent': 'Mozilla/5.0 (Windows NT 10.0; Win64; x64; rv:109.0) Gecko/20100101 Firefox/119.0', \n",
    "                  'Accept-Encoding': 'gzip, deflate, br'}\n",
    "\n",
    "response = requests.get(URL, headers=request_header)\n",
    "\n",
    "print(response)"
   ]
  },
  {
   "cell_type": "code",
   "execution_count": 4,
   "id": "cb700146-a340-4af6-af5a-c3e142aecb1c",
   "metadata": {},
   "outputs": [],
   "source": [
    "soup=BeautifulSoup(response.text)"
   ]
  },
  {
   "cell_type": "code",
   "execution_count": 25,
   "id": "80056337-926d-4735-858e-f783aa626474",
   "metadata": {},
   "outputs": [],
   "source": [
    "dump = soup.find_all(\"div\",class_=\"_2MImiq\")"
   ]
  },
  {
   "cell_type": "code",
   "execution_count": 26,
   "id": "01fb4ce5-29ed-4161-8071-10aca8d63809",
   "metadata": {},
   "outputs": [
    {
     "data": {
      "text/plain": [
       "bs4.element.ResultSet"
      ]
     },
     "execution_count": 26,
     "metadata": {},
     "output_type": "execute_result"
    }
   ],
   "source": [
    "type(dump)"
   ]
  },
  {
   "cell_type": "code",
   "execution_count": 27,
   "id": "9f3314ba-f184-4746-9cbd-e64bee253c4b",
   "metadata": {},
   "outputs": [
    {
     "data": {
      "text/plain": [
       "[<div class=\"_2MImiq\"><span>Page 1 of 392</span><nav class=\"yFHi8N\"><a class=\"ge-49M _2Kfbh8\" href=\"/search?q=mobiles&amp;otracker=search&amp;otracker1=search&amp;marketplace=FLIPKART&amp;as-show=on&amp;as=off&amp;as-pos=1&amp;as-type=HISTORY&amp;as-backfill=on&amp;page=1\">1</a><a class=\"ge-49M\" href=\"/search?q=mobiles&amp;otracker=search&amp;otracker1=search&amp;marketplace=FLIPKART&amp;as-show=on&amp;as=off&amp;as-pos=1&amp;as-type=HISTORY&amp;as-backfill=on&amp;page=2\">2</a><a class=\"ge-49M\" href=\"/search?q=mobiles&amp;otracker=search&amp;otracker1=search&amp;marketplace=FLIPKART&amp;as-show=on&amp;as=off&amp;as-pos=1&amp;as-type=HISTORY&amp;as-backfill=on&amp;page=3\">3</a><a class=\"ge-49M\" href=\"/search?q=mobiles&amp;otracker=search&amp;otracker1=search&amp;marketplace=FLIPKART&amp;as-show=on&amp;as=off&amp;as-pos=1&amp;as-type=HISTORY&amp;as-backfill=on&amp;page=4\">4</a><a class=\"ge-49M\" href=\"/search?q=mobiles&amp;otracker=search&amp;otracker1=search&amp;marketplace=FLIPKART&amp;as-show=on&amp;as=off&amp;as-pos=1&amp;as-type=HISTORY&amp;as-backfill=on&amp;page=5\">5</a><a class=\"ge-49M\" href=\"/search?q=mobiles&amp;otracker=search&amp;otracker1=search&amp;marketplace=FLIPKART&amp;as-show=on&amp;as=off&amp;as-pos=1&amp;as-type=HISTORY&amp;as-backfill=on&amp;page=6\">6</a><a class=\"ge-49M\" href=\"/search?q=mobiles&amp;otracker=search&amp;otracker1=search&amp;marketplace=FLIPKART&amp;as-show=on&amp;as=off&amp;as-pos=1&amp;as-type=HISTORY&amp;as-backfill=on&amp;page=7\">7</a><a class=\"ge-49M\" href=\"/search?q=mobiles&amp;otracker=search&amp;otracker1=search&amp;marketplace=FLIPKART&amp;as-show=on&amp;as=off&amp;as-pos=1&amp;as-type=HISTORY&amp;as-backfill=on&amp;page=8\">8</a><a class=\"ge-49M\" href=\"/search?q=mobiles&amp;otracker=search&amp;otracker1=search&amp;marketplace=FLIPKART&amp;as-show=on&amp;as=off&amp;as-pos=1&amp;as-type=HISTORY&amp;as-backfill=on&amp;page=9\">9</a><a class=\"ge-49M\" href=\"/search?q=mobiles&amp;otracker=search&amp;otracker1=search&amp;marketplace=FLIPKART&amp;as-show=on&amp;as=off&amp;as-pos=1&amp;as-type=HISTORY&amp;as-backfill=on&amp;page=10\">10</a><a class=\"_1LKTO3\" href=\"/search?q=mobiles&amp;otracker=search&amp;otracker1=search&amp;marketplace=FLIPKART&amp;as-show=on&amp;as=off&amp;as-pos=1&amp;as-type=HISTORY&amp;as-backfill=on&amp;page=2\"><span>Next</span></a></nav><span class=\"_22Tduf\"></span></div>]"
      ]
     },
     "execution_count": 27,
     "metadata": {},
     "output_type": "execute_result"
    }
   ],
   "source": [
    "dump"
   ]
  },
  {
   "cell_type": "code",
   "execution_count": 6,
   "id": "431d7f01-e56f-4dd0-b1be-4921b2e278f4",
   "metadata": {},
   "outputs": [
    {
     "name": "stdout",
     "output_type": "stream",
     "text": [
      "<div class=\"_2MImiq\"><span>Page 1 of 393</span><nav class=\"yFHi8N\"><a class=\"ge-49M _2Kfbh8\" href=\"/search?q=mobiles&amp;as=on&amp;as-show=on&amp;otracker=AS_Query_HistoryAutoSuggest_1_6_na_na_na&amp;otracker1=AS_Query_HistoryAutoSuggest_1_6_na_na_na&amp;as-pos=1&amp;as-type=HISTORY&amp;suggestionId=mobiles&amp;requestId=e7253029-dd83-40d8-bd08-ec043435fb1f&amp;as-backfill=on&amp;page=1\">1</a><a class=\"ge-49M\" href=\"/search?q=mobiles&amp;as=on&amp;as-show=on&amp;otracker=AS_Query_HistoryAutoSuggest_1_6_na_na_na&amp;otracker1=AS_Query_HistoryAutoSuggest_1_6_na_na_na&amp;as-pos=1&amp;as-type=HISTORY&amp;suggestionId=mobiles&amp;requestId=e7253029-dd83-40d8-bd08-ec043435fb1f&amp;as-backfill=on&amp;page=2\">2</a><a class=\"ge-49M\" href=\"/search?q=mobiles&amp;as=on&amp;as-show=on&amp;otracker=AS_Query_HistoryAutoSuggest_1_6_na_na_na&amp;otracker1=AS_Query_HistoryAutoSuggest_1_6_na_na_na&amp;as-pos=1&amp;as-type=HISTORY&amp;suggestionId=mobiles&amp;requestId=e7253029-dd83-40d8-bd08-ec043435fb1f&amp;as-backfill=on&amp;page=3\">3</a><a class=\"ge-49M\" href=\"/search?q=mobiles&amp;as=on&amp;as-show=on&amp;otracker=AS_Query_HistoryAutoSuggest_1_6_na_na_na&amp;otracker1=AS_Query_HistoryAutoSuggest_1_6_na_na_na&amp;as-pos=1&amp;as-type=HISTORY&amp;suggestionId=mobiles&amp;requestId=e7253029-dd83-40d8-bd08-ec043435fb1f&amp;as-backfill=on&amp;page=4\">4</a><a class=\"ge-49M\" href=\"/search?q=mobiles&amp;as=on&amp;as-show=on&amp;otracker=AS_Query_HistoryAutoSuggest_1_6_na_na_na&amp;otracker1=AS_Query_HistoryAutoSuggest_1_6_na_na_na&amp;as-pos=1&amp;as-type=HISTORY&amp;suggestionId=mobiles&amp;requestId=e7253029-dd83-40d8-bd08-ec043435fb1f&amp;as-backfill=on&amp;page=5\">5</a><a class=\"ge-49M\" href=\"/search?q=mobiles&amp;as=on&amp;as-show=on&amp;otracker=AS_Query_HistoryAutoSuggest_1_6_na_na_na&amp;otracker1=AS_Query_HistoryAutoSuggest_1_6_na_na_na&amp;as-pos=1&amp;as-type=HISTORY&amp;suggestionId=mobiles&amp;requestId=e7253029-dd83-40d8-bd08-ec043435fb1f&amp;as-backfill=on&amp;page=6\">6</a><a class=\"ge-49M\" href=\"/search?q=mobiles&amp;as=on&amp;as-show=on&amp;otracker=AS_Query_HistoryAutoSuggest_1_6_na_na_na&amp;otracker1=AS_Query_HistoryAutoSuggest_1_6_na_na_na&amp;as-pos=1&amp;as-type=HISTORY&amp;suggestionId=mobiles&amp;requestId=e7253029-dd83-40d8-bd08-ec043435fb1f&amp;as-backfill=on&amp;page=7\">7</a><a class=\"ge-49M\" href=\"/search?q=mobiles&amp;as=on&amp;as-show=on&amp;otracker=AS_Query_HistoryAutoSuggest_1_6_na_na_na&amp;otracker1=AS_Query_HistoryAutoSuggest_1_6_na_na_na&amp;as-pos=1&amp;as-type=HISTORY&amp;suggestionId=mobiles&amp;requestId=e7253029-dd83-40d8-bd08-ec043435fb1f&amp;as-backfill=on&amp;page=8\">8</a><a class=\"ge-49M\" href=\"/search?q=mobiles&amp;as=on&amp;as-show=on&amp;otracker=AS_Query_HistoryAutoSuggest_1_6_na_na_na&amp;otracker1=AS_Query_HistoryAutoSuggest_1_6_na_na_na&amp;as-pos=1&amp;as-type=HISTORY&amp;suggestionId=mobiles&amp;requestId=e7253029-dd83-40d8-bd08-ec043435fb1f&amp;as-backfill=on&amp;page=9\">9</a><a class=\"ge-49M\" href=\"/search?q=mobiles&amp;as=on&amp;as-show=on&amp;otracker=AS_Query_HistoryAutoSuggest_1_6_na_na_na&amp;otracker1=AS_Query_HistoryAutoSuggest_1_6_na_na_na&amp;as-pos=1&amp;as-type=HISTORY&amp;suggestionId=mobiles&amp;requestId=e7253029-dd83-40d8-bd08-ec043435fb1f&amp;as-backfill=on&amp;page=10\">10</a><a class=\"_1LKTO3\" href=\"/search?q=mobiles&amp;as=on&amp;as-show=on&amp;otracker=AS_Query_HistoryAutoSuggest_1_6_na_na_na&amp;otracker1=AS_Query_HistoryAutoSuggest_1_6_na_na_na&amp;as-pos=1&amp;as-type=HISTORY&amp;suggestionId=mobiles&amp;requestId=e7253029-dd83-40d8-bd08-ec043435fb1f&amp;as-backfill=on&amp;page=2\"><span>Next</span></a></nav><span class=\"_22Tduf\"></span></div>\n",
      "393\n"
     ]
    }
   ],
   "source": [
    "for i in dump:\n",
    "    print(str(i))\n",
    "    regex=re.findall(\"(\\d+)<\\/span>\",str(i))\n",
    "    if regex:\n",
    "        print(regex[0])\n",
    "    else:\n",
    "        pass"
   ]
  },
  {
   "cell_type": "code",
   "execution_count": 3,
   "id": "eae8ca18-368c-4d9e-97c4-849bcdfc170d",
   "metadata": {},
   "outputs": [
    {
     "name": "stdout",
     "output_type": "stream",
     "text": [
      "<Response [200]>\n",
      "Page 1 of 39312345678910Next\n",
      "393\n"
     ]
    }
   ],
   "source": [
    "URL = \"https://www.flipkart.com/search?q=mobiles&as=on&as-show=on&otracker=AS_Query_HistoryAutoSuggest_1_6_na_na_na&otracker1=AS_Query_HistoryAutoSuggest_1_6_na_na_na&as-pos=1&as-type=HISTORY&suggestionId=mobiles&requestId=e7253029-dd83-40d8-bd08-ec043435fb1f&as-backfill=on\"\n",
    "\n",
    "request_header = {'Content-Type': 'text/html; charset=UTF-8', \n",
    "                  'User-Agent': 'Mozilla/5.0 (Windows NT 10.0; Win64; x64; rv:109.0) Gecko/20100101 Firefox/119.0', \n",
    "                  'Accept-Encoding': 'gzip, deflate, br'}\n",
    "\n",
    "response = requests.get(URL, headers=request_header)\n",
    "\n",
    "print(response)\n",
    "soup=BeautifulSoup(response.text)\n",
    "dump = soup.find_all(\"div\",class_=\"_2MImiq\")\n",
    "for i in dump:\n",
    "    print(i.text)\n",
    "    regex=re.findall(\"\\s(\\d{3})\",i.text)\n",
    "    if regex:\n",
    "        print(regex[0])\n",
    "    else:\n",
    "        pass"
   ]
  },
  {
   "cell_type": "code",
   "execution_count": null,
   "id": "9fc90c81-e11c-4b47-b903-213fd52e9d4b",
   "metadata": {},
   "outputs": [],
   "source": []
  }
 ],
 "metadata": {
  "kernelspec": {
   "display_name": "Python 3 (ipykernel)",
   "language": "python",
   "name": "python3"
  },
  "language_info": {
   "codemirror_mode": {
    "name": "ipython",
    "version": 3
   },
   "file_extension": ".py",
   "mimetype": "text/x-python",
   "name": "python",
   "nbconvert_exporter": "python",
   "pygments_lexer": "ipython3",
   "version": "3.10.0"
  }
 },
 "nbformat": 4,
 "nbformat_minor": 5
}
