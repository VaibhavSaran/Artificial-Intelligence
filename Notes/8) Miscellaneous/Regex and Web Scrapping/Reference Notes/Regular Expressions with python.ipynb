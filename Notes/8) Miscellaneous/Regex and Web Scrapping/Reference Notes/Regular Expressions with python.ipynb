{
 "cells": [
  {
   "cell_type": "markdown",
   "id": "fcc38bc3",
   "metadata": {},
   "source": [
    "## Regular Expression\n",
    "\n",
    "A regular expression, often called a pattern, is **an expression used to specify a set of strings** required for a particular purpose. \n",
    "\n",
    "- A simple way to specify a finite set of strings is to list its elements or members. <br>For example `{Doc1,1,Doc2,2,Doc3,3}`. \n",
    "    \n",
    "\n",
    "`{Doc1,Doc2,Doc3}` can be specified by the pattern `Doc(1|2|3)`. <br>We say that this pattern matches each of the two strings. [Lets check?](https://regex101.com/)\n",
    "\n",
    "> In most formalisms, if there exists at least one regular expression that matches a particular set then there exists an infinite number of other regular expressions that also match it, i.e. **the specification is not unique**.<br>\n",
    "For example, the string set `{Doc1,Doc2,Doc3}` can also be specified by the pattern `Doc\\d`.\n",
    "\n"
   ]
  },
  {
   "cell_type": "markdown",
   "id": "126f23ad",
   "metadata": {},
   "source": [
    "## Uses of Regular Expressions\n",
    "\n",
    "**Some important usages of regular expressions are:**\n",
    "\n",
    "- Check if an input honors a given pattern; for example, we can check whether a value entered in a HTML formulary is a valid e-mail address\n",
    "> `Maniteja123@gmail.com`\n",
    "\n",
    "- Look for a pattern appearance in a piece of text; for example, check if either the word \"color\" or the word \"colour\" appears in a document with just **one scan**\n",
    "> `I like Red color and i am wearing a Red colour shirt`\n",
    "\n",
    "- Extract specific portions of a text; for example, extract the postal code of an address\n",
    "> `Mr John Smith. 132, My Street, Kingston, New York 12401.`\n",
    "\n",
    "- Replace portions of text; for example, change the appearance of \"color\" with \"colour\"\n",
    "> `I like Red colour and i am wearing a Red colour shirt`\n",
    "\n",
    "- Split a larger text into smaller pieces, for example, splitting a text by any appearance of the dot, comma, or newline characters\n",
    "> `myself person1,you are person2`"
   ]
  },
  {
   "cell_type": "markdown",
   "id": "9ac36507",
   "metadata": {},
   "source": [
    "# Meta Characters\n",
    "\n",
    "- All meta characters. `^ $ * + ? { } \\ | ( ) `\n",
    "\n",
    "  1. `.` any character (except new line character)\n",
    "  2. `^` startswith `^word`\n",
    "  3. `$` endswith `word$`\n",
    "  4. `*` zero or more occurrences\n",
    "  5. `+` one or more occurrences\n",
    "  6. `{}` exactly specified no of occurrences \"M{2}\"\n",
    "  7. `[]` A set of characters \"[a-c]\"\n",
    "  8. `\\` Signals a special sequence (can also be used to escape special characters) \"\\d\"\n",
    "  9. `|` Either or \"apple|iphone\"\n",
    "  10. `()` Capture and group"
   ]
  },
  {
   "cell_type": "markdown",
   "id": "0c3cd3da",
   "metadata": {},
   "source": [
    "# Special Sequences\n",
    "- A special sequence is a \\ followed by one of the characters in the list below, and has a special       meaning:\n",
    "\n",
    "  1. `\\d` : Matches any decimal digit; this is equivalent to the class [0-9].\n",
    "  2. `\\D` : Matches any non-digit character; this is equivalent to the class [^0-9].\n",
    "  3. `\\s` : Matches any whitespace character, next line character(\\n) or tab(\\t);\n",
    "  4. `\\S` : Matches any non-whitespace character;\n",
    "  5. `\\w` : Matches any alphanumeric (word) character; this is equivalent to the class [a-zA-Z0-9_].\n",
    "  6. `\\W` : Matches any non-alphanumeric character; this is equivalent to the class [^a-zA-Z0-9_]."
   ]
  },
  {
   "cell_type": "markdown",
   "id": "72be0df2",
   "metadata": {},
   "source": [
    "#### Some examples for set \n",
    " 1. `[arn]` Returns a match where one of the specified characters (a, r, or n) are present\n",
    " 2. `[a-n]` Returns a match for any lower case character, alphabetically between a and n\n",
    " 3. `[^arn]` Returns a match for any character EXCEPT a, r, and n\n",
    " 4. `[0123]` Returns a match where any of the specified digits (0, 1, 2, or 3) are present\n",
    " 5. `[0-9]` Returns a match for any digit between 0 and 9\n",
    " 6. `0-5` Returns a match for any two-digit numbers from 00 and 59\n",
    " 7. `[a-zA-Z]` Returns a match for any character alphabetically between a and z, lower case OR upper      case"
   ]
  },
  {
   "cell_type": "markdown",
   "id": "5130de3d",
   "metadata": {},
   "source": [
    "# Getting started with RegEx in Python\n",
    "\n",
    "The **[re](https://docs.python.org/3/howto/regex.html)** module provides an interface to the regular expression engine, allowing you to **compile regular expressions into objects and then perform matches with them**."
   ]
  },
  {
   "cell_type": "code",
   "execution_count": 1,
   "id": "045c8c76",
   "metadata": {},
   "outputs": [],
   "source": [
    "import re"
   ]
  },
  {
   "cell_type": "markdown",
   "id": "ff3159f8",
   "metadata": {},
   "source": [
    "## 1. Compiling Regular Expressions\n",
    "\n",
    "Regular expressions are **compiled** into `Pattern` objects, which have methods for various operations such as searching for pattern matches or performing string substitutions.\n",
    "\n",
    "\n",
    "### `re.compile(pattern, flags=0)`\n",
    "\n",
    "Compile a regular expression pattern, returning a pattern object.\n",
    "\n",
    "- The regular expression is passed to `re.compile()` as a **string**. \n",
    "\n",
    "> Regular expressions are handled as strings because regular expressions aren’t part of the core Python language, and no special syntax was created for expressing them. \n",
    "\n",
    "> Regular expression patterns are compiled into a series of bytecodes which are then executed by a matching engine written in C."
   ]
  },
  {
   "cell_type": "markdown",
   "id": "7c98ce30",
   "metadata": {},
   "source": [
    "## 2. Performing Matches\n",
    "\n",
    "So, we have created a `Pattern` object representing a compiled regular expression using `re.compile()` method.\n",
    "\n",
    "Pattern objects have several methods and attributes.\n",
    "\n",
    "Here is the list of different methods used for performing matches:\n",
    "\n",
    "\n",
    "<table style=\"border: 1px solid black; font-size:15px;\">\n",
    "<thead>\n",
    "    <th>Method/Attribute</th>\n",
    "    <th>Purpose</th>\n",
    "</thead>\n",
    "    \n",
    "<tbody>\n",
    "<tr>\n",
    "    <td>match()</td>\n",
    "    <td>Determine if the RE matches at the beginning of the string.</td>\n",
    "</tr>\n",
    "    \n",
    "<tr>\n",
    "    <td>search()</td>\n",
    "    <td>Scan through a string, looking for any location where this RE matches.</td>\n",
    "</tr>\n",
    "\n",
    "<tr>\n",
    "    <td>findall()</td>\n",
    "    <td>Find all substrings where the RE matches, and returns them as a list.</td>\n",
    "</tr>\n",
    "\n",
    "<tr>\n",
    "    <td>finditer()</td>\n",
    "    <td>Find all substrings where the RE matches, and returns them as an iterator.</td>\n",
    "</tr>\n",
    "</tbody>\n",
    "</table>\n",
    "\n"
   ]
  },
  {
   "cell_type": "markdown",
   "id": "ed8fb519",
   "metadata": {},
   "source": [
    "# Functions\n"
   ]
  },
  {
   "cell_type": "markdown",
   "id": "4930cc6a",
   "metadata": {},
   "source": [
    "`findall()` Returns a list containing all matches\n",
    "\n",
    "`sub()` Replaces one or many matches with a string\n",
    "\n",
    "`search()` Returns a Match object if there is a match anywhere in the string\n",
    "\n",
    "`compile()` Returns a Regex pattern object\n",
    "\n",
    "\n",
    "\n"
   ]
  },
  {
   "cell_type": "code",
   "execution_count": 6,
   "id": "1b9d28dc",
   "metadata": {},
   "outputs": [],
   "source": [
    "a=\"I am learning Python programming language from 2023\""
   ]
  },
  {
   "cell_type": "markdown",
   "id": "4c29aace",
   "metadata": {},
   "source": [
    "#### re.findall()\n",
    "#### re.findall (pattern, target string)\n",
    ">  It helps to get a list of all matching patterns. It has no constraints of searching from start or end."
   ]
  },
  {
   "cell_type": "code",
   "execution_count": 9,
   "id": "b9cdd445",
   "metadata": {},
   "outputs": [
    {
     "data": {
      "text/plain": [
       "['2', '0', '2', '3']"
      ]
     },
     "execution_count": 9,
     "metadata": {},
     "output_type": "execute_result"
    }
   ],
   "source": [
    "re.findall(\"[0-9]\",a)"
   ]
  },
  {
   "cell_type": "code",
   "execution_count": 10,
   "id": "ac92267c",
   "metadata": {},
   "outputs": [
    {
     "data": {
      "text/plain": [
       "['2023']"
      ]
     },
     "execution_count": 10,
     "metadata": {},
     "output_type": "execute_result"
    }
   ],
   "source": [
    "re.findall(\"[0-9]+\",a)"
   ]
  },
  {
   "cell_type": "code",
   "execution_count": 11,
   "id": "68104f03",
   "metadata": {},
   "outputs": [
    {
     "data": {
      "text/plain": [
       "['2', '0', '2', '3']"
      ]
     },
     "execution_count": 11,
     "metadata": {},
     "output_type": "execute_result"
    }
   ],
   "source": [
    "re.findall(\"\\d\",a)"
   ]
  },
  {
   "cell_type": "code",
   "execution_count": 12,
   "id": "734bb47d",
   "metadata": {},
   "outputs": [
    {
     "data": {
      "text/plain": [
       "['2023']"
      ]
     },
     "execution_count": 12,
     "metadata": {},
     "output_type": "execute_result"
    }
   ],
   "source": [
    "re.findall(\"\\d+\",a)"
   ]
  },
  {
   "cell_type": "code",
   "execution_count": null,
   "id": "5c355910",
   "metadata": {},
   "outputs": [],
   "source": []
  },
  {
   "cell_type": "markdown",
   "id": "b5d79256",
   "metadata": {},
   "source": [
    "**re.finditer()**\n",
    "\n",
    "- finditer only can call in iteration"
   ]
  },
  {
   "cell_type": "code",
   "execution_count": 28,
   "id": "7e8d8f13",
   "metadata": {},
   "outputs": [
    {
     "data": {
      "text/plain": [
       "<callable_iterator at 0x179be93c970>"
      ]
     },
     "execution_count": 28,
     "metadata": {},
     "output_type": "execute_result"
    }
   ],
   "source": [
    "re.finditer(\"\\d+\",a)"
   ]
  },
  {
   "cell_type": "code",
   "execution_count": 27,
   "id": "d9f66867",
   "metadata": {},
   "outputs": [
    {
     "name": "stdout",
     "output_type": "stream",
     "text": [
      "<re.Match object; span=(0, 2), match='56'>\n",
      "<re.Match object; span=(49, 53), match='2023'>\n"
     ]
    }
   ],
   "source": [
    "for i in re.finditer(\"\\d+\",a):\n",
    "    print(i)"
   ]
  },
  {
   "cell_type": "code",
   "execution_count": 29,
   "id": "67bc3a0d",
   "metadata": {},
   "outputs": [
    {
     "name": "stdout",
     "output_type": "stream",
     "text": [
      "56\n",
      "2023\n"
     ]
    }
   ],
   "source": [
    "for i in re.finditer(\"\\d+\",a):\n",
    "    print(i.group())"
   ]
  },
  {
   "cell_type": "code",
   "execution_count": 30,
   "id": "6d10fae5",
   "metadata": {},
   "outputs": [
    {
     "name": "stdout",
     "output_type": "stream",
     "text": [
      "(0, 2)\n",
      "(49, 53)\n"
     ]
    }
   ],
   "source": [
    "for i in re.finditer(\"\\d+\",a):\n",
    "    print(i.span())"
   ]
  },
  {
   "cell_type": "code",
   "execution_count": null,
   "id": "ea84eb28",
   "metadata": {},
   "outputs": [],
   "source": []
  },
  {
   "cell_type": "markdown",
   "id": "3a6a4e6e",
   "metadata": {},
   "source": [
    "**re.search()**\n",
    "\n",
    "- search also works same as other function finding operations.\n",
    "\n",
    "- search will only give you the first match as your output."
   ]
  },
  {
   "cell_type": "code",
   "execution_count": 15,
   "id": "1d57380e",
   "metadata": {},
   "outputs": [],
   "source": [
    "a=\"56I am learning Python programming language from 2023\""
   ]
  },
  {
   "cell_type": "code",
   "execution_count": 19,
   "id": "b2ba856f",
   "metadata": {},
   "outputs": [],
   "source": [
    "search=re.search(\"\\d+\",a)"
   ]
  },
  {
   "cell_type": "code",
   "execution_count": 22,
   "id": "1297578e",
   "metadata": {},
   "outputs": [
    {
     "data": {
      "text/plain": [
       "<re.Match object; span=(0, 2), match='56'>"
      ]
     },
     "execution_count": 22,
     "metadata": {},
     "output_type": "execute_result"
    }
   ],
   "source": [
    "search"
   ]
  },
  {
   "cell_type": "code",
   "execution_count": 21,
   "id": "ab517243",
   "metadata": {},
   "outputs": [
    {
     "data": {
      "text/plain": [
       "(0, 2)"
      ]
     },
     "execution_count": 21,
     "metadata": {},
     "output_type": "execute_result"
    }
   ],
   "source": [
    "search.span()"
   ]
  },
  {
   "cell_type": "code",
   "execution_count": 23,
   "id": "2ee30342",
   "metadata": {},
   "outputs": [
    {
     "data": {
      "text/plain": [
       "0"
      ]
     },
     "execution_count": 23,
     "metadata": {},
     "output_type": "execute_result"
    }
   ],
   "source": [
    "search.start()"
   ]
  },
  {
   "cell_type": "code",
   "execution_count": 24,
   "id": "74c69b99",
   "metadata": {},
   "outputs": [
    {
     "data": {
      "text/plain": [
       "2"
      ]
     },
     "execution_count": 24,
     "metadata": {},
     "output_type": "execute_result"
    }
   ],
   "source": [
    "search.end()"
   ]
  },
  {
   "cell_type": "code",
   "execution_count": 25,
   "id": "73f2c4ca",
   "metadata": {},
   "outputs": [
    {
     "data": {
      "text/plain": [
       "'56'"
      ]
     },
     "execution_count": 25,
     "metadata": {},
     "output_type": "execute_result"
    }
   ],
   "source": [
    "search.group()"
   ]
  },
  {
   "cell_type": "code",
   "execution_count": 18,
   "id": "701ec630",
   "metadata": {},
   "outputs": [
    {
     "data": {
      "text/plain": [
       "['56', '2023']"
      ]
     },
     "execution_count": 18,
     "metadata": {},
     "output_type": "execute_result"
    }
   ],
   "source": [
    "re.findall(\"\\d+\",a)"
   ]
  },
  {
   "cell_type": "code",
   "execution_count": null,
   "id": "4d7cd7ad",
   "metadata": {},
   "outputs": [],
   "source": []
  },
  {
   "cell_type": "code",
   "execution_count": null,
   "id": "a6279737",
   "metadata": {},
   "outputs": [],
   "source": []
  },
  {
   "cell_type": "code",
   "execution_count": null,
   "id": "23405f4f",
   "metadata": {},
   "outputs": [],
   "source": []
  },
  {
   "cell_type": "markdown",
   "id": "fc2807a8",
   "metadata": {},
   "source": [
    "**re.sub()  -- Substitute**\n",
    "\n",
    "- Substitutes the target sub string in the string with a pattern.\n",
    "\n",
    "- `syntax`:\n",
    "\n",
    "    - `re.sub(pattern, replacement, string)`"
   ]
  },
  {
   "cell_type": "code",
   "execution_count": 32,
   "id": "7fe6a659",
   "metadata": {},
   "outputs": [],
   "source": [
    "a=\"a123b456\""
   ]
  },
  {
   "cell_type": "code",
   "execution_count": 33,
   "id": "5e56e62c",
   "metadata": {},
   "outputs": [
    {
     "data": {
      "text/plain": [
       "'a@23b456'"
      ]
     },
     "execution_count": 33,
     "metadata": {},
     "output_type": "execute_result"
    }
   ],
   "source": [
    "a.replace(\"1\",\"@\")"
   ]
  },
  {
   "cell_type": "code",
   "execution_count": 34,
   "id": "a6406071",
   "metadata": {},
   "outputs": [
    {
     "data": {
      "text/plain": [
       "'a1@3b456'"
      ]
     },
     "execution_count": 34,
     "metadata": {},
     "output_type": "execute_result"
    }
   ],
   "source": [
    "a.replace(\"2\",\"@\")"
   ]
  },
  {
   "cell_type": "code",
   "execution_count": 35,
   "id": "a9006a61",
   "metadata": {},
   "outputs": [
    {
     "data": {
      "text/plain": [
       "'a123b456'"
      ]
     },
     "execution_count": 35,
     "metadata": {},
     "output_type": "execute_result"
    }
   ],
   "source": [
    "a"
   ]
  },
  {
   "cell_type": "code",
   "execution_count": 36,
   "id": "4233cb2a",
   "metadata": {},
   "outputs": [
    {
     "data": {
      "text/plain": [
       "'a@@@b@@@'"
      ]
     },
     "execution_count": 36,
     "metadata": {},
     "output_type": "execute_result"
    }
   ],
   "source": [
    "re.sub(\"\\d\",\"@\",a)"
   ]
  },
  {
   "cell_type": "code",
   "execution_count": 41,
   "id": "5ff96978",
   "metadata": {},
   "outputs": [],
   "source": [
    "email=\"\"\"'maniteja@gmail.com',\n",
    " 'mani_teja@gmail.com',\n",
    " 'mani.teja@gmail.in',\n",
    " 'maniteja1234@gmail.com',\n",
    " 'maniteja@outlook.com',\n",
    " 'mani_teja@outlook.org',\n",
    " 'mani.teja@outlook.com',\n",
    " 'maniteja1234@outlook.com',\n",
    " 'maniteja@yahoo.org',\n",
    " 'mani_teja@yahoo.com',\n",
    " 'mani.teja@yahoo.in',\n",
    " 'maniteja1234@yahoo.com'\"\"\""
   ]
  },
  {
   "cell_type": "code",
   "execution_count": 42,
   "id": "bfc17d99",
   "metadata": {},
   "outputs": [
    {
     "data": {
      "text/plain": [
       "\"'maniteja@gmail.com',\\n 'mani_teja@gmail.com',\\n 'mani.teja@gmail.in',\\n 'maniteja1234@gmail.com',\\n 'maniteja@outlook.com',\\n 'mani_teja@outlook.org',\\n 'mani.teja@outlook.com',\\n 'maniteja1234@outlook.com',\\n 'maniteja@yahoo.org',\\n 'mani_teja@yahoo.com',\\n 'mani.teja@yahoo.in',\\n 'maniteja1234@yahoo.com'\""
      ]
     },
     "execution_count": 42,
     "metadata": {},
     "output_type": "execute_result"
    }
   ],
   "source": [
    "email"
   ]
  },
  {
   "cell_type": "code",
   "execution_count": 43,
   "id": "7b6660d4",
   "metadata": {},
   "outputs": [
    {
     "data": {
      "text/plain": [
       "['maniteja@gmail.com',\n",
       " 'mani_teja@gmail.com',\n",
       " 'mani.teja@gmail.in',\n",
       " 'maniteja1234@gmail.com',\n",
       " 'maniteja@outlook.com',\n",
       " 'mani_teja@outlook.org',\n",
       " 'mani.teja@outlook.com',\n",
       " 'maniteja1234@outlook.com',\n",
       " 'maniteja@yahoo.org',\n",
       " 'mani_teja@yahoo.com',\n",
       " 'mani.teja@yahoo.in',\n",
       " 'maniteja1234@yahoo.com']"
      ]
     },
     "execution_count": 43,
     "metadata": {},
     "output_type": "execute_result"
    }
   ],
   "source": [
    "re.findall(r\"[\\w.]+@\\w+\\.\\w+\",email)"
   ]
  },
  {
   "cell_type": "code",
   "execution_count": 44,
   "id": "43ea6764",
   "metadata": {},
   "outputs": [
    {
     "data": {
      "text/plain": [
       "['maniteja@gmail.com',\n",
       " 'mani_teja@gmail.com',\n",
       " 'mani.teja@gmail.in',\n",
       " 'maniteja1234@gmail.com']"
      ]
     },
     "execution_count": 44,
     "metadata": {},
     "output_type": "execute_result"
    }
   ],
   "source": [
    "re.findall(r\"[\\w.]+@gmail\\.\\w+\",email)"
   ]
  },
  {
   "cell_type": "code",
   "execution_count": 46,
   "id": "3bb24e92",
   "metadata": {},
   "outputs": [
    {
     "data": {
      "text/plain": [
       "['maniteja@gmail',\n",
       " 'mani_teja@gmail',\n",
       " 'mani.teja@gmail',\n",
       " 'maniteja1234@gmail',\n",
       " 'outlook.com',\n",
       " 'outlook.org',\n",
       " 'outlook.com',\n",
       " 'outlook.com']"
      ]
     },
     "execution_count": 46,
     "metadata": {},
     "output_type": "execute_result"
    }
   ],
   "source": [
    "re.findall(r\"[\\w.]+@gmail|outlook\\.\\w+\",email)"
   ]
  },
  {
   "cell_type": "code",
   "execution_count": 47,
   "id": "9ccaf669",
   "metadata": {},
   "outputs": [
    {
     "data": {
      "text/plain": [
       "['maniteja@gmail.com',\n",
       " 'mani_teja@gmail.com',\n",
       " 'mani.teja@gmail.in',\n",
       " 'maniteja1234@gmail.com',\n",
       " 'maniteja@outlook.com',\n",
       " 'mani_teja@outlook.org',\n",
       " 'mani.teja@outlook.com',\n",
       " 'maniteja1234@outlook.com']"
      ]
     },
     "execution_count": 47,
     "metadata": {},
     "output_type": "execute_result"
    }
   ],
   "source": [
    "re.findall(r\"[\\w.]+@(?:gmail|outlook)\\.\\w+\",email)"
   ]
  },
  {
   "cell_type": "code",
   "execution_count": 48,
   "id": "81d2883e",
   "metadata": {},
   "outputs": [
    {
     "data": {
      "text/plain": [
       "['gmail',\n",
       " 'gmail',\n",
       " 'gmail',\n",
       " 'gmail',\n",
       " 'outlook',\n",
       " 'outlook',\n",
       " 'outlook',\n",
       " 'outlook',\n",
       " 'yahoo',\n",
       " 'yahoo',\n",
       " 'yahoo',\n",
       " 'yahoo']"
      ]
     },
     "execution_count": 48,
     "metadata": {},
     "output_type": "execute_result"
    }
   ],
   "source": [
    "re.findall(r\"[\\w.]+@(\\w+)\\.\\w+\",email)"
   ]
  },
  {
   "cell_type": "code",
   "execution_count": 49,
   "id": "f6317407",
   "metadata": {},
   "outputs": [],
   "source": [
    "email=\"\"\"'maniteja@gmail.com',\n",
    " 'mani_teja@gmail.com',\n",
    " 'mani.teja@ gmail.in',\n",
    " 'maniteja1234@gmail.com',\n",
    " 'maniteja@outlook.com',\n",
    " 'mani_teja@outlook.org',\n",
    " 'mani.teja@outlook.com',\n",
    " 'maniteja1234@outlook.com',\n",
    " 'maniteja@yahoo.org',\n",
    " 'mani_teja@yahoo.com',\n",
    " 'mani.teja@yahoo.in',\n",
    " 'maniteja1234@yahoo.com'\"\"\""
   ]
  },
  {
   "cell_type": "code",
   "execution_count": 51,
   "id": "8c047baf",
   "metadata": {},
   "outputs": [
    {
     "data": {
      "text/plain": [
       "['maniteja@gmail.com',\n",
       " 'mani_teja@gmail.com',\n",
       " 'mani.teja@ gmail.in',\n",
       " 'maniteja1234@gmail.com',\n",
       " 'maniteja@outlook.com',\n",
       " 'mani_teja@outlook.org',\n",
       " 'mani.teja@outlook.com',\n",
       " 'maniteja1234@outlook.com',\n",
       " 'maniteja@yahoo.org',\n",
       " 'mani_teja@yahoo.com',\n",
       " 'mani.teja@yahoo.in',\n",
       " 'maniteja1234@yahoo.com']"
      ]
     },
     "execution_count": 51,
     "metadata": {},
     "output_type": "execute_result"
    }
   ],
   "source": [
    "re.findall(r\"[\\w.]+@\\s?\\w+\\.\\w+\",email)"
   ]
  },
  {
   "cell_type": "code",
   "execution_count": 52,
   "id": "833e99c1",
   "metadata": {},
   "outputs": [
    {
     "data": {
      "text/plain": [
       "['gmail', 'gmail', 'gmail', 'outlook', 'outlook', 'outlook', 'outlook']"
      ]
     },
     "execution_count": 52,
     "metadata": {},
     "output_type": "execute_result"
    }
   ],
   "source": [
    "re.findall(r\"[\\w.]+@(gmail|outlook)\\.\\w+\",email)"
   ]
  },
  {
   "cell_type": "code",
   "execution_count": 53,
   "id": "9179528a",
   "metadata": {},
   "outputs": [
    {
     "data": {
      "text/plain": [
       "['maniteja@gmail.com',\n",
       " 'mani_teja@gmail.com',\n",
       " 'maniteja1234@gmail.com',\n",
       " 'maniteja@outlook.com',\n",
       " 'mani_teja@outlook.org',\n",
       " 'mani.teja@outlook.com',\n",
       " 'maniteja1234@outlook.com']"
      ]
     },
     "execution_count": 53,
     "metadata": {},
     "output_type": "execute_result"
    }
   ],
   "source": [
    "re.findall(r\"[\\w.]+@(?:gmail|outlook)\\.\\w+\",email)"
   ]
  },
  {
   "cell_type": "code",
   "execution_count": 54,
   "id": "f37c9b96",
   "metadata": {},
   "outputs": [
    {
     "data": {
      "text/plain": [
       "['mani.teja@ gmail.in',\n",
       " 'mani_teja@outlook.org',\n",
       " 'maniteja@yahoo.org',\n",
       " 'mani.teja@yahoo.in']"
      ]
     },
     "execution_count": 54,
     "metadata": {},
     "output_type": "execute_result"
    }
   ],
   "source": [
    "re.findall(r\"[\\w.]+@\\s?\\w+\\.(?:in|org)\",email)"
   ]
  },
  {
   "cell_type": "code",
   "execution_count": 55,
   "id": "77070870",
   "metadata": {},
   "outputs": [
    {
     "data": {
      "text/plain": [
       "['mani_teja@outlook.org', 'maniteja@yahoo.org', 'mani.teja@yahoo.in']"
      ]
     },
     "execution_count": 55,
     "metadata": {},
     "output_type": "execute_result"
    }
   ],
   "source": [
    "re.findall(r\"[\\w.]+@\\s?(?:yahoo|outlook)\\.(?:in|org)\",email)"
   ]
  },
  {
   "cell_type": "code",
   "execution_count": 57,
   "id": "ebb8b58e",
   "metadata": {},
   "outputs": [],
   "source": [
    "phones=\"\"\"SAMSUNG Galaxy F23 5G (Forest Green, 128 GB)\n",
    "SAMSUNG Galaxy F04 (Jade Purple, 64 GB)\n",
    "POCO M3 Pro 5G (Yellow, 128 GB)\n",
    "MOTOROLA e40 (Carbon Gray, 64 GB)\n",
    "APPLE iPhone 13 (Blue, 128 GB)\n",
    "APPLE iPhone 14 (Starlight, 128 GB)\n",
    "APPLE iPhone 14 (Blue, 128 GB)\n",
    "MOTOROLA G62 5G (Midnight Gray, 128 GB)\n",
    "REDMI 10 (Pacific Blue, 64 GB)\n",
    "REDMI 10 (Caribbean Green, 64 GB)\n",
    "REDMI Note 11 SE (Cosmic White, 64 GB)\n",
    "MOTOROLA G32 (Mineral Gray, 64 GB)\n",
    "MOTOROLA G62 5G (Frosted Blue, 128 GB)\n",
    "POCO C31 (Royal Blue, 64 GB)\n",
    "MOTOROLA e40 (Pink Clay, 64 GB)\n",
    "REDMI 10 (Midnight Black, 64 GB)\n",
    "SAMSUNG Galaxy F23 5G (Copper Blush, 128 GB)\n",
    "REDMI Note 12 Pro+ 5G (Obsidian Black, 256 GB)\n",
    "SAMSUNG Galaxy F04 (Opal Green, 64 GB)\n",
    "MOTOROLA G32 (Satin Silver, 64 GB)\n",
    "POCO M4 Pro (Cool Blue, 64 GB)\n",
    "REDMI 9i Sport (Coral Green, 64 GB)\n",
    "SAMSUNG Galaxy F23 5G (Forest Green, 128 GB)\n",
    "POCO M4 Pro (Cool Blue, 128 GB)\"\"\""
   ]
  },
  {
   "cell_type": "code",
   "execution_count": 65,
   "id": "de2441e1",
   "metadata": {},
   "outputs": [
    {
     "data": {
      "text/plain": [
       "['SAMSUNG',\n",
       " 'SAMSUNG',\n",
       " 'POCO',\n",
       " 'MOTOROLA',\n",
       " 'APPLE',\n",
       " 'APPLE',\n",
       " 'APPLE',\n",
       " 'MOTOROLA',\n",
       " 'REDMI',\n",
       " 'REDMI',\n",
       " 'REDMI',\n",
       " 'MOTOROLA',\n",
       " 'MOTOROLA',\n",
       " 'POCO',\n",
       " 'MOTOROLA',\n",
       " 'REDMI',\n",
       " 'SAMSUNG',\n",
       " 'REDMI',\n",
       " 'SAMSUNG',\n",
       " 'MOTOROLA',\n",
       " 'POCO',\n",
       " 'REDMI',\n",
       " 'SAMSUNG',\n",
       " 'POCO']"
      ]
     },
     "execution_count": 65,
     "metadata": {},
     "output_type": "execute_result"
    }
   ],
   "source": [
    "re.findall(\"[A-Z]{4,}\",phones)"
   ]
  },
  {
   "cell_type": "code",
   "execution_count": 67,
   "id": "94796ff6",
   "metadata": {},
   "outputs": [
    {
     "data": {
      "text/plain": [
       "['Forest Green',\n",
       " 'Jade Purple',\n",
       " 'Yellow',\n",
       " 'Carbon Gray',\n",
       " 'Blue',\n",
       " 'Starlight',\n",
       " 'Blue',\n",
       " 'Midnight Gray',\n",
       " 'Pacific Blue',\n",
       " 'Caribbean Green',\n",
       " 'Cosmic White',\n",
       " 'Mineral Gray',\n",
       " 'Frosted Blue',\n",
       " 'Royal Blue',\n",
       " 'Pink Clay',\n",
       " 'Midnight Black',\n",
       " 'Copper Blush',\n",
       " 'Obsidian Black',\n",
       " 'Opal Green',\n",
       " 'Satin Silver',\n",
       " 'Cool Blue',\n",
       " 'Coral Green',\n",
       " 'Forest Green',\n",
       " 'Cool Blue']"
      ]
     },
     "execution_count": 67,
     "metadata": {},
     "output_type": "execute_result"
    }
   ],
   "source": [
    "re.findall(\"\\((\\w+\\s?\\w+),\",phones)"
   ]
  },
  {
   "cell_type": "code",
   "execution_count": 69,
   "id": "588819de",
   "metadata": {},
   "outputs": [
    {
     "data": {
      "text/plain": [
       "['Forest Green',\n",
       " 'Jade Purple',\n",
       " 'Yellow',\n",
       " 'Carbon Gray',\n",
       " 'Blue',\n",
       " 'Starlight',\n",
       " 'Blue',\n",
       " 'Midnight Gray',\n",
       " 'Pacific Blue',\n",
       " 'Caribbean Green',\n",
       " 'Cosmic White',\n",
       " 'Mineral Gray',\n",
       " 'Frosted Blue',\n",
       " 'Royal Blue',\n",
       " 'Pink Clay',\n",
       " 'Midnight Black',\n",
       " 'Copper Blush',\n",
       " 'Obsidian Black',\n",
       " 'Opal Green',\n",
       " 'Satin Silver',\n",
       " 'Cool Blue',\n",
       " 'Coral Green',\n",
       " 'Forest Green',\n",
       " 'Cool Blue']"
      ]
     },
     "execution_count": 69,
     "metadata": {},
     "output_type": "execute_result"
    }
   ],
   "source": [
    "re.findall(\"\\((.*),\",phones)"
   ]
  },
  {
   "cell_type": "code",
   "execution_count": 71,
   "id": "9c2f5532",
   "metadata": {},
   "outputs": [
    {
     "data": {
      "text/plain": [
       "['128 GB',\n",
       " '64 GB',\n",
       " '128 GB',\n",
       " '64 GB',\n",
       " '128 GB',\n",
       " '128 GB',\n",
       " '128 GB',\n",
       " '128 GB',\n",
       " '64 GB',\n",
       " '64 GB',\n",
       " '64 GB',\n",
       " '64 GB',\n",
       " '128 GB',\n",
       " '64 GB',\n",
       " '64 GB',\n",
       " '64 GB',\n",
       " '128 GB',\n",
       " '256 GB',\n",
       " '64 GB',\n",
       " '64 GB',\n",
       " '64 GB',\n",
       " '64 GB',\n",
       " '128 GB',\n",
       " '128 GB']"
      ]
     },
     "execution_count": 71,
     "metadata": {},
     "output_type": "execute_result"
    }
   ],
   "source": [
    "re.findall(\",\\s(\\d+\\sGB)\",phones)"
   ]
  },
  {
   "cell_type": "code",
   "execution_count": 73,
   "id": "b0b3f058",
   "metadata": {},
   "outputs": [],
   "source": [
    "property_=\"\"\"4 BHK Villa for Sale in Tukkuguda, Srisailam Highway\n",
    "3 BHK Villa for Sale in Kismatpur, Outer Ring Road\n",
    "4 BHK Villa for Sale in Kondapur\n",
    "4 BHK Villa for Sale in Tellapur, Outer Ring Road\n",
    "4 BHK Villa for Sale in Kollur, Outer Ring Road\n",
    "3 BHK Flat for Sale in Kondapur, Hyderabad\n",
    "3 BHK Villa for Sale in Kompally\n",
    "3 BHK Villa for Sale in Shankarpalli Road\n",
    "3 BHK Flat for Sale in Kukatpally, NH 9, Hyderabad\n",
    "5 BHK Villa for Sale in Kapra\n",
    "4 BHK Villa for Rent in Kompally\n",
    "5 BHK House for Sale in Old Alwal\n",
    "2 BHK Flat for Sale in Gachibowli, Hyderabad\n",
    "3 BHK Flat for Sale in Rajendra Nagar, Outer Ring Road, Hyderabad\n",
    "2 BHK Flat for Sale in Miyapur, NH 9, Hyderabad\n",
    "1 BHK Flat for Sale in Dilsukh Nagar, NH 9, Hyderabad\n",
    "3 BHK Flat for Sale in Gachibowli, Hyderabad\n",
    "3 BHK Flat for Sale in Nagole, Hyderabad\n",
    "3 BHK Flat for Rent in Kondapur, Hyderabad\n",
    "5 BHK Flat for Sale in Financial District, Nanakram Guda, Hyderabad\n",
    "3 BHK Flat for Sale in KPHB Phase 9, Hyderabad\n",
    "2 BHK Flat for Sale in Yapral, Hyderabad\n",
    "3 BHK Flat for Sale in Attapur, Hyderabad\n",
    "3 BHK Flat for Sale in Puppalaguda, Hyderabad\n",
    "4 BHK Flat for Rent in Puppalaguda, Hyderabad\n",
    "5 BHK Villa for Sale in Tukkuguda, Srisailam Highway\n",
    "2 BHK Flat for Sale in Kompally, Hyderabad\n",
    "2 BHK Flat for Sale in Turkayamjal, Hyderabad\n",
    "2 BHK Flatregex for Sale in Pocharam, NH 2 2, Hyderabad\n",
    "4 BHK Villa for Sale in Kismatpur, Outer Ring Road\"\"\""
   ]
  },
  {
   "cell_type": "code",
   "execution_count": 75,
   "id": "9e38266e",
   "metadata": {},
   "outputs": [
    {
     "data": {
      "text/plain": [
       "['4 BHK',\n",
       " '3 BHK',\n",
       " '4 BHK',\n",
       " '4 BHK',\n",
       " '4 BHK',\n",
       " '3 BHK',\n",
       " '3 BHK',\n",
       " '3 BHK',\n",
       " '3 BHK',\n",
       " '5 BHK',\n",
       " '4 BHK',\n",
       " '5 BHK',\n",
       " '2 BHK',\n",
       " '3 BHK',\n",
       " '2 BHK',\n",
       " '1 BHK',\n",
       " '3 BHK',\n",
       " '3 BHK',\n",
       " '3 BHK',\n",
       " '5 BHK',\n",
       " '3 BHK',\n",
       " '2 BHK',\n",
       " '3 BHK',\n",
       " '3 BHK',\n",
       " '4 BHK',\n",
       " '5 BHK',\n",
       " '2 BHK',\n",
       " '2 BHK',\n",
       " '2 BHK',\n",
       " '4 BHK']"
      ]
     },
     "execution_count": 75,
     "metadata": {},
     "output_type": "execute_result"
    }
   ],
   "source": [
    "re.findall(\"(\\d\\sBHK)\",property_)"
   ]
  },
  {
   "cell_type": "code",
   "execution_count": 76,
   "id": "37633ca3",
   "metadata": {},
   "outputs": [
    {
     "data": {
      "text/plain": [
       "['3 BHK Flat for Sale in Kondapur, Hyderabad',\n",
       " '3 BHK Flat for Sale in Kukatpally, NH 9, Hyderabad',\n",
       " '3 BHK Flat for Sale in Rajendra Nagar, Outer Ring Road, Hyderabad',\n",
       " '3 BHK Flat for Sale in Gachibowli, Hyderabad',\n",
       " '3 BHK Flat for Sale in Nagole, Hyderabad',\n",
       " '3 BHK Flat for Rent in Kondapur, Hyderabad',\n",
       " '3 BHK Flat for Sale in KPHB Phase 9, Hyderabad',\n",
       " '3 BHK Flat for Sale in Attapur, Hyderabad',\n",
       " '3 BHK Flat for Sale in Puppalaguda, Hyderabad']"
      ]
     },
     "execution_count": 76,
     "metadata": {},
     "output_type": "execute_result"
    }
   ],
   "source": [
    "re.findall(\"3\\sBHK\\sFlat.*\",property_)"
   ]
  },
  {
   "cell_type": "code",
   "execution_count": 77,
   "id": "8f02c43e",
   "metadata": {},
   "outputs": [
    {
     "data": {
      "text/plain": [
       "['5 BHK Villa for Sale in Kapra',\n",
       " '5 BHK Villa for Sale in Tukkuguda, Srisailam Highway']"
      ]
     },
     "execution_count": 77,
     "metadata": {},
     "output_type": "execute_result"
    }
   ],
   "source": [
    "re.findall(\"5\\sBHK\\sVilla.*\",property_)"
   ]
  },
  {
   "cell_type": "code",
   "execution_count": 80,
   "id": "f32be4c1",
   "metadata": {},
   "outputs": [
    {
     "data": {
      "text/plain": [
       "['2 BHK Flat for Sale in Gachibowli, Hyderabad',\n",
       " '3 BHK Flat for Sale in Gachibowli, Hyderabad']"
      ]
     },
     "execution_count": 80,
     "metadata": {},
     "output_type": "execute_result"
    }
   ],
   "source": [
    "re.findall(\".+Gachibowli.+\",property_)"
   ]
  },
  {
   "cell_type": "code",
   "execution_count": 85,
   "id": "827f098e",
   "metadata": {},
   "outputs": [],
   "source": [
    "a=re.sub(r\"(Gachibowli)\",\"Kondapur\",property_)"
   ]
  },
  {
   "cell_type": "code",
   "execution_count": 86,
   "id": "da666a26",
   "metadata": {},
   "outputs": [
    {
     "name": "stdout",
     "output_type": "stream",
     "text": [
      "4 BHK Villa for Sale in Tukkuguda, Srisailam Highway\n",
      "3 BHK Villa for Sale in Kismatpur, Outer Ring Road\n",
      "4 BHK Villa for Sale in Kondapur\n",
      "4 BHK Villa for Sale in Tellapur, Outer Ring Road\n",
      "4 BHK Villa for Sale in Kollur, Outer Ring Road\n",
      "3 BHK Flat for Sale in Kondapur, Hyderabad\n",
      "3 BHK Villa for Sale in Kompally\n",
      "3 BHK Villa for Sale in Shankarpalli Road\n",
      "3 BHK Flat for Sale in Kukatpally, NH 9, Hyderabad\n",
      "5 BHK Villa for Sale in Kapra\n",
      "4 BHK Villa for Rent in Kompally\n",
      "5 BHK House for Sale in Old Alwal\n",
      "2 BHK Flat for Sale in Kondapur, Hyderabad\n",
      "3 BHK Flat for Sale in Rajendra Nagar, Outer Ring Road, Hyderabad\n",
      "2 BHK Flat for Sale in Miyapur, NH 9, Hyderabad\n",
      "1 BHK Flat for Sale in Dilsukh Nagar, NH 9, Hyderabad\n",
      "3 BHK Flat for Sale in Kondapur, Hyderabad\n",
      "3 BHK Flat for Sale in Nagole, Hyderabad\n",
      "3 BHK Flat for Rent in Kondapur, Hyderabad\n",
      "5 BHK Flat for Sale in Financial District, Nanakram Guda, Hyderabad\n",
      "3 BHK Flat for Sale in KPHB Phase 9, Hyderabad\n",
      "2 BHK Flat for Sale in Yapral, Hyderabad\n",
      "3 BHK Flat for Sale in Attapur, Hyderabad\n",
      "3 BHK Flat for Sale in Puppalaguda, Hyderabad\n",
      "4 BHK Flat for Rent in Puppalaguda, Hyderabad\n",
      "5 BHK Villa for Sale in Tukkuguda, Srisailam Highway\n",
      "2 BHK Flat for Sale in Kompally, Hyderabad\n",
      "2 BHK Flat for Sale in Turkayamjal, Hyderabad\n",
      "2 BHK Flatregex for Sale in Pocharam, NH 2 2, Hyderabad\n",
      "4 BHK Villa for Sale in Kismatpur, Outer Ring Road\n"
     ]
    }
   ],
   "source": [
    "print(a)"
   ]
  },
  {
   "cell_type": "code",
   "execution_count": 88,
   "id": "979eb944",
   "metadata": {
    "scrolled": false
   },
   "outputs": [
    {
     "name": "stdout",
     "output_type": "stream",
     "text": [
      "4 BHK Villa for Sale in Tukkuguda, Srisailam Highway\n",
      "3 BHK Villa for Sale in Kismatpur, Outer Ring Road\n",
      "4 BHK Villa for Sale in Kondapur\n",
      "4 BHK Villa for Sale in Tellapur, Outer Ring Road\n",
      "4 BHK Villa for Sale in Kollur, Outer Ring Road\n",
      "3 BHK Flat for Sale in Kondapur, Hyderabad\n",
      "3 BHK Villa for Sale in Kompally\n",
      "3 BHK Villa for Sale in Shankarpalli Road\n",
      "3 BHK Flat for Sale in Kukatpally, NH 9, Hyderabad\n",
      "5 BHK Villa for Sale in Kapra\n",
      "4 BHK Villa for Rent in Kompally\n",
      "5 BHK House for Sale in Old Alwal\n",
      "2 BHK Flat for Sale in Gachibowli, Hyderabad\n",
      "3 BHK Flat for Sale in Rajendra Nagar, Outer Ring Road, Hyderabad\n",
      "2 BHK Flat for Sale in Miyapur, NH 9, Hyderabad\n",
      "1 BHK Flat for Sale in Dilsukh Nagar, NH 9, Hyderabad\n",
      "3 BHK Flat for Sale in Gachibowli, Hyderabad\n",
      "3 BHK Flat for Sale in Nagole, Hyderabad\n",
      "3 BHK Flat for Rent in Kondapur, Hyderabad\n",
      "5 BHK Flat for Sale in Financial District, Nanakram Guda, Hyderabad\n",
      "3 BHK Flat for Sale in KPHB Phase 9, Hyderabad\n",
      "2 BHK Flat for Sale in Yapral, Hyderabad\n",
      "3 BHK Flat for Sale in Attapur, Hyderabad\n",
      "3 BHK Flat for Sale in Puppalaguda, Hyderabad\n",
      "4 BHK Flat for Rent in Puppalaguda, Hyderabad\n",
      "5 BHK Villa for Sale in Tukkuguda, Srisailam Highway\n",
      "2 BHK Flat for Sale in Kompally, Hyderabad\n",
      "2 BHK Flat for Sale in Turkayamjal, Hyderabad\n",
      "2 BHK Flatregex for Sale in Pocharam, NH 2 2, Hyderabad\n",
      "4 BHK Villa for Sale in Kismatpur, Outer Ring Road\n"
     ]
    }
   ],
   "source": [
    "print(property_)"
   ]
  },
  {
   "cell_type": "markdown",
   "id": "6350a850",
   "metadata": {},
   "source": [
    "# Using Regular Expressions in Pandas (Data Cleaning)"
   ]
  },
  {
   "cell_type": "code",
   "execution_count": 89,
   "id": "14301368",
   "metadata": {},
   "outputs": [],
   "source": [
    "import pandas as pd\n"
   ]
  },
  {
   "cell_type": "code",
   "execution_count": 91,
   "id": "52445ef1",
   "metadata": {},
   "outputs": [],
   "source": [
    "df=pd.read_csv(r\"C:\\Users\\HP\\Downloads\\Data Analysis @\\Regular Expressions\\data\\text.csv\",names=[\"Label\",\"text\"])"
   ]
  },
  {
   "cell_type": "code",
   "execution_count": 92,
   "id": "39a400d5",
   "metadata": {},
   "outputs": [
    {
     "data": {
      "text/html": [
       "<div>\n",
       "<style scoped>\n",
       "    .dataframe tbody tr th:only-of-type {\n",
       "        vertical-align: middle;\n",
       "    }\n",
       "\n",
       "    .dataframe tbody tr th {\n",
       "        vertical-align: top;\n",
       "    }\n",
       "\n",
       "    .dataframe thead th {\n",
       "        text-align: right;\n",
       "    }\n",
       "</style>\n",
       "<table border=\"1\" class=\"dataframe\">\n",
       "  <thead>\n",
       "    <tr style=\"text-align: right;\">\n",
       "      <th></th>\n",
       "      <th>Label</th>\n",
       "      <th>text</th>\n",
       "    </tr>\n",
       "  </thead>\n",
       "  <tbody>\n",
       "    <tr>\n",
       "      <th>0</th>\n",
       "      <td>0</td>\n",
       "      <td>im sooo sick today...so no emery concert tonight</td>\n",
       "    </tr>\n",
       "    <tr>\n",
       "      <th>1</th>\n",
       "      <td>0</td>\n",
       "      <td>@Freebies4Mom I haven't been able to access it...</td>\n",
       "    </tr>\n",
       "    <tr>\n",
       "      <th>2</th>\n",
       "      <td>0</td>\n",
       "      <td>won't losing you</td>\n",
       "    </tr>\n",
       "    <tr>\n",
       "      <th>3</th>\n",
       "      <td>0</td>\n",
       "      <td>@GeminiTwisted I can't eat egg whites like @Da...</td>\n",
       "    </tr>\n",
       "    <tr>\n",
       "      <th>4</th>\n",
       "      <td>0</td>\n",
       "      <td>At Home Writers Block Has Set In</td>\n",
       "    </tr>\n",
       "    <tr>\n",
       "      <th>5</th>\n",
       "      <td>0</td>\n",
       "      <td>Burnt myself on my old friend the mini spring ...</td>\n",
       "    </tr>\n",
       "    <tr>\n",
       "      <th>6</th>\n",
       "      <td>0</td>\n",
       "      <td>@tommcfly http://twitpic.com/64l1e - wow thats...</td>\n",
       "    </tr>\n",
       "    <tr>\n",
       "      <th>7</th>\n",
       "      <td>0</td>\n",
       "      <td>@seneca That's a crying shame.  I never liked ...</td>\n",
       "    </tr>\n",
       "    <tr>\n",
       "      <th>8</th>\n",
       "      <td>0</td>\n",
       "      <td>@kreatture there are a few in Halifax... Ex-na...</td>\n",
       "    </tr>\n",
       "    <tr>\n",
       "      <th>9</th>\n",
       "      <td>0</td>\n",
       "      <td>Sstill happy but my feet REALLY hurt. Wish I h...</td>\n",
       "    </tr>\n",
       "    <tr>\n",
       "      <th>10</th>\n",
       "      <td>0</td>\n",
       "      <td>We are a lil under 11 hrs away from OTH's seas...</td>\n",
       "    </tr>\n",
       "    <tr>\n",
       "      <th>11</th>\n",
       "      <td>0</td>\n",
       "      <td>I just got new pants today . . . I just spille...</td>\n",
       "    </tr>\n",
       "    <tr>\n",
       "      <th>12</th>\n",
       "      <td>0</td>\n",
       "      <td>@luke not getting enough sleep and letting emo...</td>\n",
       "    </tr>\n",
       "    <tr>\n",
       "      <th>13</th>\n",
       "      <td>0</td>\n",
       "      <td>@nnorafiza @Phee78 Just read your tweets about...</td>\n",
       "    </tr>\n",
       "    <tr>\n",
       "      <th>14</th>\n",
       "      <td>0</td>\n",
       "      <td>@JamieOber Now you know, that's not what I wan...</td>\n",
       "    </tr>\n",
       "    <tr>\n",
       "      <th>15</th>\n",
       "      <td>0</td>\n",
       "      <td>@hazelcullen it went awful my monologues went ...</td>\n",
       "    </tr>\n",
       "    <tr>\n",
       "      <th>16</th>\n",
       "      <td>0</td>\n",
       "      <td>said goodbye to the Baha'is tonight     One go...</td>\n",
       "    </tr>\n",
       "    <tr>\n",
       "      <th>17</th>\n",
       "      <td>0</td>\n",
       "      <td>@celebrian then you, vanessa, and chelsea stol...</td>\n",
       "    </tr>\n",
       "    <tr>\n",
       "      <th>18</th>\n",
       "      <td>0</td>\n",
       "      <td>is looking for her friend Kassi....where are y...</td>\n",
       "    </tr>\n",
       "    <tr>\n",
       "      <th>19</th>\n",
       "      <td>0</td>\n",
       "      <td>we may not be able to get hoodies!  Someone ju...</td>\n",
       "    </tr>\n",
       "    <tr>\n",
       "      <th>20</th>\n",
       "      <td>0</td>\n",
       "      <td>I woke up this morning having made a miraculou...</td>\n",
       "    </tr>\n",
       "    <tr>\n",
       "      <th>21</th>\n",
       "      <td>0</td>\n",
       "      <td>@helga_hansen That's the problem with &amp;quot;my...</td>\n",
       "    </tr>\n",
       "    <tr>\n",
       "      <th>22</th>\n",
       "      <td>0</td>\n",
       "      <td>so sleepy waiting for the iphone update</td>\n",
       "    </tr>\n",
       "    <tr>\n",
       "      <th>23</th>\n",
       "      <td>0</td>\n",
       "      <td>@bridgers I'd love to visit you, but my car di...</td>\n",
       "    </tr>\n",
       "    <tr>\n",
       "      <th>24</th>\n",
       "      <td>0</td>\n",
       "      <td>@ErikaM12345 Ahh okay, i love that song!    I ...</td>\n",
       "    </tr>\n",
       "    <tr>\n",
       "      <th>25</th>\n",
       "      <td>0</td>\n",
       "      <td>@georgemanning Agility not a big success   He ...</td>\n",
       "    </tr>\n",
       "    <tr>\n",
       "      <th>26</th>\n",
       "      <td>0</td>\n",
       "      <td>it's dark</td>\n",
       "    </tr>\n",
       "    <tr>\n",
       "      <th>27</th>\n",
       "      <td>0</td>\n",
       "      <td>@susanreynolds ... Or, &amp;quot;Those halcyon day...</td>\n",
       "    </tr>\n",
       "    <tr>\n",
       "      <th>28</th>\n",
       "      <td>0</td>\n",
       "      <td>@RK_24 Oh thank god...I think I died a little ...</td>\n",
       "    </tr>\n",
       "    <tr>\n",
       "      <th>29</th>\n",
       "      <td>0</td>\n",
       "      <td>@heathertcb why did u cut me out of the pic fo...</td>\n",
       "    </tr>\n",
       "    <tr>\n",
       "      <th>30</th>\n",
       "      <td>0</td>\n",
       "      <td>ugh AsHley G. she'z goinG off. . .iM sad</td>\n",
       "    </tr>\n",
       "    <tr>\n",
       "      <th>31</th>\n",
       "      <td>0</td>\n",
       "      <td>Yikes, supposed to bring couple of dishes to f...</td>\n",
       "    </tr>\n",
       "    <tr>\n",
       "      <th>32</th>\n",
       "      <td>0</td>\n",
       "      <td>-what happens when you purchase a cheap ring a...</td>\n",
       "    </tr>\n",
       "    <tr>\n",
       "      <th>33</th>\n",
       "      <td>0</td>\n",
       "      <td>@AliC66 NOT GOING  no friends x</td>\n",
       "    </tr>\n",
       "  </tbody>\n",
       "</table>\n",
       "</div>"
      ],
      "text/plain": [
       "    Label                                               text\n",
       "0       0  im sooo sick today...so no emery concert tonight \n",
       "1       0  @Freebies4Mom I haven't been able to access it...\n",
       "2       0                                  won't losing you \n",
       "3       0  @GeminiTwisted I can't eat egg whites like @Da...\n",
       "4       0                  At Home Writers Block Has Set In \n",
       "5       0  Burnt myself on my old friend the mini spring ...\n",
       "6       0  @tommcfly http://twitpic.com/64l1e - wow thats...\n",
       "7       0  @seneca That's a crying shame.  I never liked ...\n",
       "8       0  @kreatture there are a few in Halifax... Ex-na...\n",
       "9       0  Sstill happy but my feet REALLY hurt. Wish I h...\n",
       "10      0  We are a lil under 11 hrs away from OTH's seas...\n",
       "11      0  I just got new pants today . . . I just spille...\n",
       "12      0  @luke not getting enough sleep and letting emo...\n",
       "13      0  @nnorafiza @Phee78 Just read your tweets about...\n",
       "14      0  @JamieOber Now you know, that's not what I wan...\n",
       "15      0  @hazelcullen it went awful my monologues went ...\n",
       "16      0  said goodbye to the Baha'is tonight     One go...\n",
       "17      0  @celebrian then you, vanessa, and chelsea stol...\n",
       "18      0  is looking for her friend Kassi....where are y...\n",
       "19      0  we may not be able to get hoodies!  Someone ju...\n",
       "20      0  I woke up this morning having made a miraculou...\n",
       "21      0  @helga_hansen That's the problem with &quot;my...\n",
       "22      0           so sleepy waiting for the iphone update \n",
       "23      0  @bridgers I'd love to visit you, but my car di...\n",
       "24      0  @ErikaM12345 Ahh okay, i love that song!    I ...\n",
       "25      0  @georgemanning Agility not a big success   He ...\n",
       "26      0                                         it's dark \n",
       "27      0  @susanreynolds ... Or, &quot;Those halcyon day...\n",
       "28      0  @RK_24 Oh thank god...I think I died a little ...\n",
       "29      0  @heathertcb why did u cut me out of the pic fo...\n",
       "30      0          ugh AsHley G. she'z goinG off. . .iM sad \n",
       "31      0  Yikes, supposed to bring couple of dishes to f...\n",
       "32      0  -what happens when you purchase a cheap ring a...\n",
       "33      0                    @AliC66 NOT GOING  no friends x"
      ]
     },
     "execution_count": 92,
     "metadata": {},
     "output_type": "execute_result"
    }
   ],
   "source": [
    "df"
   ]
  },
  {
   "cell_type": "code",
   "execution_count": 93,
   "id": "eb601ee1",
   "metadata": {},
   "outputs": [
    {
     "data": {
      "text/plain": [
       "0     im sooo sick today...so no emery concert tonight \n",
       "1     @Freebies4Mom I haven't been able to access it...\n",
       "2                                     won't losing you \n",
       "3     @GeminiTwisted I can't eat egg whites like @Da...\n",
       "4                     At Home Writers Block Has Set In \n",
       "5     Burnt myself on my old friend the mini spring ...\n",
       "6     @tommcfly http://twitpic.com/64l1e - wow thats...\n",
       "7     @seneca That's a crying shame.  I never liked ...\n",
       "8     @kreatture there are a few in Halifax... Ex-na...\n",
       "9     Sstill happy but my feet REALLY hurt. Wish I h...\n",
       "10    We are a lil under 11 hrs away from OTH's seas...\n",
       "11    I just got new pants today . . . I just spille...\n",
       "12    @luke not getting enough sleep and letting emo...\n",
       "13    @nnorafiza @Phee78 Just read your tweets about...\n",
       "14    @JamieOber Now you know, that's not what I wan...\n",
       "15    @hazelcullen it went awful my monologues went ...\n",
       "16    said goodbye to the Baha'is tonight     One go...\n",
       "17    @celebrian then you, vanessa, and chelsea stol...\n",
       "18    is looking for her friend Kassi....where are y...\n",
       "19    we may not be able to get hoodies!  Someone ju...\n",
       "20    I woke up this morning having made a miraculou...\n",
       "21    @helga_hansen That's the problem with &quot;my...\n",
       "22             so sleepy waiting for the iphone update \n",
       "23    @bridgers I'd love to visit you, but my car di...\n",
       "24    @ErikaM12345 Ahh okay, i love that song!    I ...\n",
       "25    @georgemanning Agility not a big success   He ...\n",
       "26                                           it's dark \n",
       "27    @susanreynolds ... Or, &quot;Those halcyon day...\n",
       "28    @RK_24 Oh thank god...I think I died a little ...\n",
       "29    @heathertcb why did u cut me out of the pic fo...\n",
       "30            ugh AsHley G. she'z goinG off. . .iM sad \n",
       "31    Yikes, supposed to bring couple of dishes to f...\n",
       "32    -what happens when you purchase a cheap ring a...\n",
       "33                      @AliC66 NOT GOING  no friends x\n",
       "Name: text, dtype: object"
      ]
     },
     "execution_count": 93,
     "metadata": {},
     "output_type": "execute_result"
    }
   ],
   "source": [
    "df[\"text\"]"
   ]
  },
  {
   "cell_type": "code",
   "execution_count": 103,
   "id": "f7b8f260",
   "metadata": {},
   "outputs": [],
   "source": [
    "df[\"text\"]=df[\"text\"].replace(\"[^a-zA-Z0-9]\",\" \",regex=True)"
   ]
  },
  {
   "cell_type": "code",
   "execution_count": 104,
   "id": "ca098592",
   "metadata": {},
   "outputs": [
    {
     "data": {
      "text/html": [
       "<div>\n",
       "<style scoped>\n",
       "    .dataframe tbody tr th:only-of-type {\n",
       "        vertical-align: middle;\n",
       "    }\n",
       "\n",
       "    .dataframe tbody tr th {\n",
       "        vertical-align: top;\n",
       "    }\n",
       "\n",
       "    .dataframe thead th {\n",
       "        text-align: right;\n",
       "    }\n",
       "</style>\n",
       "<table border=\"1\" class=\"dataframe\">\n",
       "  <thead>\n",
       "    <tr style=\"text-align: right;\">\n",
       "      <th></th>\n",
       "      <th>Label</th>\n",
       "      <th>text</th>\n",
       "    </tr>\n",
       "  </thead>\n",
       "  <tbody>\n",
       "    <tr>\n",
       "      <th>0</th>\n",
       "      <td>0</td>\n",
       "      <td>im sooo sick today   so no emery concert tonight</td>\n",
       "    </tr>\n",
       "    <tr>\n",
       "      <th>1</th>\n",
       "      <td>0</td>\n",
       "      <td>Freebies Mom I haven t been able to access it...</td>\n",
       "    </tr>\n",
       "    <tr>\n",
       "      <th>2</th>\n",
       "      <td>0</td>\n",
       "      <td>won t losing you</td>\n",
       "    </tr>\n",
       "    <tr>\n",
       "      <th>3</th>\n",
       "      <td>0</td>\n",
       "      <td>GeminiTwisted I can t eat egg whites like  Da...</td>\n",
       "    </tr>\n",
       "    <tr>\n",
       "      <th>4</th>\n",
       "      <td>0</td>\n",
       "      <td>At Home Writers Block Has Set In</td>\n",
       "    </tr>\n",
       "    <tr>\n",
       "      <th>5</th>\n",
       "      <td>0</td>\n",
       "      <td>Burnt myself on my old friend the mini spring ...</td>\n",
       "    </tr>\n",
       "    <tr>\n",
       "      <th>6</th>\n",
       "      <td>0</td>\n",
       "      <td>tommcfly http   twitpic com   l e   wow thats...</td>\n",
       "    </tr>\n",
       "    <tr>\n",
       "      <th>7</th>\n",
       "      <td>0</td>\n",
       "      <td>seneca That s a crying shame   I never liked ...</td>\n",
       "    </tr>\n",
       "    <tr>\n",
       "      <th>8</th>\n",
       "      <td>0</td>\n",
       "      <td>kreatture there are a few in Halifax    Ex na...</td>\n",
       "    </tr>\n",
       "    <tr>\n",
       "      <th>9</th>\n",
       "      <td>0</td>\n",
       "      <td>Sstill happy but my feet REALLY hurt  Wish I h...</td>\n",
       "    </tr>\n",
       "    <tr>\n",
       "      <th>10</th>\n",
       "      <td>0</td>\n",
       "      <td>We are a lil under    hrs away from OTH s seas...</td>\n",
       "    </tr>\n",
       "    <tr>\n",
       "      <th>11</th>\n",
       "      <td>0</td>\n",
       "      <td>I just got new pants today       I just spille...</td>\n",
       "    </tr>\n",
       "    <tr>\n",
       "      <th>12</th>\n",
       "      <td>0</td>\n",
       "      <td>luke not getting enough sleep and letting emo...</td>\n",
       "    </tr>\n",
       "    <tr>\n",
       "      <th>13</th>\n",
       "      <td>0</td>\n",
       "      <td>nnorafiza  Phee   Just read your tweets about...</td>\n",
       "    </tr>\n",
       "    <tr>\n",
       "      <th>14</th>\n",
       "      <td>0</td>\n",
       "      <td>JamieOber Now you know  that s not what I wan...</td>\n",
       "    </tr>\n",
       "    <tr>\n",
       "      <th>15</th>\n",
       "      <td>0</td>\n",
       "      <td>hazelcullen it went awful my monologues went ...</td>\n",
       "    </tr>\n",
       "    <tr>\n",
       "      <th>16</th>\n",
       "      <td>0</td>\n",
       "      <td>said goodbye to the Baha is tonight     One go...</td>\n",
       "    </tr>\n",
       "    <tr>\n",
       "      <th>17</th>\n",
       "      <td>0</td>\n",
       "      <td>celebrian then you  vanessa  and chelsea stol...</td>\n",
       "    </tr>\n",
       "    <tr>\n",
       "      <th>18</th>\n",
       "      <td>0</td>\n",
       "      <td>is looking for her friend Kassi    where are y...</td>\n",
       "    </tr>\n",
       "    <tr>\n",
       "      <th>19</th>\n",
       "      <td>0</td>\n",
       "      <td>we may not be able to get hoodies   Someone ju...</td>\n",
       "    </tr>\n",
       "    <tr>\n",
       "      <th>20</th>\n",
       "      <td>0</td>\n",
       "      <td>I woke up this morning having made a miraculou...</td>\n",
       "    </tr>\n",
       "    <tr>\n",
       "      <th>21</th>\n",
       "      <td>0</td>\n",
       "      <td>helga hansen That s the problem with  quot my...</td>\n",
       "    </tr>\n",
       "    <tr>\n",
       "      <th>22</th>\n",
       "      <td>0</td>\n",
       "      <td>so sleepy waiting for the iphone update</td>\n",
       "    </tr>\n",
       "    <tr>\n",
       "      <th>23</th>\n",
       "      <td>0</td>\n",
       "      <td>bridgers I d love to visit you  but my car di...</td>\n",
       "    </tr>\n",
       "    <tr>\n",
       "      <th>24</th>\n",
       "      <td>0</td>\n",
       "      <td>ErikaM      Ahh okay  i love that song     I ...</td>\n",
       "    </tr>\n",
       "    <tr>\n",
       "      <th>25</th>\n",
       "      <td>0</td>\n",
       "      <td>georgemanning Agility not a big success   He ...</td>\n",
       "    </tr>\n",
       "    <tr>\n",
       "      <th>26</th>\n",
       "      <td>0</td>\n",
       "      <td>it s dark</td>\n",
       "    </tr>\n",
       "    <tr>\n",
       "      <th>27</th>\n",
       "      <td>0</td>\n",
       "      <td>susanreynolds     Or   quot Those halcyon day...</td>\n",
       "    </tr>\n",
       "    <tr>\n",
       "      <th>28</th>\n",
       "      <td>0</td>\n",
       "      <td>RK    Oh thank god   I think I died a little ...</td>\n",
       "    </tr>\n",
       "    <tr>\n",
       "      <th>29</th>\n",
       "      <td>0</td>\n",
       "      <td>heathertcb why did u cut me out of the pic fo...</td>\n",
       "    </tr>\n",
       "    <tr>\n",
       "      <th>30</th>\n",
       "      <td>0</td>\n",
       "      <td>ugh AsHley G  she z goinG off     iM sad</td>\n",
       "    </tr>\n",
       "    <tr>\n",
       "      <th>31</th>\n",
       "      <td>0</td>\n",
       "      <td>Yikes  supposed to bring couple of dishes to f...</td>\n",
       "    </tr>\n",
       "    <tr>\n",
       "      <th>32</th>\n",
       "      <td>0</td>\n",
       "      <td>what happens when you purchase a cheap ring a...</td>\n",
       "    </tr>\n",
       "    <tr>\n",
       "      <th>33</th>\n",
       "      <td>0</td>\n",
       "      <td>AliC   NOT GOING  no friends x</td>\n",
       "    </tr>\n",
       "  </tbody>\n",
       "</table>\n",
       "</div>"
      ],
      "text/plain": [
       "    Label                                               text\n",
       "0       0  im sooo sick today   so no emery concert tonight \n",
       "1       0   Freebies Mom I haven t been able to access it...\n",
       "2       0                                  won t losing you \n",
       "3       0   GeminiTwisted I can t eat egg whites like  Da...\n",
       "4       0                  At Home Writers Block Has Set In \n",
       "5       0  Burnt myself on my old friend the mini spring ...\n",
       "6       0   tommcfly http   twitpic com   l e   wow thats...\n",
       "7       0   seneca That s a crying shame   I never liked ...\n",
       "8       0   kreatture there are a few in Halifax    Ex na...\n",
       "9       0  Sstill happy but my feet REALLY hurt  Wish I h...\n",
       "10      0  We are a lil under    hrs away from OTH s seas...\n",
       "11      0  I just got new pants today       I just spille...\n",
       "12      0   luke not getting enough sleep and letting emo...\n",
       "13      0   nnorafiza  Phee   Just read your tweets about...\n",
       "14      0   JamieOber Now you know  that s not what I wan...\n",
       "15      0   hazelcullen it went awful my monologues went ...\n",
       "16      0  said goodbye to the Baha is tonight     One go...\n",
       "17      0   celebrian then you  vanessa  and chelsea stol...\n",
       "18      0  is looking for her friend Kassi    where are y...\n",
       "19      0  we may not be able to get hoodies   Someone ju...\n",
       "20      0  I woke up this morning having made a miraculou...\n",
       "21      0   helga hansen That s the problem with  quot my...\n",
       "22      0           so sleepy waiting for the iphone update \n",
       "23      0   bridgers I d love to visit you  but my car di...\n",
       "24      0   ErikaM      Ahh okay  i love that song     I ...\n",
       "25      0   georgemanning Agility not a big success   He ...\n",
       "26      0                                         it s dark \n",
       "27      0   susanreynolds     Or   quot Those halcyon day...\n",
       "28      0   RK    Oh thank god   I think I died a little ...\n",
       "29      0   heathertcb why did u cut me out of the pic fo...\n",
       "30      0          ugh AsHley G  she z goinG off     iM sad \n",
       "31      0  Yikes  supposed to bring couple of dishes to f...\n",
       "32      0   what happens when you purchase a cheap ring a...\n",
       "33      0                     AliC   NOT GOING  no friends x"
      ]
     },
     "execution_count": 104,
     "metadata": {},
     "output_type": "execute_result"
    }
   ],
   "source": [
    "df"
   ]
  }
 ],
 "metadata": {
  "kernelspec": {
   "display_name": "Python 3 (ipykernel)",
   "language": "python",
   "name": "python3"
  },
  "language_info": {
   "codemirror_mode": {
    "name": "ipython",
    "version": 3
   },
   "file_extension": ".py",
   "mimetype": "text/x-python",
   "name": "python",
   "nbconvert_exporter": "python",
   "pygments_lexer": "ipython3",
   "version": "3.10.0"
  }
 },
 "nbformat": 4,
 "nbformat_minor": 5
}
