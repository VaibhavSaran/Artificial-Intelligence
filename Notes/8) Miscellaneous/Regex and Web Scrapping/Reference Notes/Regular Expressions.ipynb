{
 "cells": [
  {
   "cell_type": "markdown",
   "id": "0ae422a2",
   "metadata": {},
   "source": [
    "## Regular Expression\n",
    "\n",
    "A regular expression, often called a pattern, is **an expression used to specify a set of strings** required for a particular purpose. \n",
    "\n",
    "- A simple way to specify a finite set of strings is to list its elements or members. <br>For example `{Doc1,1,Doc2,2,Doc3,3}`. \n",
    "    \n",
    "\n",
    "`{Doc1,Doc2,Doc3}` can be specified by the pattern `Doc(1|2|3)`. <br>We say that this pattern matches each of the two strings. [Lets check?](https://regex101.com/)\n",
    "\n",
    "> In most formalisms, if there exists at least one regular expression that matches a particular set then there exists an infinite number of other regular expressions that also match it, i.e. **the specification is not unique**.<br>\n",
    "For example, the string set `{Doc1,Doc2,Doc3}` can also be specified by the pattern `Doc\\d`.\n",
    "\n"
   ]
  },
  {
   "cell_type": "markdown",
   "id": "bcf5d398",
   "metadata": {},
   "source": [
    "## Uses of Regular Expressions\n",
    "\n",
    "**Some important usages of regular expressions are:**\n",
    "\n",
    "- Check if an input honors a given pattern; for example, we can check whether a value entered in a HTML formulary is a valid e-mail address\n",
    "> `Maniteja123@gmail.com`\n",
    "\n",
    "- Look for a pattern appearance in a piece of text; for example, check if either the word \"color\" or the word \"colour\" appears in a document with just **one scan**\n",
    "> `I like Red color and i am wearing a Red colour shirt`\n",
    "\n",
    "- Extract specific portions of a text; for example, extract the postal code of an address\n",
    "> `Mr John Smith. 132, My Street, Kingston, New York 12401.`\n",
    "\n",
    "- Replace portions of text; for example, change the appearance of \"color\" with \"colour\"\n",
    "> `I like Red colour and i am wearing a Red colour shirt`\n",
    "\n",
    "- Split a larger text into smaller pieces, for example, splitting a text by any appearance of the dot, comma, or newline characters\n",
    "> `myself person1,you are person2`"
   ]
  },
  {
   "cell_type": "markdown",
   "id": "ee719df5",
   "metadata": {},
   "source": [
    "# Meta Characters\n",
    "\n",
    "- All meta characters. `^ $ * + ? { } \\ | ( ) `\n",
    "\n",
    "  1. `.` any character (except new line character)\n",
    "  2. `^` startswith `^word`\n",
    "  3. `$` endswith `word$`\n",
    "  4. `*` zero or more occurrences\n",
    "  5. `+` one or more occurrences\n",
    "  6. `{}` exactly specified no of occurrences \"M{2}\"\n",
    "  7. `[]` A set of characters \"[a-c]\"\n",
    "  8. `\\` Signals a special sequence (can also be used to escape special characters) \"\\d\"\n",
    "  9. `|` Either or \"apple|iphone\"\n",
    "  10. `()` Capture and group"
   ]
  },
  {
   "cell_type": "markdown",
   "id": "5b3e3d05",
   "metadata": {},
   "source": [
    "#### Some examples for set \n",
    " 1. `[arn]` Returns a match where one of the specified characters (a, r, or n) are present\n",
    " 2. `[a-n]` Returns a match for any lower case character, alphabetically between a and n\n",
    " 3. `[^arn]` Returns a match for any character EXCEPT a, r, and n\n",
    " 4. `[0123]` Returns a match where any of the specified digits (0, 1, 2, or 3) are present\n",
    " 5. `[0-9]` Returns a match for any digit between 0 and 9\n",
    " 6. `0-5` Returns a match for any two-digit numbers from 00 and 59\n",
    " 7. `[a-zA-Z]` Returns a match for any character alphabetically between a and z, lower case OR upper      case"
   ]
  },
  {
   "cell_type": "markdown",
   "id": "679d09dd",
   "metadata": {},
   "source": [
    "# Special Sequences\n",
    "- A special sequence is a \\ followed by one of the characters in the list below, and has a special       meaning:\n",
    "\n",
    "  1. `\\d` : Matches any decimal digit; this is equivalent to the class [0-9].\n",
    "  2. `\\D` : Matches any non-digit character; this is equivalent to the class [^0-9].\n",
    "  3. `\\s` : Matches any whitespace character, next line character(\\n) or tab(\\t);\n",
    "  4. `\\S` : Matches any non-whitespace character;\n",
    "  5. `\\w` : Matches any alphanumeric (word) character; this is equivalent to the class [a-zA-Z0-9_].\n",
    "  6. `\\W` : Matches any non-alphanumeric character; this is equivalent to the class [^a-zA-Z0-9_]."
   ]
  }
 ],
 "metadata": {
  "kernelspec": {
   "display_name": "Python 3 (ipykernel)",
   "language": "python",
   "name": "python3"
  },
  "language_info": {
   "codemirror_mode": {
    "name": "ipython",
    "version": 3
   },
   "file_extension": ".py",
   "mimetype": "text/x-python",
   "name": "python",
   "nbconvert_exporter": "python",
   "pygments_lexer": "ipython3",
   "version": "3.10.0"
  }
 },
 "nbformat": 4,
 "nbformat_minor": 5
}
