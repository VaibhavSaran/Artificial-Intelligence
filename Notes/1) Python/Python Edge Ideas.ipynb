{
 "cells": [
  {
   "cell_type": "code",
   "execution_count": 1,
   "id": "86bf027c",
   "metadata": {},
   "outputs": [],
   "source": [
    "import numpy as np"
   ]
  },
  {
   "cell_type": "code",
   "execution_count": 15,
   "id": "933cd103",
   "metadata": {},
   "outputs": [
    {
     "data": {
      "text/plain": [
       "numpy.int32"
      ]
     },
     "execution_count": 15,
     "metadata": {},
     "output_type": "execute_result"
    }
   ],
   "source": [
    "w=np.sum(np.arange(1,100000))\n",
    "type(w)"
   ]
  },
  {
   "cell_type": "code",
   "execution_count": 12,
   "id": "a3d3443d",
   "metadata": {},
   "outputs": [
    {
     "data": {
      "text/plain": [
       "4999950000"
      ]
     },
     "execution_count": 12,
     "metadata": {},
     "output_type": "execute_result"
    }
   ],
   "source": [
    "sum([i for i in range(1,100000)])"
   ]
  },
  {
   "cell_type": "code",
   "execution_count": 13,
   "id": "47cc7e4d",
   "metadata": {},
   "outputs": [
    {
     "data": {
      "text/plain": [
       "array([    1,     2,     3, ..., 99997, 99998, 99999])"
      ]
     },
     "execution_count": 13,
     "metadata": {},
     "output_type": "execute_result"
    }
   ],
   "source": [
    "np.arange(1,100000)"
   ]
  },
  {
   "cell_type": "code",
   "execution_count": 17,
   "id": "726c1eac",
   "metadata": {},
   "outputs": [
    {
     "data": {
      "text/plain": [
       "4294967296"
      ]
     },
     "execution_count": 17,
     "metadata": {},
     "output_type": "execute_result"
    }
   ],
   "source": [
    "2**32"
   ]
  },
  {
   "cell_type": "code",
   "execution_count": 16,
   "id": "17ea41b2",
   "metadata": {},
   "outputs": [
    {
     "data": {
      "text/plain": [
       "[1,\n",
       " 2,\n",
       " 3,\n",
       " 4,\n",
       " 5,\n",
       " 6,\n",
       " 7,\n",
       " 8,\n",
       " 9,\n",
       " 10,\n",
       " 11,\n",
       " 12,\n",
       " 13,\n",
       " 14,\n",
       " 15,\n",
       " 16,\n",
       " 17,\n",
       " 18,\n",
       " 19,\n",
       " 20,\n",
       " 21,\n",
       " 22,\n",
       " 23,\n",
       " 24,\n",
       " 25,\n",
       " 26,\n",
       " 27,\n",
       " 28,\n",
       " 29,\n",
       " 30,\n",
       " 31,\n",
       " 32,\n",
       " 33,\n",
       " 34,\n",
       " 35,\n",
       " 36,\n",
       " 37,\n",
       " 38,\n",
       " 39,\n",
       " 40,\n",
       " 41,\n",
       " 42,\n",
       " 43,\n",
       " 44,\n",
       " 45,\n",
       " 46,\n",
       " 47,\n",
       " 48,\n",
       " 49,\n",
       " 50,\n",
       " 51,\n",
       " 52,\n",
       " 53,\n",
       " 54,\n",
       " 55,\n",
       " 56,\n",
       " 57,\n",
       " 58,\n",
       " 59,\n",
       " 60,\n",
       " 61,\n",
       " 62,\n",
       " 63,\n",
       " 64,\n",
       " 65,\n",
       " 66,\n",
       " 67,\n",
       " 68,\n",
       " 69,\n",
       " 70,\n",
       " 71,\n",
       " 72,\n",
       " 73,\n",
       " 74,\n",
       " 75,\n",
       " 76,\n",
       " 77,\n",
       " 78,\n",
       " 79,\n",
       " 80,\n",
       " 81,\n",
       " 82,\n",
       " 83,\n",
       " 84,\n",
       " 85,\n",
       " 86,\n",
       " 87,\n",
       " 88,\n",
       " 89,\n",
       " 90,\n",
       " 91,\n",
       " 92,\n",
       " 93,\n",
       " 94,\n",
       " 95,\n",
       " 96,\n",
       " 97,\n",
       " 98,\n",
       " 99,\n",
       " 100,\n",
       " 101,\n",
       " 102,\n",
       " 103,\n",
       " 104,\n",
       " 105,\n",
       " 106,\n",
       " 107,\n",
       " 108,\n",
       " 109,\n",
       " 110,\n",
       " 111,\n",
       " 112,\n",
       " 113,\n",
       " 114,\n",
       " 115,\n",
       " 116,\n",
       " 117,\n",
       " 118,\n",
       " 119,\n",
       " 120,\n",
       " 121,\n",
       " 122,\n",
       " 123,\n",
       " 124,\n",
       " 125,\n",
       " 126,\n",
       " 127,\n",
       " 128,\n",
       " 129,\n",
       " 130,\n",
       " 131,\n",
       " 132,\n",
       " 133,\n",
       " 134,\n",
       " 135,\n",
       " 136,\n",
       " 137,\n",
       " 138,\n",
       " 139,\n",
       " 140,\n",
       " 141,\n",
       " 142,\n",
       " 143,\n",
       " 144,\n",
       " 145,\n",
       " 146,\n",
       " 147,\n",
       " 148,\n",
       " 149,\n",
       " 150,\n",
       " 151,\n",
       " 152,\n",
       " 153,\n",
       " 154,\n",
       " 155,\n",
       " 156,\n",
       " 157,\n",
       " 158,\n",
       " 159,\n",
       " 160,\n",
       " 161,\n",
       " 162,\n",
       " 163,\n",
       " 164,\n",
       " 165,\n",
       " 166,\n",
       " 167,\n",
       " 168,\n",
       " 169,\n",
       " 170,\n",
       " 171,\n",
       " 172,\n",
       " 173,\n",
       " 174,\n",
       " 175,\n",
       " 176,\n",
       " 177,\n",
       " 178,\n",
       " 179,\n",
       " 180,\n",
       " 181,\n",
       " 182,\n",
       " 183,\n",
       " 184,\n",
       " 185,\n",
       " 186,\n",
       " 187,\n",
       " 188,\n",
       " 189,\n",
       " 190,\n",
       " 191,\n",
       " 192,\n",
       " 193,\n",
       " 194,\n",
       " 195,\n",
       " 196,\n",
       " 197,\n",
       " 198,\n",
       " 199,\n",
       " 200,\n",
       " 201,\n",
       " 202,\n",
       " 203,\n",
       " 204,\n",
       " 205,\n",
       " 206,\n",
       " 207,\n",
       " 208,\n",
       " 209,\n",
       " 210,\n",
       " 211,\n",
       " 212,\n",
       " 213,\n",
       " 214,\n",
       " 215,\n",
       " 216,\n",
       " 217,\n",
       " 218,\n",
       " 219,\n",
       " 220,\n",
       " 221,\n",
       " 222,\n",
       " 223,\n",
       " 224,\n",
       " 225,\n",
       " 226,\n",
       " 227,\n",
       " 228,\n",
       " 229,\n",
       " 230,\n",
       " 231,\n",
       " 232,\n",
       " 233,\n",
       " 234,\n",
       " 235,\n",
       " 236,\n",
       " 237,\n",
       " 238,\n",
       " 239,\n",
       " 240,\n",
       " 241,\n",
       " 242,\n",
       " 243,\n",
       " 244,\n",
       " 245,\n",
       " 246,\n",
       " 247,\n",
       " 248,\n",
       " 249,\n",
       " 250,\n",
       " 251,\n",
       " 252,\n",
       " 253,\n",
       " 254,\n",
       " 255,\n",
       " 256,\n",
       " 257,\n",
       " 258,\n",
       " 259,\n",
       " 260,\n",
       " 261,\n",
       " 262,\n",
       " 263,\n",
       " 264,\n",
       " 265,\n",
       " 266,\n",
       " 267,\n",
       " 268,\n",
       " 269,\n",
       " 270,\n",
       " 271,\n",
       " 272,\n",
       " 273,\n",
       " 274,\n",
       " 275,\n",
       " 276,\n",
       " 277,\n",
       " 278,\n",
       " 279,\n",
       " 280,\n",
       " 281,\n",
       " 282,\n",
       " 283,\n",
       " 284,\n",
       " 285,\n",
       " 286,\n",
       " 287,\n",
       " 288,\n",
       " 289,\n",
       " 290,\n",
       " 291,\n",
       " 292,\n",
       " 293,\n",
       " 294,\n",
       " 295,\n",
       " 296,\n",
       " 297,\n",
       " 298,\n",
       " 299,\n",
       " 300,\n",
       " 301,\n",
       " 302,\n",
       " 303,\n",
       " 304,\n",
       " 305,\n",
       " 306,\n",
       " 307,\n",
       " 308,\n",
       " 309,\n",
       " 310,\n",
       " 311,\n",
       " 312,\n",
       " 313,\n",
       " 314,\n",
       " 315,\n",
       " 316,\n",
       " 317,\n",
       " 318,\n",
       " 319,\n",
       " 320,\n",
       " 321,\n",
       " 322,\n",
       " 323,\n",
       " 324,\n",
       " 325,\n",
       " 326,\n",
       " 327,\n",
       " 328,\n",
       " 329,\n",
       " 330,\n",
       " 331,\n",
       " 332,\n",
       " 333,\n",
       " 334,\n",
       " 335,\n",
       " 336,\n",
       " 337,\n",
       " 338,\n",
       " 339,\n",
       " 340,\n",
       " 341,\n",
       " 342,\n",
       " 343,\n",
       " 344,\n",
       " 345,\n",
       " 346,\n",
       " 347,\n",
       " 348,\n",
       " 349,\n",
       " 350,\n",
       " 351,\n",
       " 352,\n",
       " 353,\n",
       " 354,\n",
       " 355,\n",
       " 356,\n",
       " 357,\n",
       " 358,\n",
       " 359,\n",
       " 360,\n",
       " 361,\n",
       " 362,\n",
       " 363,\n",
       " 364,\n",
       " 365,\n",
       " 366,\n",
       " 367,\n",
       " 368,\n",
       " 369,\n",
       " 370,\n",
       " 371,\n",
       " 372,\n",
       " 373,\n",
       " 374,\n",
       " 375,\n",
       " 376,\n",
       " 377,\n",
       " 378,\n",
       " 379,\n",
       " 380,\n",
       " 381,\n",
       " 382,\n",
       " 383,\n",
       " 384,\n",
       " 385,\n",
       " 386,\n",
       " 387,\n",
       " 388,\n",
       " 389,\n",
       " 390,\n",
       " 391,\n",
       " 392,\n",
       " 393,\n",
       " 394,\n",
       " 395,\n",
       " 396,\n",
       " 397,\n",
       " 398,\n",
       " 399,\n",
       " 400,\n",
       " 401,\n",
       " 402,\n",
       " 403,\n",
       " 404,\n",
       " 405,\n",
       " 406,\n",
       " 407,\n",
       " 408,\n",
       " 409,\n",
       " 410,\n",
       " 411,\n",
       " 412,\n",
       " 413,\n",
       " 414,\n",
       " 415,\n",
       " 416,\n",
       " 417,\n",
       " 418,\n",
       " 419,\n",
       " 420,\n",
       " 421,\n",
       " 422,\n",
       " 423,\n",
       " 424,\n",
       " 425,\n",
       " 426,\n",
       " 427,\n",
       " 428,\n",
       " 429,\n",
       " 430,\n",
       " 431,\n",
       " 432,\n",
       " 433,\n",
       " 434,\n",
       " 435,\n",
       " 436,\n",
       " 437,\n",
       " 438,\n",
       " 439,\n",
       " 440,\n",
       " 441,\n",
       " 442,\n",
       " 443,\n",
       " 444,\n",
       " 445,\n",
       " 446,\n",
       " 447,\n",
       " 448,\n",
       " 449,\n",
       " 450,\n",
       " 451,\n",
       " 452,\n",
       " 453,\n",
       " 454,\n",
       " 455,\n",
       " 456,\n",
       " 457,\n",
       " 458,\n",
       " 459,\n",
       " 460,\n",
       " 461,\n",
       " 462,\n",
       " 463,\n",
       " 464,\n",
       " 465,\n",
       " 466,\n",
       " 467,\n",
       " 468,\n",
       " 469,\n",
       " 470,\n",
       " 471,\n",
       " 472,\n",
       " 473,\n",
       " 474,\n",
       " 475,\n",
       " 476,\n",
       " 477,\n",
       " 478,\n",
       " 479,\n",
       " 480,\n",
       " 481,\n",
       " 482,\n",
       " 483,\n",
       " 484,\n",
       " 485,\n",
       " 486,\n",
       " 487,\n",
       " 488,\n",
       " 489,\n",
       " 490,\n",
       " 491,\n",
       " 492,\n",
       " 493,\n",
       " 494,\n",
       " 495,\n",
       " 496,\n",
       " 497,\n",
       " 498,\n",
       " 499,\n",
       " 500,\n",
       " 501,\n",
       " 502,\n",
       " 503,\n",
       " 504,\n",
       " 505,\n",
       " 506,\n",
       " 507,\n",
       " 508,\n",
       " 509,\n",
       " 510,\n",
       " 511,\n",
       " 512,\n",
       " 513,\n",
       " 514,\n",
       " 515,\n",
       " 516,\n",
       " 517,\n",
       " 518,\n",
       " 519,\n",
       " 520,\n",
       " 521,\n",
       " 522,\n",
       " 523,\n",
       " 524,\n",
       " 525,\n",
       " 526,\n",
       " 527,\n",
       " 528,\n",
       " 529,\n",
       " 530,\n",
       " 531,\n",
       " 532,\n",
       " 533,\n",
       " 534,\n",
       " 535,\n",
       " 536,\n",
       " 537,\n",
       " 538,\n",
       " 539,\n",
       " 540,\n",
       " 541,\n",
       " 542,\n",
       " 543,\n",
       " 544,\n",
       " 545,\n",
       " 546,\n",
       " 547,\n",
       " 548,\n",
       " 549,\n",
       " 550,\n",
       " 551,\n",
       " 552,\n",
       " 553,\n",
       " 554,\n",
       " 555,\n",
       " 556,\n",
       " 557,\n",
       " 558,\n",
       " 559,\n",
       " 560,\n",
       " 561,\n",
       " 562,\n",
       " 563,\n",
       " 564,\n",
       " 565,\n",
       " 566,\n",
       " 567,\n",
       " 568,\n",
       " 569,\n",
       " 570,\n",
       " 571,\n",
       " 572,\n",
       " 573,\n",
       " 574,\n",
       " 575,\n",
       " 576,\n",
       " 577,\n",
       " 578,\n",
       " 579,\n",
       " 580,\n",
       " 581,\n",
       " 582,\n",
       " 583,\n",
       " 584,\n",
       " 585,\n",
       " 586,\n",
       " 587,\n",
       " 588,\n",
       " 589,\n",
       " 590,\n",
       " 591,\n",
       " 592,\n",
       " 593,\n",
       " 594,\n",
       " 595,\n",
       " 596,\n",
       " 597,\n",
       " 598,\n",
       " 599,\n",
       " 600,\n",
       " 601,\n",
       " 602,\n",
       " 603,\n",
       " 604,\n",
       " 605,\n",
       " 606,\n",
       " 607,\n",
       " 608,\n",
       " 609,\n",
       " 610,\n",
       " 611,\n",
       " 612,\n",
       " 613,\n",
       " 614,\n",
       " 615,\n",
       " 616,\n",
       " 617,\n",
       " 618,\n",
       " 619,\n",
       " 620,\n",
       " 621,\n",
       " 622,\n",
       " 623,\n",
       " 624,\n",
       " 625,\n",
       " 626,\n",
       " 627,\n",
       " 628,\n",
       " 629,\n",
       " 630,\n",
       " 631,\n",
       " 632,\n",
       " 633,\n",
       " 634,\n",
       " 635,\n",
       " 636,\n",
       " 637,\n",
       " 638,\n",
       " 639,\n",
       " 640,\n",
       " 641,\n",
       " 642,\n",
       " 643,\n",
       " 644,\n",
       " 645,\n",
       " 646,\n",
       " 647,\n",
       " 648,\n",
       " 649,\n",
       " 650,\n",
       " 651,\n",
       " 652,\n",
       " 653,\n",
       " 654,\n",
       " 655,\n",
       " 656,\n",
       " 657,\n",
       " 658,\n",
       " 659,\n",
       " 660,\n",
       " 661,\n",
       " 662,\n",
       " 663,\n",
       " 664,\n",
       " 665,\n",
       " 666,\n",
       " 667,\n",
       " 668,\n",
       " 669,\n",
       " 670,\n",
       " 671,\n",
       " 672,\n",
       " 673,\n",
       " 674,\n",
       " 675,\n",
       " 676,\n",
       " 677,\n",
       " 678,\n",
       " 679,\n",
       " 680,\n",
       " 681,\n",
       " 682,\n",
       " 683,\n",
       " 684,\n",
       " 685,\n",
       " 686,\n",
       " 687,\n",
       " 688,\n",
       " 689,\n",
       " 690,\n",
       " 691,\n",
       " 692,\n",
       " 693,\n",
       " 694,\n",
       " 695,\n",
       " 696,\n",
       " 697,\n",
       " 698,\n",
       " 699,\n",
       " 700,\n",
       " 701,\n",
       " 702,\n",
       " 703,\n",
       " 704,\n",
       " 705,\n",
       " 706,\n",
       " 707,\n",
       " 708,\n",
       " 709,\n",
       " 710,\n",
       " 711,\n",
       " 712,\n",
       " 713,\n",
       " 714,\n",
       " 715,\n",
       " 716,\n",
       " 717,\n",
       " 718,\n",
       " 719,\n",
       " 720,\n",
       " 721,\n",
       " 722,\n",
       " 723,\n",
       " 724,\n",
       " 725,\n",
       " 726,\n",
       " 727,\n",
       " 728,\n",
       " 729,\n",
       " 730,\n",
       " 731,\n",
       " 732,\n",
       " 733,\n",
       " 734,\n",
       " 735,\n",
       " 736,\n",
       " 737,\n",
       " 738,\n",
       " 739,\n",
       " 740,\n",
       " 741,\n",
       " 742,\n",
       " 743,\n",
       " 744,\n",
       " 745,\n",
       " 746,\n",
       " 747,\n",
       " 748,\n",
       " 749,\n",
       " 750,\n",
       " 751,\n",
       " 752,\n",
       " 753,\n",
       " 754,\n",
       " 755,\n",
       " 756,\n",
       " 757,\n",
       " 758,\n",
       " 759,\n",
       " 760,\n",
       " 761,\n",
       " 762,\n",
       " 763,\n",
       " 764,\n",
       " 765,\n",
       " 766,\n",
       " 767,\n",
       " 768,\n",
       " 769,\n",
       " 770,\n",
       " 771,\n",
       " 772,\n",
       " 773,\n",
       " 774,\n",
       " 775,\n",
       " 776,\n",
       " 777,\n",
       " 778,\n",
       " 779,\n",
       " 780,\n",
       " 781,\n",
       " 782,\n",
       " 783,\n",
       " 784,\n",
       " 785,\n",
       " 786,\n",
       " 787,\n",
       " 788,\n",
       " 789,\n",
       " 790,\n",
       " 791,\n",
       " 792,\n",
       " 793,\n",
       " 794,\n",
       " 795,\n",
       " 796,\n",
       " 797,\n",
       " 798,\n",
       " 799,\n",
       " 800,\n",
       " 801,\n",
       " 802,\n",
       " 803,\n",
       " 804,\n",
       " 805,\n",
       " 806,\n",
       " 807,\n",
       " 808,\n",
       " 809,\n",
       " 810,\n",
       " 811,\n",
       " 812,\n",
       " 813,\n",
       " 814,\n",
       " 815,\n",
       " 816,\n",
       " 817,\n",
       " 818,\n",
       " 819,\n",
       " 820,\n",
       " 821,\n",
       " 822,\n",
       " 823,\n",
       " 824,\n",
       " 825,\n",
       " 826,\n",
       " 827,\n",
       " 828,\n",
       " 829,\n",
       " 830,\n",
       " 831,\n",
       " 832,\n",
       " 833,\n",
       " 834,\n",
       " 835,\n",
       " 836,\n",
       " 837,\n",
       " 838,\n",
       " 839,\n",
       " 840,\n",
       " 841,\n",
       " 842,\n",
       " 843,\n",
       " 844,\n",
       " 845,\n",
       " 846,\n",
       " 847,\n",
       " 848,\n",
       " 849,\n",
       " 850,\n",
       " 851,\n",
       " 852,\n",
       " 853,\n",
       " 854,\n",
       " 855,\n",
       " 856,\n",
       " 857,\n",
       " 858,\n",
       " 859,\n",
       " 860,\n",
       " 861,\n",
       " 862,\n",
       " 863,\n",
       " 864,\n",
       " 865,\n",
       " 866,\n",
       " 867,\n",
       " 868,\n",
       " 869,\n",
       " 870,\n",
       " 871,\n",
       " 872,\n",
       " 873,\n",
       " 874,\n",
       " 875,\n",
       " 876,\n",
       " 877,\n",
       " 878,\n",
       " 879,\n",
       " 880,\n",
       " 881,\n",
       " 882,\n",
       " 883,\n",
       " 884,\n",
       " 885,\n",
       " 886,\n",
       " 887,\n",
       " 888,\n",
       " 889,\n",
       " 890,\n",
       " 891,\n",
       " 892,\n",
       " 893,\n",
       " 894,\n",
       " 895,\n",
       " 896,\n",
       " 897,\n",
       " 898,\n",
       " 899,\n",
       " 900,\n",
       " 901,\n",
       " 902,\n",
       " 903,\n",
       " 904,\n",
       " 905,\n",
       " 906,\n",
       " 907,\n",
       " 908,\n",
       " 909,\n",
       " 910,\n",
       " 911,\n",
       " 912,\n",
       " 913,\n",
       " 914,\n",
       " 915,\n",
       " 916,\n",
       " 917,\n",
       " 918,\n",
       " 919,\n",
       " 920,\n",
       " 921,\n",
       " 922,\n",
       " 923,\n",
       " 924,\n",
       " 925,\n",
       " 926,\n",
       " 927,\n",
       " 928,\n",
       " 929,\n",
       " 930,\n",
       " 931,\n",
       " 932,\n",
       " 933,\n",
       " 934,\n",
       " 935,\n",
       " 936,\n",
       " 937,\n",
       " 938,\n",
       " 939,\n",
       " 940,\n",
       " 941,\n",
       " 942,\n",
       " 943,\n",
       " 944,\n",
       " 945,\n",
       " 946,\n",
       " 947,\n",
       " 948,\n",
       " 949,\n",
       " 950,\n",
       " 951,\n",
       " 952,\n",
       " 953,\n",
       " 954,\n",
       " 955,\n",
       " 956,\n",
       " 957,\n",
       " 958,\n",
       " 959,\n",
       " 960,\n",
       " 961,\n",
       " 962,\n",
       " 963,\n",
       " 964,\n",
       " 965,\n",
       " 966,\n",
       " 967,\n",
       " 968,\n",
       " 969,\n",
       " 970,\n",
       " 971,\n",
       " 972,\n",
       " 973,\n",
       " 974,\n",
       " 975,\n",
       " 976,\n",
       " 977,\n",
       " 978,\n",
       " 979,\n",
       " 980,\n",
       " 981,\n",
       " 982,\n",
       " 983,\n",
       " 984,\n",
       " 985,\n",
       " 986,\n",
       " 987,\n",
       " 988,\n",
       " 989,\n",
       " 990,\n",
       " 991,\n",
       " 992,\n",
       " 993,\n",
       " 994,\n",
       " 995,\n",
       " 996,\n",
       " 997,\n",
       " 998,\n",
       " 999,\n",
       " 1000,\n",
       " ...]"
      ]
     },
     "execution_count": 16,
     "metadata": {},
     "output_type": "execute_result"
    }
   ],
   "source": [
    "[i for i in range(1,100000)]"
   ]
  },
  {
   "cell_type": "markdown",
   "id": "33ffb5b2",
   "metadata": {
    "jp-MarkdownHeadingCollapsed": true
   },
   "source": [
    "# 14 August 2023"
   ]
  },
  {
   "cell_type": "code",
   "execution_count": 1,
   "id": "f0065848",
   "metadata": {},
   "outputs": [
    {
     "data": {
      "text/plain": [
       "[(1, 1), (2, 2), (3, 3), (4, 4)]"
      ]
     },
     "execution_count": 1,
     "metadata": {},
     "output_type": "execute_result"
    }
   ],
   "source": [
    "list(zip({1,2,3,4},{1,2,3,4}))"
   ]
  },
  {
   "cell_type": "code",
   "execution_count": 2,
   "id": "f18282e7",
   "metadata": {},
   "outputs": [
    {
     "data": {
      "text/plain": [
       "[(1, 1), (2, 2), (3, 4)]"
      ]
     },
     "execution_count": 2,
     "metadata": {},
     "output_type": "execute_result"
    }
   ],
   "source": [
    "list(zip({1,2,3,4},{1,2,4}))"
   ]
  },
  {
   "cell_type": "code",
   "execution_count": 3,
   "id": "9bdd3a56",
   "metadata": {},
   "outputs": [
    {
     "name": "stdout",
     "output_type": "stream",
     "text": [
      "Help on class zip in module builtins:\n",
      "\n",
      "class zip(object)\n",
      " |  zip(*iterables) --> A zip object yielding tuples until an input is exhausted.\n",
      " |  \n",
      " |     >>> list(zip('abcdefg', range(3), range(4)))\n",
      " |     [('a', 0, 0), ('b', 1, 1), ('c', 2, 2)]\n",
      " |  \n",
      " |  The zip object yields n-length tuples, where n is the number of iterables\n",
      " |  passed as positional arguments to zip().  The i-th element in every tuple\n",
      " |  comes from the i-th iterable argument to zip().  This continues until the\n",
      " |  shortest argument is exhausted.\n",
      " |  \n",
      " |  Methods defined here:\n",
      " |  \n",
      " |  __getattribute__(self, name, /)\n",
      " |      Return getattr(self, name).\n",
      " |  \n",
      " |  __iter__(self, /)\n",
      " |      Implement iter(self).\n",
      " |  \n",
      " |  __next__(self, /)\n",
      " |      Implement next(self).\n",
      " |  \n",
      " |  __reduce__(...)\n",
      " |      Return state information for pickling.\n",
      " |  \n",
      " |  ----------------------------------------------------------------------\n",
      " |  Static methods defined here:\n",
      " |  \n",
      " |  __new__(*args, **kwargs) from builtins.type\n",
      " |      Create and return a new object.  See help(type) for accurate signature.\n",
      "\n"
     ]
    }
   ],
   "source": [
    "help(zip)"
   ]
  },
  {
   "cell_type": "code",
   "execution_count": 8,
   "id": "82fa679b",
   "metadata": {},
   "outputs": [
    {
     "data": {
      "text/plain": [
       "2719849556896"
      ]
     },
     "execution_count": 8,
     "metadata": {},
     "output_type": "execute_result"
    }
   ],
   "source": [
    "a = {1,257,3,4}\n",
    "b = {1,257,3,4}\n",
    "id(a)"
   ]
  },
  {
   "cell_type": "code",
   "execution_count": 9,
   "id": "5d75f19b",
   "metadata": {},
   "outputs": [
    {
     "data": {
      "text/plain": [
       "2719849555104"
      ]
     },
     "execution_count": 9,
     "metadata": {},
     "output_type": "execute_result"
    }
   ],
   "source": [
    "id(b)"
   ]
  },
  {
   "cell_type": "code",
   "execution_count": 13,
   "id": "0d45e026",
   "metadata": {},
   "outputs": [
    {
     "name": "stdout",
     "output_type": "stream",
     "text": [
      "1 140720690632464\n",
      "3 140720690632528\n",
      "4 140720690632560\n",
      "257 2719849441232\n"
     ]
    }
   ],
   "source": [
    "for i in a:\n",
    "    print(i,id(i))"
   ]
  },
  {
   "cell_type": "code",
   "execution_count": 14,
   "id": "a18f2ab0",
   "metadata": {},
   "outputs": [
    {
     "name": "stdout",
     "output_type": "stream",
     "text": [
      "1 140720690632464\n",
      "3 140720690632528\n",
      "4 140720690632560\n",
      "257 2719849441584\n"
     ]
    }
   ],
   "source": [
    "for i in b:\n",
    "    print(i,id(i))"
   ]
  },
  {
   "cell_type": "code",
   "execution_count": 12,
   "id": "e7d9767b",
   "metadata": {},
   "outputs": [
    {
     "data": {
      "text/plain": [
       "[(1, 1), (3, 3), (4, 4), (257, 257)]"
      ]
     },
     "execution_count": 12,
     "metadata": {},
     "output_type": "execute_result"
    }
   ],
   "source": [
    "list(zip(a,b))"
   ]
  },
  {
   "cell_type": "markdown",
   "id": "c61ea36f",
   "metadata": {
    "jp-MarkdownHeadingCollapsed": true
   },
   "source": [
    "# 17 August 2023 "
   ]
  },
  {
   "cell_type": "code",
   "execution_count": 1,
   "id": "2eb9357f",
   "metadata": {},
   "outputs": [],
   "source": [
    "# Courtsey of Ramya Maam\n",
    "l1 = [1,2,3,4]\n",
    "l2 = [\"true\",True,False]"
   ]
  },
  {
   "cell_type": "code",
   "execution_count": 2,
   "id": "39e19e80",
   "metadata": {},
   "outputs": [
    {
     "data": {
      "text/plain": [
       "[1, 2, 3, 4, ['true', True, False]]"
      ]
     },
     "execution_count": 2,
     "metadata": {},
     "output_type": "execute_result"
    }
   ],
   "source": [
    "l1.append(l2)\n",
    "l1"
   ]
  },
  {
   "cell_type": "code",
   "execution_count": 3,
   "id": "8052dc90",
   "metadata": {},
   "outputs": [
    {
     "data": {
      "text/plain": [
       "['true', True, False]"
      ]
     },
     "execution_count": 3,
     "metadata": {},
     "output_type": "execute_result"
    }
   ],
   "source": [
    "l2"
   ]
  },
  {
   "cell_type": "code",
   "execution_count": 4,
   "id": "6b16837d",
   "metadata": {},
   "outputs": [
    {
     "data": {
      "text/plain": [
       "['true', True, False, 1, 2, 3, 4, [...]]"
      ]
     },
     "execution_count": 4,
     "metadata": {},
     "output_type": "execute_result"
    }
   ],
   "source": [
    "l2.extend(l1)\n",
    "l2"
   ]
  },
  {
   "cell_type": "code",
   "execution_count": 5,
   "id": "9a607441",
   "metadata": {},
   "outputs": [
    {
     "data": {
      "text/plain": [
       "[1, 2, 3, 4, ['true', True, False, 1, 2, 3, 4, [...]]]"
      ]
     },
     "execution_count": 5,
     "metadata": {},
     "output_type": "execute_result"
    }
   ],
   "source": [
    "l1"
   ]
  },
  {
   "cell_type": "code",
   "execution_count": 7,
   "id": "3edc4c82",
   "metadata": {},
   "outputs": [
    {
     "data": {
      "text/plain": [
       "2507530303488"
      ]
     },
     "execution_count": 7,
     "metadata": {},
     "output_type": "execute_result"
    }
   ],
   "source": [
    "id(l2)"
   ]
  },
  {
   "cell_type": "code",
   "execution_count": 8,
   "id": "747743f9",
   "metadata": {},
   "outputs": [
    {
     "name": "stdout",
     "output_type": "stream",
     "text": [
      "2507447914032\n",
      "140719606912848\n",
      "140719606912880\n",
      "140719607191312\n",
      "140719607191344\n",
      "140719607191376\n",
      "140719607191408\n",
      "2507530303488\n"
     ]
    }
   ],
   "source": [
    "for i in l1[-1]:\n",
    "    print(id(i))"
   ]
  },
  {
   "cell_type": "code",
   "execution_count": 9,
   "id": "7beb82c2",
   "metadata": {},
   "outputs": [
    {
     "name": "stdout",
     "output_type": "stream",
     "text": [
      "2507447914032\n",
      "140719606912848\n",
      "140719606912880\n",
      "140719607191312\n",
      "140719607191344\n",
      "140719607191376\n",
      "140719607191408\n",
      "2507530303488\n"
     ]
    }
   ],
   "source": [
    "for i in l1[-1][-1]:\n",
    "    print(id(i))"
   ]
  },
  {
   "cell_type": "markdown",
   "id": "9d849078",
   "metadata": {},
   "source": [
    "The above behaviour happens because when we append l2 in l1 a view is created and when l2 is extended internally l1 is also getting updated and this process happens infinite times and to show that in the end we get ```[...]``` and it will always give the entire list on -1"
   ]
  },
  {
   "cell_type": "code",
   "execution_count": 6,
   "id": "243fb95b",
   "metadata": {},
   "outputs": [
    {
     "data": {
      "text/plain": [
       "['true', True, False, 1, 2, 3, 4, [...]]"
      ]
     },
     "execution_count": 6,
     "metadata": {},
     "output_type": "execute_result"
    }
   ],
   "source": [
    "l2[-1]"
   ]
  },
  {
   "cell_type": "markdown",
   "id": "5a48a035",
   "metadata": {
    "jp-MarkdownHeadingCollapsed": true
   },
   "source": [
    "# 1 September 2023 "
   ]
  },
  {
   "cell_type": "code",
   "execution_count": 2,
   "id": "d84cf00e",
   "metadata": {},
   "outputs": [
    {
     "data": {
      "text/plain": [
       "{True, 2, 3, 4}"
      ]
     },
     "execution_count": 2,
     "metadata": {},
     "output_type": "execute_result"
    }
   ],
   "source": [
    "a = {2,3,4,True}\n",
    "a"
   ]
  },
  {
   "cell_type": "code",
   "execution_count": 3,
   "id": "2a8de912",
   "metadata": {},
   "outputs": [
    {
     "data": {
      "text/plain": [
       "{1, 2, 3}"
      ]
     },
     "execution_count": 3,
     "metadata": {},
     "output_type": "execute_result"
    }
   ],
   "source": [
    "a = {1,2,3,True}\n",
    "a"
   ]
  },
  {
   "cell_type": "markdown",
   "id": "311bb664",
   "metadata": {},
   "source": [
    "The above behaviour happens because internally set treats True in its boolean value which is 1 so the core concept of set is no duplicates so the 1 only comes 1 time. Same can also be created with False"
   ]
  },
  {
   "cell_type": "code",
   "execution_count": 5,
   "id": "b4deeac1",
   "metadata": {},
   "outputs": [
    {
     "data": {
      "text/plain": [
       "{0, 1, 2, 3}"
      ]
     },
     "execution_count": 5,
     "metadata": {},
     "output_type": "execute_result"
    }
   ],
   "source": [
    "a= {0,1,2,3,False}\n",
    "a"
   ]
  },
  {
   "cell_type": "markdown",
   "id": "b82a2eb0",
   "metadata": {},
   "source": [
    "------------------"
   ]
  },
  {
   "cell_type": "code",
   "execution_count": 24,
   "id": "cbb9d702",
   "metadata": {},
   "outputs": [
    {
     "name": "stdout",
     "output_type": "stream",
     "text": [
      "False\n",
      "2738274234160 2738274234160\n",
      "2738274234160 2738274234160\n",
      "{2738274234160}\n",
      "2738336393232 2738337380992\n"
     ]
    }
   ],
   "source": [
    "a = 'a'*4097\n",
    "b = 'a'*4097\n",
    "print(a is b)\n",
    "print(id(a[0]),id(b[0]))\n",
    "print(id(a[4096]),id(b[4096]))\n",
    "c = set()\n",
    "for i in a:\n",
    "    c.add(id(i))\n",
    "print(c)\n",
    "print(id(a),id(b))"
   ]
  },
  {
   "cell_type": "code",
   "execution_count": 9,
   "id": "0ef08be3",
   "metadata": {},
   "outputs": [
    {
     "name": "stdout",
     "output_type": "stream",
     "text": [
      "True\n",
      "2738311676080 2738311676080\n"
     ]
    }
   ],
   "source": [
    "a = 'a'*4096\n",
    "b = 'a'*4096\n",
    "print(a is b)\n",
    "print(id(a),id(b))"
   ]
  },
  {
   "cell_type": "markdown",
   "id": "937fe1ea",
   "metadata": {},
   "source": [
    "Possible explanation: There is a limit to how many characters can be stored in same memory location"
   ]
  },
  {
   "cell_type": "code",
   "execution_count": 22,
   "id": "850c1b4c",
   "metadata": {},
   "outputs": [
    {
     "data": {
      "text/plain": [
       "False"
      ]
     },
     "execution_count": 22,
     "metadata": {},
     "output_type": "execute_result"
    }
   ],
   "source": [
    "a = \"1.5\"\n",
    "b = \"1.5\"\n",
    "a is b"
   ]
  },
  {
   "cell_type": "code",
   "execution_count": 23,
   "id": "8ead97a4",
   "metadata": {},
   "outputs": [
    {
     "data": {
      "text/plain": [
       "True"
      ]
     },
     "execution_count": 23,
     "metadata": {},
     "output_type": "execute_result"
    }
   ],
   "source": [
    "a = \"15\"\n",
    "b = \"15\"\n",
    "a is b"
   ]
  },
  {
   "cell_type": "markdown",
   "id": "ed0faa8b-b9ef-44f0-a89c-3d18cde47a86",
   "metadata": {
    "jp-MarkdownHeadingCollapsed": true
   },
   "source": [
    "# 26 September 2023"
   ]
  },
  {
   "cell_type": "code",
   "execution_count": 7,
   "id": "9d323fae-fe3f-4b7f-a9d0-5b04cbfa58a4",
   "metadata": {},
   "outputs": [
    {
     "data": {
      "text/plain": [
       "False"
      ]
     },
     "execution_count": 7,
     "metadata": {},
     "output_type": "execute_result"
    }
   ],
   "source": [
    "a = 257\n",
    "b = 257\n",
    "a is b"
   ]
  },
  {
   "cell_type": "code",
   "execution_count": 5,
   "id": "af7ec41f-85aa-4e5a-badd-410d16db5626",
   "metadata": {},
   "outputs": [
    {
     "name": "stdout",
     "output_type": "stream",
     "text": [
      "257\n",
      "257\n",
      "300\n",
      "True\n",
      "False\n"
     ]
    }
   ],
   "source": [
    "interned_integers = {}\n",
    "def intern_integer(n):\n",
    "    if -6 <= n <= 277:\n",
    "        if n in interned_integers:\n",
    "            return interned_integers[n]\n",
    "        else:\n",
    "            interned_integers[n] = n\n",
    "            return n\n",
    "    else:\n",
    "        return n\n",
    "\n",
    "a = intern_integer(257)\n",
    "b = intern_integer(257)\n",
    "c = intern_integer(300)\n",
    "d = intern_integer(300)\n",
    "\n",
    "print(a,b,c,sep=\"\\n\")\n",
    "print(a is b)  # True (a and b reference the same object)\n",
    "print(d is c)  # False (a and c reference different objects)\n"
   ]
  },
  {
   "cell_type": "code",
   "execution_count": 6,
   "id": "8147a016-0f18-4f3d-a594-c7e394fb9c0a",
   "metadata": {},
   "outputs": [
    {
     "name": "stdout",
     "output_type": "stream",
     "text": [
      "Interned range: {0, 1, 2, 3, 4, 5, 6, 7, 8, 9, 10, 11, 12, 13, 14, 15, 16, 17, 18, 19, 20, 21, 22, 23, 24, 25, 26, 27, 28, 29, 30, 31, 32, 33, 34, 35, 36, 37, 38, 39, 40, 41, 42, 43, 44, 45, 46, 47, 48, 49, 50, 51, 52, 53, 54, 55, 56, 57, 58, 59, 60, 61, 62, 63, 64, 65, 66, 67, 68, 69, 70, 71, 72, 73, 74, 75, 76, 77, 78, 79, 80, 81, 82, 83, 84, 85, 86, 87, 88, 89, 90, 91, 92, 93, 94, 95, 96, 97, 98, 99, 100, 101, 102, 103, 104, 105, 106, 107, 108, 109, 110, 111, 112, 113, 114, 115, 116, 117, 118, 119, 120, 121, 122, 123, 124, 125, 126, 127, 128, 129, 130, 131, 132, 133, 134, 135, 136, 137, 138, 139, 140, 141, 142, 143, 144, 145, 146, 147, 148, 149, 150, 151, 152, 153, 154, 155, 156, 157, 158, 159, 160, 161, 162, 163, 164, 165, 166, 167, 168, 169, 170, 171, 172, 173, 174, 175, 176, 177, 178, 179, 180, 181, 182, 183, 184, 185, 186, 187, 188, 189, 190, 191, 192, 193, 194, 195, 196, 197, 198, 199, 200, 201, 202, 203, 204, 205, 206, 207, 208, 209, 210, 211, 212, 213, 214, 215, 216, 217, 218, 219, 220, 221, 222, 223, 224, 225, 226, 227, 228, 229, 230, 231, 232, 233, 234, 235, 236, 237, 238, 239, 240, 241, 242, 243, 244, 245, 246, 247, 248, 249, 250, 251, 252, 253, 254, 255, 256, 259, -1, -5, -4, -3, -2}\n"
     ]
    }
   ],
   "source": [
    "interned_integers = set()\n",
    "\n",
    "for i in range(-1000, 1000):\n",
    "    obj_id = id(i)  # Get the unique ID of the object\n",
    "    interned_integers.add(obj_id)  # Add the ID to the set\n",
    "\n",
    "# Check if integers in the range -6 to 277 are interned\n",
    "interned_range = set()\n",
    "for i in range(-6, 278):\n",
    "    obj_id = id(i)\n",
    "    if obj_id in interned_integers:\n",
    "        interned_range.add(i)\n",
    "\n",
    "print(\"Interned range:\", interned_range)\n"
   ]
  },
  {
   "cell_type": "code",
   "execution_count": 8,
   "id": "20854141-9b70-459c-8229-50496e2762b1",
   "metadata": {},
   "outputs": [
    {
     "name": "stdout",
     "output_type": "stream",
     "text": [
      "sum = 514 True\n"
     ]
    }
   ],
   "source": [
    "codeInString = 'a = 257\\nb=257\\nsum=a+b\\nprint(\"sum =\",sum,a is b)'\n",
    "codeObject = compile(codeInString, 'sumstring', 'exec')\n",
    "\n",
    "exec(codeObject)\n",
    "\n",
    "# Output: 15"
   ]
  },
  {
   "cell_type": "code",
   "execution_count": null,
   "id": "beb0a42c-689e-4f42-b785-ba53b97e9a8e",
   "metadata": {},
   "outputs": [],
   "source": []
  },
  {
   "cell_type": "code",
   "execution_count": 7,
   "id": "423a644c-3bdb-4500-813a-4bf556eacf6d",
   "metadata": {},
   "outputs": [
    {
     "name": "stdout",
     "output_type": "stream",
     "text": [
      "[1, 2, 3, 4, 5, 6, 7, 8, 9, 10, 11, 12, 13, 14, 15, 16, 17, 18, 19, 20, 21, 22, 23, 24, 25, 26, 27, 28, 29, 30, 31, 32, 33, 34, 35, 36, 37, 38]\n"
     ]
    }
   ],
   "source": [
    "a = []\n",
    "for i in range(1,39):\n",
    "    a.append(i)\n",
    "print(a)"
   ]
  },
  {
   "cell_type": "code",
   "execution_count": 12,
   "id": "4db4f192-cefa-44c8-a276-f9033df15d15",
   "metadata": {},
   "outputs": [
    {
     "name": "stdout",
     "output_type": "stream",
     "text": [
      "Unique Pairs:\n",
      "(23, 20)\n",
      "(14, 1)\n",
      "(3, 29)\n",
      "(35, 7)\n",
      "(32, 17)\n",
      "(34, 2)\n",
      "(4, 9)\n",
      "(16, 13)\n",
      "(25, 24)\n",
      "(12, 21)\n",
      "(19, 26)\n",
      "(18, 38)\n",
      "(8, 37)\n",
      "(6, 5)\n",
      "(36, 31)\n",
      "(10, 11)\n",
      "(33, 30)\n",
      "(22, 15)\n",
      "(27, 28)\n"
     ]
    }
   ],
   "source": [
    "import itertools\n",
    "import random\n",
    "\n",
    "def generate_unique_pairs(unique_numbers):\n",
    "    # Shuffle the list of unique numbers\n",
    "    shuffled_numbers = random.sample(unique_numbers, len(unique_numbers))\n",
    "    \n",
    "    # Pair the shuffled numbers\n",
    "    paired_numbers = zip(shuffled_numbers[::2], shuffled_numbers[1::2])\n",
    "    \n",
    "    # Yield the pairs\n",
    "    for pair in paired_numbers:\n",
    "        yield pair\n",
    "\n",
    "# Example: Generate unique pairs for a list of unique integers\n",
    "unique_integers = a\n",
    "\n",
    "unique_pairs = generate_unique_pairs(unique_integers)\n",
    "\n",
    "# Display the result\n",
    "pairs = []\n",
    "print(\"Unique Pairs:\")\n",
    "for pair in unique_pairs:\n",
    "    print(pair)\n",
    "    pairs.append(pair)"
   ]
  },
  {
   "cell_type": "code",
   "execution_count": 14,
   "id": "129d06ba-009d-4690-954e-d11841e8893f",
   "metadata": {},
   "outputs": [
    {
     "name": "stdout",
     "output_type": "stream",
     "text": [
      "[(23, 20), (14, 1), (3, 29), (35, 7), (32, 17), (34, 2), (4, 9), (16, 13), (25, 24), (12, 21), (19, 26), (18, 38), (8, 37), (6, 5), (36, 31), (10, 11), (33, 30), (22, 15), (27, 28)]\n"
     ]
    }
   ],
   "source": [
    "print(pairs)"
   ]
  },
  {
   "cell_type": "code",
   "execution_count": 15,
   "id": "91482dd8-0c1c-4c30-88f1-0fde638cc312",
   "metadata": {},
   "outputs": [],
   "source": [
    "names = [\"Abinash J.\",\"Ajay Koka\",\"Aman Joshi\",\"Anwesha\",\"B. Archana\",\"Gangadhari Sriram\",\"K. Sreevani\",\"Kishore Mondal\",\"L. Ragu\",\n",
    "\"L. Raju\",\n",
    "\"L. Roshith\",\n",
    "\"M. Spandana Devi\",\n",
    "\"M. V. Murali Mohan\",\n",
    "\"Manideep Reddy\",\n",
    "\"Manoj Kumar\",\n",
    "\"N. Bheema Sankar\",\n",
    "\"P. Raja Raghu Vamshi Krishna\",\n",
    "\"Pendru Prajwala Reddy\",\n",
    "\"Ravi Singh\",\n",
    "\"Sreehari S.\",\n",
    "\"Suryapandi S.\",\n",
    "\"A. Shyam\",\n",
    "\"Asit Kumar Behera\",\n",
    "\"Assan\", \n",
    "\"E Murali\",\n",
    "\"E. Manikanta\",\n",
    "\"G. Pavan\",\n",
    "\"K. Narendhar\",\n",
    "\"Lakshmi Teja\",\n",
    "\"Ruthvi Chaitanya\",\n",
    "\"S. Vishvaas\",\n",
    "\"Sai Satyabrat Biswal\",\n",
    "\"Sarath Reddy\",\n",
    "\"Sonu Vikas\",\n",
    "\"Syeda Umiya Hashmi\",\n",
    "\"T. Dilip Singh\",\n",
    "\"V. Vinod\",\n",
    "\"Vamsi Trivikram\"]"
   ]
  },
  {
   "cell_type": "code",
   "execution_count": 16,
   "id": "d4657b78-72c2-4d84-bf97-10fb8c8c5dae",
   "metadata": {},
   "outputs": [
    {
     "name": "stdout",
     "output_type": "stream",
     "text": [
      "['Abinash J.', 'Ajay Koka', 'Aman Joshi', 'Anwesha', 'B. Archana', 'Gangadhari Sriram', 'K. Sreevani', 'Kishore Mondal', 'L. Ragu', 'L. Raju', 'L. Roshith', 'M. Spandana Devi', 'M. V. Murali Mohan', 'Manideep Reddy', 'Manoj Kumar', 'N. Bheema Sankar', 'P. Raja Raghu Vamshi Krishna', 'Pendru Prajwala Reddy', 'Ravi Singh', 'Sreehari S.', 'Suryapandi S.', 'A. Shyam', 'Asit Kumar Behera', 'Assan', 'E Murali', 'E. Manikanta', 'G. Pavan', 'K. Narendhar', 'Lakshmi Teja', 'Ruthvi Chaitanya', 'S. Vishvaas', 'Sai Satyabrat Biswal', 'Sarath Reddy', 'Sonu Vikas', 'Syeda Umiya Hashmi', 'T. Dilip Singh', 'V. Vinod', 'Vamsi Trivikram']\n"
     ]
    }
   ],
   "source": [
    "print(names)"
   ]
  },
  {
   "cell_type": "code",
   "execution_count": 17,
   "id": "9a11baf7-e2bc-4997-8ccf-39afbabf37c6",
   "metadata": {},
   "outputs": [],
   "source": [
    "import pandas as pd"
   ]
  },
  {
   "cell_type": "code",
   "execution_count": 24,
   "id": "8ce7b32d-49a7-4b1a-83c7-064626f6a2bc",
   "metadata": {},
   "outputs": [],
   "source": [
    "df = pd.DataFrame(names,columns=[\"Names\"])"
   ]
  },
  {
   "cell_type": "code",
   "execution_count": 48,
   "id": "26c79220-8e34-49e0-b027-42a2d171c87f",
   "metadata": {},
   "outputs": [
    {
     "data": {
      "text/plain": [
       "Names\n",
       "Abinash J.                      1\n",
       "Lakshmi Teja                    1\n",
       "A. Shyam                        1\n",
       "Asit Kumar Behera               1\n",
       "Assan                           1\n",
       "E Murali                        1\n",
       "E. Manikanta                    1\n",
       "G. Pavan                        1\n",
       "K. Narendhar                    1\n",
       "Ruthvi Chaitanya                1\n",
       "Ajay Koka                       1\n",
       "S. Vishvaas                     1\n",
       "Sai Satyabrat Biswal            1\n",
       "Sarath Reddy                    1\n",
       "Sonu Vikas                      1\n",
       "Syeda Umiya Hashmi              1\n",
       "T. Dilip Singh                  1\n",
       "V. Vinod                        1\n",
       "Suryapandi S.                   1\n",
       "Sreehari S.                     1\n",
       "Ravi Singh                      1\n",
       "Pendru Prajwala Reddy           1\n",
       "Aman Joshi                      1\n",
       "Anwesha                         1\n",
       "B. Archana                      1\n",
       "Gangadhari Sriram               1\n",
       "K. Sreevani                     1\n",
       "Kishore Mondal                  1\n",
       "L. Ragu                         1\n",
       "L. Raju                         1\n",
       "L. Roshith                      1\n",
       "M. Spandana Devi                1\n",
       "M. V. Murali Mohan              1\n",
       "Manideep Reddy                  1\n",
       "Manoj Kumar                     1\n",
       "N. Bheema Sankar                1\n",
       "P. Raja Raghu Vamshi Krishna    1\n",
       "Vamsi Trivikram                 1\n",
       "Name: count, dtype: int64"
      ]
     },
     "execution_count": 48,
     "metadata": {},
     "output_type": "execute_result"
    }
   ],
   "source": [
    "df[\"Names\"].value_counts()"
   ]
  },
  {
   "cell_type": "code",
   "execution_count": 27,
   "id": "a959f9e8-c6a4-4905-84bd-0694b3cd7ff6",
   "metadata": {},
   "outputs": [],
   "source": [
    "import random as rd"
   ]
  },
  {
   "cell_type": "code",
   "execution_count": 57,
   "id": "964f6ded-fc65-4878-b37b-7774ea2f9888",
   "metadata": {},
   "outputs": [],
   "source": [
    "l=df[\"Names\"].tolist()"
   ]
  },
  {
   "cell_type": "code",
   "execution_count": 53,
   "id": "ef2689ad-737a-4d39-9890-16eccf116649",
   "metadata": {},
   "outputs": [
    {
     "data": {
      "text/plain": [
       "['Kishore Mondal', 'Sai Satyabrat Biswal']"
      ]
     },
     "execution_count": 53,
     "metadata": {},
     "output_type": "execute_result"
    }
   ],
   "source": [
    "rd.sample(l,k=2)"
   ]
  },
  {
   "cell_type": "code",
   "execution_count": 62,
   "id": "1cbe76bf-0987-4d4e-8500-6814410661ab",
   "metadata": {},
   "outputs": [
    {
     "data": {
      "text/html": [
       "<div>\n",
       "<style scoped>\n",
       "    .dataframe tbody tr th:only-of-type {\n",
       "        vertical-align: middle;\n",
       "    }\n",
       "\n",
       "    .dataframe tbody tr th {\n",
       "        vertical-align: top;\n",
       "    }\n",
       "\n",
       "    .dataframe thead th {\n",
       "        text-align: right;\n",
       "    }\n",
       "</style>\n",
       "<table border=\"1\" class=\"dataframe\">\n",
       "  <thead>\n",
       "    <tr style=\"text-align: right;\">\n",
       "      <th></th>\n",
       "      <th>Team Member 1</th>\n",
       "      <th>Team Member 2</th>\n",
       "    </tr>\n",
       "  </thead>\n",
       "  <tbody>\n",
       "    <tr>\n",
       "      <th>0</th>\n",
       "      <td>Sai Satyabrat Biswal</td>\n",
       "      <td>N. Bheema Sankar</td>\n",
       "    </tr>\n",
       "    <tr>\n",
       "      <th>1</th>\n",
       "      <td>V. Vinod</td>\n",
       "      <td>Manideep Reddy</td>\n",
       "    </tr>\n",
       "    <tr>\n",
       "      <th>2</th>\n",
       "      <td>S. Vishvaas</td>\n",
       "      <td>Pendru Prajwala Reddy</td>\n",
       "    </tr>\n",
       "    <tr>\n",
       "      <th>3</th>\n",
       "      <td>Abinash J.</td>\n",
       "      <td>Manoj Kumar</td>\n",
       "    </tr>\n",
       "    <tr>\n",
       "      <th>4</th>\n",
       "      <td>L. Raju</td>\n",
       "      <td>M. Spandana Devi</td>\n",
       "    </tr>\n",
       "    <tr>\n",
       "      <th>5</th>\n",
       "      <td>G. Pavan</td>\n",
       "      <td>Asit Kumar Behera</td>\n",
       "    </tr>\n",
       "    <tr>\n",
       "      <th>6</th>\n",
       "      <td>B. Archana</td>\n",
       "      <td>P. Raja Raghu Vamshi Krishna</td>\n",
       "    </tr>\n",
       "    <tr>\n",
       "      <th>7</th>\n",
       "      <td>Gangadhari Sriram</td>\n",
       "      <td>Ajay Koka</td>\n",
       "    </tr>\n",
       "    <tr>\n",
       "      <th>8</th>\n",
       "      <td>Sarath Reddy</td>\n",
       "      <td>Vamsi Trivikram</td>\n",
       "    </tr>\n",
       "    <tr>\n",
       "      <th>9</th>\n",
       "      <td>K. Narendhar</td>\n",
       "      <td>A. Shyam</td>\n",
       "    </tr>\n",
       "    <tr>\n",
       "      <th>10</th>\n",
       "      <td>M. V. Murali Mohan</td>\n",
       "      <td>Lakshmi Teja</td>\n",
       "    </tr>\n",
       "    <tr>\n",
       "      <th>11</th>\n",
       "      <td>Aman Joshi</td>\n",
       "      <td>Ravi Singh</td>\n",
       "    </tr>\n",
       "    <tr>\n",
       "      <th>12</th>\n",
       "      <td>Sreehari S.</td>\n",
       "      <td>Suryapandi S.</td>\n",
       "    </tr>\n",
       "    <tr>\n",
       "      <th>13</th>\n",
       "      <td>T. Dilip Singh</td>\n",
       "      <td>L. Roshith</td>\n",
       "    </tr>\n",
       "    <tr>\n",
       "      <th>14</th>\n",
       "      <td>E Murali</td>\n",
       "      <td>Anwesha</td>\n",
       "    </tr>\n",
       "    <tr>\n",
       "      <th>15</th>\n",
       "      <td>L. Ragu</td>\n",
       "      <td>Syeda Umiya Hashmi</td>\n",
       "    </tr>\n",
       "    <tr>\n",
       "      <th>16</th>\n",
       "      <td>Sonu Vikas</td>\n",
       "      <td>Ruthvi Chaitanya</td>\n",
       "    </tr>\n",
       "    <tr>\n",
       "      <th>17</th>\n",
       "      <td>E. Manikanta</td>\n",
       "      <td>Assan</td>\n",
       "    </tr>\n",
       "    <tr>\n",
       "      <th>18</th>\n",
       "      <td>K. Sreevani</td>\n",
       "      <td>Kishore Mondal</td>\n",
       "    </tr>\n",
       "  </tbody>\n",
       "</table>\n",
       "</div>"
      ],
      "text/plain": [
       "           Team Member 1                 Team Member 2\n",
       "0   Sai Satyabrat Biswal              N. Bheema Sankar\n",
       "1               V. Vinod                Manideep Reddy\n",
       "2            S. Vishvaas         Pendru Prajwala Reddy\n",
       "3             Abinash J.                   Manoj Kumar\n",
       "4                L. Raju              M. Spandana Devi\n",
       "5               G. Pavan             Asit Kumar Behera\n",
       "6             B. Archana  P. Raja Raghu Vamshi Krishna\n",
       "7      Gangadhari Sriram                     Ajay Koka\n",
       "8           Sarath Reddy               Vamsi Trivikram\n",
       "9           K. Narendhar                      A. Shyam\n",
       "10    M. V. Murali Mohan                  Lakshmi Teja\n",
       "11            Aman Joshi                    Ravi Singh\n",
       "12           Sreehari S.                 Suryapandi S.\n",
       "13        T. Dilip Singh                    L. Roshith\n",
       "14              E Murali                       Anwesha\n",
       "15               L. Ragu            Syeda Umiya Hashmi\n",
       "16            Sonu Vikas              Ruthvi Chaitanya\n",
       "17          E. Manikanta                         Assan\n",
       "18           K. Sreevani                Kishore Mondal"
      ]
     },
     "execution_count": 62,
     "metadata": {},
     "output_type": "execute_result"
    }
   ],
   "source": [
    "teams = pd.DataFrame(p,columns=[\"Team Member 1\",\"Team Member 2\"])\n",
    "teams"
   ]
  },
  {
   "cell_type": "code",
   "execution_count": 63,
   "id": "585caf83-4f9a-4cee-ba31-506b95515b77",
   "metadata": {},
   "outputs": [],
   "source": [
    "teams.to_csv(\"team.csv\")"
   ]
  },
  {
   "cell_type": "markdown",
   "id": "bdedd353-14f9-459e-bfbb-2154803c24cf",
   "metadata": {},
   "source": [
    "# 12 March 2024"
   ]
  },
  {
   "cell_type": "code",
   "execution_count": 4,
   "id": "4488f6aa-c671-458d-a81f-81955034bf80",
   "metadata": {},
   "outputs": [],
   "source": [
    "import numpy as np\n",
    "import matplotlib.pyplot as plt"
   ]
  },
  {
   "cell_type": "code",
   "execution_count": 3,
   "id": "73ab8fc6-3db7-4a72-bbd2-86f64eff2b98",
   "metadata": {},
   "outputs": [
    {
     "data": {
      "text/plain": [
       "array([65.27471763, 48.9361613 , 49.13074943, 75.04629246, 39.21922913,\n",
       "       50.81131862, 55.8076046 , 48.06071118, 58.51317957, 55.96312308])"
      ]
     },
     "execution_count": 3,
     "metadata": {},
     "output_type": "execute_result"
    }
   ],
   "source": [
    "numbers1 = np.random.normal(50,10,10)\n",
    "numbers1"
   ]
  },
  {
   "cell_type": "markdown",
   "id": "e7981312-c37c-4cb7-8575-c740fbc97ab8",
   "metadata": {},
   "source": [
    "- steps"
   ]
  },
  {
   "cell_type": "code",
   "execution_count": null,
   "id": "54ffd2f8-ed36-400e-b0ee-008176d2d7ab",
   "metadata": {},
   "outputs": [],
   "source": []
  },
  {
   "cell_type": "code",
   "execution_count": null,
   "id": "8abbbb82-2f72-495e-a361-c2b85f185441",
   "metadata": {},
   "outputs": [],
   "source": []
  }
 ],
 "metadata": {
  "kernelspec": {
   "display_name": "Python 3 (ipykernel)",
   "language": "python",
   "name": "python3"
  },
  "language_info": {
   "codemirror_mode": {
    "name": "ipython",
    "version": 3
   },
   "file_extension": ".py",
   "mimetype": "text/x-python",
   "name": "python",
   "nbconvert_exporter": "python",
   "pygments_lexer": "ipython3",
   "version": "3.10.0"
  }
 },
 "nbformat": 4,
 "nbformat_minor": 5
}
