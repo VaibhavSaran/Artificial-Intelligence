{
 "cells": [
  {
   "cell_type": "markdown",
   "id": "9a8f7475-0b90-42a5-88e4-a3fffaa0c5a0",
   "metadata": {
    "jp-MarkdownHeadingCollapsed": true
   },
   "source": [
    "<h3>WAP in python to print the following pattern</h3>\n",
    "\n",
    "```\n",
    "Input: 4\n",
    "Output:\n",
    "*\n",
    "**\n",
    "***\n",
    "****\n",
    "\n",
    "Input: 3\n",
    "Output:\n",
    "*\n",
    "**\n",
    "***\n",
    "```"
   ]
  },
  {
   "cell_type": "code",
   "execution_count": 4,
   "id": "d7240f30-3390-400b-a437-fe5f2918a903",
   "metadata": {},
   "outputs": [
    {
     "name": "stdin",
     "output_type": "stream",
     "text": [
      " 4\n"
     ]
    },
    {
     "name": "stdout",
     "output_type": "stream",
     "text": [
      "*\n",
      "**\n",
      "***\n",
      "****\n"
     ]
    }
   ],
   "source": [
    "n = int(input())\n",
    "# Approach 1\n",
    "# for i in range(1,n+1):\n",
    "#     print(\"*\"*i)\n",
    "\n",
    "# Approach 2\n",
    "for i in range(1,n+1):\n",
    "    for j in range(i):\n",
    "        print(\"*\",end=\"\")\n",
    "    print()"
   ]
  },
  {
   "cell_type": "markdown",
   "id": "0435fed3-3cb0-4b43-9c20-cb7889c7ddef",
   "metadata": {
    "jp-MarkdownHeadingCollapsed": true
   },
   "source": [
    "<h3>WAP in python to print the following pattern</h3>\n",
    "\n",
    "```\n",
    "Input: 4\n",
    "Output:\n",
    "****\n",
    "***\n",
    "**\n",
    "*\n",
    "\n",
    "Input: 3\n",
    "Output:\n",
    "***\n",
    "**\n",
    "*\n",
    "```"
   ]
  },
  {
   "cell_type": "code",
   "execution_count": 1,
   "id": "ace609a2-f7ef-4d94-b73d-c9265ac1f2e0",
   "metadata": {},
   "outputs": [
    {
     "name": "stdin",
     "output_type": "stream",
     "text": [
      " 4\n"
     ]
    },
    {
     "name": "stdout",
     "output_type": "stream",
     "text": [
      "****\n",
      "***\n",
      "**\n",
      "*\n"
     ]
    }
   ],
   "source": [
    "n = int(input())\n",
    "for i in range(n,0,-1):\n",
    "    print(\"*\"*i)"
   ]
  },
  {
   "cell_type": "markdown",
   "id": "742a8d63-3ed6-40e1-b268-7949284315e2",
   "metadata": {
    "jp-MarkdownHeadingCollapsed": true
   },
   "source": [
    "<h3>WAP to calculate tax deduction as follow:</h3>\n",
    "\n",
    "1. Upto 2,5L no tax\n",
    "2. More than 2.5 L but up to 5L 10%\n",
    "3. More than 5L but up to 10L 20%\n",
    "4. More than 10L 30%<br>\n",
    "i) If senior citizen (age >= 60) then relaxation of 5%<br>\n",
    "ii) if woman candidate (age >= 60) then relaxation of 3"
   ]
  },
  {
   "cell_type": "code",
   "execution_count": 3,
   "id": "b812754c-986a-4b53-8cce-e756b4eea0ef",
   "metadata": {},
   "outputs": [
    {
     "name": "stdin",
     "output_type": "stream",
     "text": [
      "Enter salary:  50000000000\n",
      "Enter age:  60\n",
      "Enter the gender(M/F):  M\n"
     ]
    },
    {
     "name": "stdout",
     "output_type": "stream",
     "text": [
      "final salary:  37500000000\n"
     ]
    }
   ],
   "source": [
    "sal = int(input(\"Enter salary: \"))\n",
    "tax = 0\n",
    "if sal < 250000:\n",
    "    tax = 0\n",
    "elif (sal >= 250000) and (sal < 500000):\n",
    "    tax = 10\n",
    "elif (sal >= 500000) and (sal <1000000):\n",
    "    tax = 20\n",
    "else:\n",
    "    tax = 30\n",
    "    age = int(input(\"Enter age: \"))\n",
    "    gender = input(\"Enter the gender(M/F): \")\n",
    "    if age >= 60:\n",
    "        tax = 25\n",
    "        if gender==\"F\":\n",
    "            tax=27\n",
    "print(\"final salary: \",int(sal - ((tax*sal)/100)))"
   ]
  },
  {
   "cell_type": "markdown",
   "id": "1760e178-173e-4423-af13-3b331c30ff58",
   "metadata": {
    "jp-MarkdownHeadingCollapsed": true
   },
   "source": [
    "<h3>Given an array of numbers `X` and an integer `n` as input. Print the output list `X` rotated `n` times.</h3>\n",
    "\n",
    "```\n",
    "Input_1: [1, 2, 3, 4, 5, 6, 7, 8]\n",
    "Input_2: 200000\n",
    "Output: [7, 8, 1, 2, 3, 4, 5, 6]\n",
    "```"
   ]
  },
  {
   "cell_type": "code",
   "execution_count": 34,
   "id": "eb6a49f1-c87c-4e9c-9ad6-28ae697b86f3",
   "metadata": {},
   "outputs": [
    {
     "name": "stdout",
     "output_type": "stream",
     "text": [
      "[6, 7, 8, 1, 2, 3, 4, 5]\n"
     ]
    }
   ],
   "source": [
    "n = [1, 2, 3, 4, 5, 6, 7, 8]\n",
    "rot = 3\n",
    "x = len(n)\n",
    "true_rot = int(rot % x)\n",
    "\n",
    "# slicing way\n",
    "if true_rot==0:\n",
    "    print(n)\n",
    "else:\n",
    "    n = n[x-true_rot:]+n[:x-true_rot]\n",
    "    print(n)"
   ]
  },
  {
   "cell_type": "markdown",
   "id": "512c58f6-394e-4e14-a1ff-0bee487d34a0",
   "metadata": {
    "jp-MarkdownHeadingCollapsed": true
   },
   "source": [
    "<h3>What will be the output of the following code?</h3>\n",
    "\n",
    "```\n",
    "x = \"1sdf1dsfs@asdas\"\n",
    "x.title()\n",
    "```"
   ]
  },
  {
   "cell_type": "code",
   "execution_count": 5,
   "id": "1b1b7e8b-30f8-4a3e-9486-88a52b7acc36",
   "metadata": {},
   "outputs": [
    {
     "data": {
      "text/plain": [
       "'1Sdf1Dsfs@Asdas'"
      ]
     },
     "execution_count": 5,
     "metadata": {},
     "output_type": "execute_result"
    }
   ],
   "source": [
    "x = \"1sdf1dsfs@asdas\"\n",
    "x.title()"
   ]
  },
  {
   "cell_type": "markdown",
   "id": "5368e282-9de5-4e72-8788-c93f6993b079",
   "metadata": {
    "jp-MarkdownHeadingCollapsed": true
   },
   "source": [
    "<h3>What will be the output of the following code snippet?</h3>\n",
    "\n",
    "```\n",
    "a = [1,2,3]\n",
    "b=[1,2,3]\n",
    "print(a is b)\n",
    "```"
   ]
  },
  {
   "cell_type": "code",
   "execution_count": 9,
   "id": "fea484b9-7a16-410d-8fd1-5aafc8774a0b",
   "metadata": {},
   "outputs": [
    {
     "name": "stdout",
     "output_type": "stream",
     "text": [
      "True\n",
      "2612132231680\n",
      "2612132222080\n",
      "2612055900400\n",
      "2612055900400\n",
      "[1, 2, 3]\n",
      "[4, 2, 3]\n"
     ]
    }
   ],
   "source": [
    "a = [1,2,3]\n",
    "b = [1,2,3]\n",
    "print(a[0] is b[0])\n",
    "print(id(a))\n",
    "print(id(b))\n",
    "print(id(a[0]))\n",
    "print(id(b[0]))\n",
    "b[0]=4\n",
    "print(a)\n",
    "print(b)"
   ]
  },
  {
   "cell_type": "markdown",
   "id": "a6beb7e1-4f04-463b-92b4-899a64089663",
   "metadata": {
    "jp-MarkdownHeadingCollapsed": true
   },
   "source": [
    "<h3>What will be the output of the following code snippet?</h3>\n",
    "\n",
    "```\n",
    "c=2000\n",
    "d=2000\n",
    "c is d\n",
    "```"
   ]
  },
  {
   "cell_type": "code",
   "execution_count": 10,
   "id": "6b458203-3627-4aaf-887a-0c73ce844241",
   "metadata": {},
   "outputs": [
    {
     "data": {
      "text/plain": [
       "False"
      ]
     },
     "execution_count": 10,
     "metadata": {},
     "output_type": "execute_result"
    }
   ],
   "source": [
    "c=2000\n",
    "d=2000\n",
    "c is d"
   ]
  },
  {
   "cell_type": "markdown",
   "id": "379b281b-a965-4f55-bb71-03b2e8bbbbd7",
   "metadata": {
    "jp-MarkdownHeadingCollapsed": true
   },
   "source": [
    "<h3>What will be the output of the following code snippet?</h3>\n",
    "\n",
    "```\n",
    "c=20\n",
    "d=20\n",
    "c is d\n",
    "```"
   ]
  },
  {
   "cell_type": "code",
   "execution_count": 12,
   "id": "8f040097-aaea-425d-8756-4c96b3f3c4c3",
   "metadata": {},
   "outputs": [
    {
     "data": {
      "text/plain": [
       "True"
      ]
     },
     "execution_count": 12,
     "metadata": {},
     "output_type": "execute_result"
    }
   ],
   "source": [
    "c=200\n",
    "d=200\n",
    "c is d"
   ]
  },
  {
   "cell_type": "markdown",
   "id": "116a2112-5ec7-4098-8626-7f6226bae6b6",
   "metadata": {
    "jp-MarkdownHeadingCollapsed": true
   },
   "source": [
    "<h3>WAP in python to solve the following task:</h3>\n",
    "\n",
    "Given a list of integers, where each integer occurrs even number of times, except for one integer which will only occur once. Find out that integer.\n",
    "\n",
    "```\n",
    "Input: [1, 1, 2, 2, 3, 4, 4, 4, 4, 5, 5]\n",
    "Output = 3\n",
    "```"
   ]
  },
  {
   "cell_type": "code",
   "execution_count": 13,
   "id": "e0ee30aa-107d-4b69-8697-0db5ad819782",
   "metadata": {},
   "outputs": [
    {
     "name": "stdout",
     "output_type": "stream",
     "text": [
      "1\n"
     ]
    }
   ],
   "source": [
    "x = [1, 1, 1, 2, 2, 3, 3, 4, 4, 4, 4, 5, 5]\n",
    "no=0\n",
    "for i in x:\n",
    "    no = no^i\n",
    "print(no)"
   ]
  },
  {
   "cell_type": "markdown",
   "id": "dcaab4eb-b739-4f83-8adb-60d3e4c670fb",
   "metadata": {
    "jp-MarkdownHeadingCollapsed": true
   },
   "source": [
    "<h3>WAP in python to remove the duplicates from a string keeping only the first occurence.</h3>\n",
    "\n",
    "- Solve the problem without maintaining the order\n",
    "- solve the problem by maintaining the order\n",
    "```\n",
    "Input: deeprajvadhwane\n",
    "Output: {'a', 'd', 'e', 'h', 'j', 'n', 'p', 'r', 'v', 'w'}\n",
    "\n",
    "Input: deeprajvadhwane\n",
    "Output: deprajvhwn\n",
    "```"
   ]
  },
  {
   "cell_type": "code",
   "execution_count": 75,
   "id": "30d219d9-ee37-4fb7-8217-87a9fd6f83cb",
   "metadata": {},
   "outputs": [
    {
     "name": "stdout",
     "output_type": "stream",
     "text": [
      "{'a', 'w', 'n', 'd', 'h', 'e', 'r', 'v', 'j', 'p'}\n",
      "deprajvhwn\n"
     ]
    }
   ],
   "source": [
    "s = \"deeprajvadhwane\"\n",
    "x = set()\n",
    "for i in s:\n",
    "    x.update(i)\n",
    "print(x)\n",
    "\n",
    "a = \"\"\n",
    "for i in s:\n",
    "    if i not in a:\n",
    "        a = a+i\n",
    "print(a)"
   ]
  },
  {
   "cell_type": "markdown",
   "id": "ccfbb050-ca64-4e96-998e-3c424544af23",
   "metadata": {},
   "source": [
    "Pasha has a wooden stick of some positive integer length n. He wants to perform exactly three cuts to get four parts of the stick.\n",
    "Each part must have some positive integer length and the sum of these lengths will obviously be n.<br>\n",
    "Pasha likes rectangles but hates squares, so he wonders,\n",
    "how many ways are there to split a stick into four parts so that it's possible to form a rectangle using these parts, but is impossible to form a square.<br>\n",
    "Your task is to help Pasha and count the number of such ways.\n",
    "Two ways to cut the stick are considered distinct if there exists some integer x, such that the number of parts of length x in the first way differ from the number of parts of length x in the second way.\n",
    "```\n",
    "Input\n",
    "The first line of the input contains a positive integer n (1 ≤ n ≤ 2·109) — the length of Pasha's stick.\n",
    "\n",
    "Output\n",
    "The output should contain a single integer — the number of ways to split Pasha's stick into four parts of positive integer length\n",
    "so that it's possible to make a rectangle by connecting the ends of these parts, but is impossible to form a square.\n",
    "\n",
    "Example:\n",
    "input 6\n",
    "output 1\n",
    "\n",
    "input 20\n",
    "output 4\n",
    "```\n"
   ]
  },
  {
   "cell_type": "code",
   "execution_count": 1,
   "id": "f1f2e1dd-0bd1-4e59-b6f1-aaafafa5da7f",
   "metadata": {},
   "outputs": [
    {
     "name": "stdin",
     "output_type": "stream",
     "text": [
      "Enter a positive integer:  40\n"
     ]
    },
    {
     "name": "stdout",
     "output_type": "stream",
     "text": [
      "The number of partitions are:  9\n"
     ]
    }
   ],
   "source": [
    "# Solution: for odd n making the rectangle wont be impossible because we will need 2 pairs of equal partition\n",
    "# for even n multiple of 4 we have to subtract the 1 square which will always form due to equal multiples as the\n",
    "# multiple of 4 will generate 4 equal parts\n",
    "# for even n just 4 partition is good\n",
    "\n",
    "n = int(input(\"Enter a positive integer: \"))\n",
    "\n",
    "if(n%2!=0):\n",
    "  print(\"Not possible\")\n",
    "\n",
    "elif(n%4==0):\n",
    "  print(\"The number of partitions are: \",int(n/4 - 1)) # first n/4 will be evaluated and then 1 will be subtracted due to operator precedence\n",
    "\n",
    "else:\n",
    "  print(\"The number of partitions are: \",int(n/4))"
   ]
  },
  {
   "cell_type": "markdown",
   "id": "72306db4-594d-4235-9683-f09f4a07f43d",
   "metadata": {
    "jp-MarkdownHeadingCollapsed": true
   },
   "source": [
    "<h3>WAP in Python to find prime numbers</h3>"
   ]
  },
  {
   "cell_type": "code",
   "execution_count": 3,
   "id": "3b6b8a4e-1112-4b70-bbbd-54d6cdc616eb",
   "metadata": {},
   "outputs": [
    {
     "name": "stdin",
     "output_type": "stream",
     "text": [
      " 9\n"
     ]
    },
    {
     "name": "stdout",
     "output_type": "stream",
     "text": [
      "not prime\n"
     ]
    }
   ],
   "source": [
    "n = int(input())\n",
    "limit = int(n**0.5)\n",
    "flag = 0\n",
    "for i in range(2,limit+1):\n",
    "    if n%i==0:\n",
    "        flag=1\n",
    "        break\n",
    "if flag==0:\n",
    "    print(\"Prime\")\n",
    "else:\n",
    "    print(\"not prime\")"
   ]
  },
  {
   "cell_type": "code",
   "execution_count": 16,
   "id": "31b9be7d-c689-41a7-ab14-8a782ef5eb69",
   "metadata": {},
   "outputs": [
    {
     "name": "stdout",
     "output_type": "stream",
     "text": [
      "2 3 5 7 11 13 17 19 23 29 31 37 41 43 47 53 59 61 67 71 73 79 83 89 97 101 103 107 109 113 127 131 137 139 149 151 157 163 167 173 179 181 191 193 197 199 211 223 227 229 233 239 241 251 257 263 269 271 277 281 283 293 307 311 313 317 331 337 347 349 353 359 367 373 379 383 389 397 401 409 419 421 431 433 439 443 449 457 461 463 467 479 487 491 499 503 509 521 523 541 547 557 563 569 571 577 587 593 599 601 607 613 617 619 631 641 643 647 653 659 661 673 677 683 691 701 709 719 727 733 739 743 751 757 761 769 773 787 797 809 811 821 823 827 829 839 853 857 859 863 877 881 883 887 907 911 919 929 937 941 947 953 967 971 977 983 991 997 1009 1013 1019 1021 1031 1033 1039 1049 1051 1061 1063 1069 1087 1091 1093 1097 1103 1109 1117 1123 1129 1151 1153 1163 1171 1181 1187 1193 1201 1213 1217 1223 1229 1231 1237 1249 1259 1277 1279 1283 1289 1291 1297 1301 1303 1307 1319 1321 1327 1361 1367 1373 1381 1399 1409 1423 1427 1429 1433 1439 1447 1451 1453 1459 1471 1481 1483 1487 1489 1493 1499 1511 1523 1531 1543 1549 1553 1559 1567 1571 1579 1583 1597 1601 1607 1609 1613 1619 1621 1627 1637 1657 1663 1667 1669 1693 1697 1699 1709 1721 1723 1733 1741 1747 1753 1759 1777 1783 1787 1789 1801 1811 1823 1831 1847 1861 1867 1871 1873 1877 1879 1889 1901 1907 1913 1931 1933 1949 1951 1973 1979 1987 1993 1997 1999 2003 2011 2017 2027 2029 2039 2053 2063 2069 2081 2083 2087 2089 2099 2111 2113 2129 2131 2137 2141 2143 2153 2161 2179 2203 2207 2213 2221 2237 2239 2243 2251 2267 2269 2273 2281 2287 2293 2297 2309 2311 2333 2339 2341 2347 2351 2357 2371 2377 2381 2383 2389 2393 2399 2411 2417 2423 2437 2441 2447 2459 2467 2473 2477 2503 2521 2531 2539 2543 2549 2551 2557 2579 2591 2593 2609 2617 2621 2633 2647 2657 2659 2663 2671 2677 2683 2687 2689 2693 2699 2707 2711 2713 2719 2729 2731 2741 2749 2753 2767 2777 2789 2791 2797 2801 2803 2819 2833 2837 2843 2851 2857 2861 2879 2887 2897 2903 2909 2917 2927 2939 2953 2957 2963 2969 2971 2999 3001 3011 3019 3023 3037 3041 3049 3061 3067 3079 3083 3089 3109 3119 3121 3137 3163 3167 3169 3181 3187 3191 3203 3209 3217 3221 3229 3251 3253 3257 3259 3271 3299 3301 3307 3313 3319 3323 3329 3331 3343 3347 3359 3361 3371 3373 3389 3391 3407 3413 3433 3449 3457 3461 3463 3467 3469 3491 3499 3511 3517 3527 3529 3533 3539 3541 3547 3557 3559 3571 3581 3583 3593 3607 3613 3617 3623 3631 3637 3643 3659 3671 3673 3677 3691 3697 3701 3709 3719 3727 3733 3739 3761 3767 3769 3779 3793 3797 3803 3821 3823 3833 3847 3851 3853 3863 3877 3881 3889 3907 3911 3917 3919 3923 3929 3931 3943 3947 3967 3989 4001 4003 4007 4013 4019 4021 4027 4049 4051 4057 4073 4079 4091 4093 4099 4111 4127 4129 4133 4139 4153 4157 4159 4177 4201 4211 4217 4219 4229 4231 4241 4243 4253 4259 4261 4271 4273 4283 4289 4297 4327 4337 4339 4349 4357 4363 4373 4391 4397 4409 4421 4423 4441 4447 4451 4457 4463 4481 4483 4493 4507 4513 4517 4519 4523 4547 4549 4561 4567 4583 4591 4597 4603 4621 4637 4639 4643 4649 4651 4657 4663 4673 4679 4691 4703 4721 4723 4729 4733 4751 4759 4783 4787 4789 4793 4799 4801 4813 4817 4831 4861 4871 4877 4889 4903 4909 4919 4931 4933 4937 4943 4951 4957 4967 4969 4973 4987 4993 4999 5003 5009 5011 5021 5023 5039 5051 5059 5077 5081 5087 5099 5101 5107 5113 5119 5147 5153 5167 5171 5179 5189 5197 5209 5227 5231 5233 5237 5261 5273 5279 5281 5297 5303 5309 5323 5333 5347 5351 5381 5387 5393 5399 5407 5413 5417 5419 5431 5437 5441 5443 5449 5471 5477 5479 5483 5501 5503 5507 5519 5521 5527 5531 5557 5563 5569 5573 5581 5591 5623 5639 5641 5647 5651 5653 5657 5659 5669 5683 5689 5693 5701 5711 5717 5737 5741 5743 5749 5779 5783 5791 5801 5807 5813 5821 5827 5839 5843 5849 5851 5857 5861 5867 5869 5879 5881 5897 5903 5923 5927 5939 5953 5981 5987 6007 6011 6029 6037 6043 6047 6053 6067 6073 6079 6089 6091 6101 6113 6121 6131 6133 6143 6151 6163 6173 6197 6199 6203 6211 6217 6221 6229 6247 6257 6263 6269 6271 6277 6287 6299 6301 6311 6317 6323 6329 6337 6343 6353 6359 6361 6367 6373 6379 6389 6397 6421 6427 6449 6451 6469 6473 6481 6491 6521 6529 6547 6551 6553 6563 6569 6571 6577 6581 6599 6607 6619 6637 6653 6659 6661 6673 6679 6689 6691 6701 6703 6709 6719 6733 6737 6761 6763 6779 6781 6791 6793 6803 6823 6827 6829 6833 6841 6857 6863 6869 6871 6883 6899 6907 6911 6917 6947 6949 6959 6961 6967 6971 6977 6983 6991 6997 7001 7013 7019 7027 7039 7043 7057 7069 7079 7103 7109 7121 7127 7129 7151 7159 7177 7187 7193 7207 7211 7213 7219 7229 7237 7243 7247 7253 7283 7297 7307 7309 7321 7331 7333 7349 7351 7369 7393 7411 7417 7433 7451 7457 7459 7477 7481 7487 7489 7499 7507 7517 7523 7529 7537 7541 7547 7549 7559 7561 7573 7577 7583 7589 7591 7603 7607 7621 7639 7643 7649 7669 7673 7681 7687 7691 7699 7703 7717 7723 7727 7741 7753 7757 7759 7789 7793 7817 7823 7829 7841 7853 7867 7873 7877 7879 7883 7901 7907 7919 7927 7933 7937 7949 7951 7963 7993 8009 8011 8017 8039 8053 8059 8069 8081 8087 8089 8093 8101 8111 8117 8123 8147 8161 8167 8171 8179 8191 8209 8219 8221 8231 8233 8237 8243 8263 8269 8273 8287 8291 8293 8297 8311 8317 8329 8353 8363 8369 8377 8387 8389 8419 8423 8429 8431 8443 8447 8461 8467 8501 8513 8521 8527 8537 8539 8543 8563 8573 8581 8597 8599 8609 8623 8627 8629 8641 8647 8663 8669 8677 8681 8689 8693 8699 8707 8713 8719 8731 8737 8741 8747 8753 8761 8779 8783 8803 8807 8819 8821 8831 8837 8839 8849 8861 8863 8867 8887 8893 8923 8929 8933 8941 8951 8963 8969 8971 8999 9001 9007 9011 9013 9029 9041 9043 9049 9059 9067 9091 9103 9109 9127 9133 9137 9151 9157 9161 9173 9181 9187 9199 9203 9209 9221 9227 9239 9241 9257 9277 9281 9283 9293 9311 9319 9323 9337 9341 9343 9349 9371 9377 9391 9397 9403 9413 9419 9421 9431 9433 9437 9439 9461 9463 9467 9473 9479 9491 9497 9511 9521 9533 9539 9547 9551 9587 9601 9613 9619 9623 9629 9631 9643 9649 9661 9677 9679 9689 9697 9719 9721 9733 9739 9743 9749 9767 9769 9781 9787 9791 9803 9811 9817 9829 9833 9839 9851 9857 9859 9871 9883 9887 9901 9907 9923 9929 9931 9941 9949 9967 9973 "
     ]
    }
   ],
   "source": [
    "for j in range(1,10001):\n",
    "    limit = int(j**0.5)\n",
    "    flag = 0\n",
    "    if j == 1:\n",
    "        continue\n",
    "    for i in range(2,limit+1):\n",
    "        if j%i==0:\n",
    "            flag=1\n",
    "            break\n",
    "    if flag==0:\n",
    "        print(j,end=\" \")"
   ]
  },
  {
   "cell_type": "markdown",
   "id": "050e2cb4-2883-4ecf-9a17-1d21d96aced1",
   "metadata": {
    "jp-MarkdownHeadingCollapsed": true
   },
   "source": [
    "<h3>Reverse a given integer number without using python inbuilt functions or converting to strings</h3>"
   ]
  },
  {
   "cell_type": "code",
   "execution_count": 6,
   "id": "a38c1019-9665-4a98-bc5d-eb6016438914",
   "metadata": {},
   "outputs": [
    {
     "name": "stdin",
     "output_type": "stream",
     "text": [
      " 1234567890\n"
     ]
    },
    {
     "name": "stdout",
     "output_type": "stream",
     "text": [
      "987654321\n"
     ]
    }
   ],
   "source": [
    "n = int(input())\n",
    "rev_no = 0\n",
    "x=n\n",
    "\n",
    "while x>0:\n",
    "    digit = x%10\n",
    "    rev_no = (rev_no*10)+digit\n",
    "    x=x//10\n",
    "\n",
    "print(rev_no)"
   ]
  },
  {
   "cell_type": "markdown",
   "id": "b894ba37-387e-4e14-9206-749e3c2f16e9",
   "metadata": {
    "jp-MarkdownHeadingCollapsed": true
   },
   "source": [
    "<h3>Find the number of digits in a given integer number without using inbuilt functions or converting to strings</h3>"
   ]
  },
  {
   "cell_type": "code",
   "execution_count": 8,
   "id": "135b559a-6e32-4f6f-9a02-02c5b389a4b9",
   "metadata": {},
   "outputs": [
    {
     "name": "stdin",
     "output_type": "stream",
     "text": [
      " 123456789\n"
     ]
    },
    {
     "name": "stdout",
     "output_type": "stream",
     "text": [
      "9\n"
     ]
    }
   ],
   "source": [
    "n = int(input())\n",
    "digi_count = 0\n",
    "x = n\n",
    "\n",
    "while x>0:\n",
    "    x = x//10\n",
    "    digi_count+=1\n",
    "print(digi_count)"
   ]
  },
  {
   "cell_type": "markdown",
   "id": "89de09ac-775a-493c-863d-f9df294bd0e9",
   "metadata": {
    "jp-MarkdownHeadingCollapsed": true
   },
   "source": [
    "<h3>Given a integer number find if it is armstrong or not</h3>"
   ]
  },
  {
   "cell_type": "code",
   "execution_count": 13,
   "id": "8d842774-2a71-4dc4-8fea-129859c22902",
   "metadata": {},
   "outputs": [
    {
     "name": "stdin",
     "output_type": "stream",
     "text": [
      " 371\n"
     ]
    },
    {
     "name": "stdout",
     "output_type": "stream",
     "text": [
      "Its armstrong\n"
     ]
    }
   ],
   "source": [
    "# 153 370 371\n",
    "n = int(input())\n",
    "arm_no=0\n",
    "x=n\n",
    "power = 0\n",
    "\n",
    "while x>0:\n",
    "    x = x//10\n",
    "    power+=1\n",
    "\n",
    "x=n\n",
    "\n",
    "while x>0:\n",
    "    rem = x%10\n",
    "    arm_no += rem**power\n",
    "    x=x//10\n",
    "    \n",
    "if n==arm_no:\n",
    "    print(\"Its armstrong\")\n",
    "else:\n",
    "    print(\"Not an armstrong number\")"
   ]
  },
  {
   "cell_type": "code",
   "execution_count": 15,
   "id": "06abaa17-2b50-4ce3-a89f-5524a13222f0",
   "metadata": {},
   "outputs": [
    {
     "name": "stdout",
     "output_type": "stream",
     "text": [
      "1 2 3 4 5 6 7 8 9 153 370 371 407 1634 8208 9474 54748 92727 93084 "
     ]
    }
   ],
   "source": [
    "for i in range(1,100001):\n",
    "    arm_no=0\n",
    "    x=i\n",
    "    power = 0\n",
    "\n",
    "    while x>0:\n",
    "        x = x//10\n",
    "        power+=1\n",
    "\n",
    "    x=i\n",
    "\n",
    "    while x>0:\n",
    "        rem = x%10\n",
    "        arm_no += rem**power\n",
    "        x=x//10\n",
    "\n",
    "    if arm_no==i:\n",
    "        print(arm_no,end=\" \")"
   ]
  },
  {
   "cell_type": "markdown",
   "id": "0bf4d769-8b2e-4817-b30f-824ec205d384",
   "metadata": {
    "jp-MarkdownHeadingCollapsed": true
   },
   "source": [
    "<h3>Implement palindrome logic for integers as well as strings from scratch</h3>"
   ]
  },
  {
   "cell_type": "code",
   "execution_count": 18,
   "id": "17771fa4-a9b1-4638-87cd-14a8ae836096",
   "metadata": {},
   "outputs": [
    {
     "name": "stdin",
     "output_type": "stream",
     "text": [
      " df\n"
     ]
    },
    {
     "name": "stdout",
     "output_type": "stream",
     "text": [
      "String is not a palindrome\n",
      "ValueError\n"
     ]
    }
   ],
   "source": [
    "x = input()\n",
    "try:\n",
    "    # Integer palindrome\n",
    "    x = int(x)\n",
    "    rev = 0\n",
    "    temp = x\n",
    "    while temp>0:\n",
    "        rem = temp%10\n",
    "        rev = (rev*10) + rem\n",
    "        temp = temp//10\n",
    "    if rev==x:\n",
    "        print(\"Number is a palindrome\")\n",
    "    else:\n",
    "        print(\"Number is not a palindrome\")\n",
    "except Exception as e:\n",
    "    # String palindrome\n",
    "    flag = 1\n",
    "    size = len(x)\n",
    "    for i in range(0,size//2):\n",
    "        if x[i]!=x[size-i-1]:\n",
    "            flag=0\n",
    "    if flag==1:\n",
    "        print(\"String is a palindrome\")\n",
    "    else:\n",
    "        print(\"String is not a palindrome\")\n",
    "    # print(type(e).__name__)"
   ]
  },
  {
   "cell_type": "markdown",
   "id": "f36fb6b3-5715-42e1-8a12-a198b2978f5b",
   "metadata": {
    "jp-MarkdownHeadingCollapsed": true
   },
   "source": [
    "<h3>WAP in python to reverse a list without using any inbuilt feature of python</h3>"
   ]
  },
  {
   "cell_type": "code",
   "execution_count": 21,
   "id": "1f8dc0ce-ccb2-4ef8-9149-02b4026c655f",
   "metadata": {},
   "outputs": [
    {
     "data": {
      "text/plain": [
       "[5, 4, 3, 2, 1]"
      ]
     },
     "execution_count": 21,
     "metadata": {},
     "output_type": "execute_result"
    }
   ],
   "source": [
    "a = [1,2,3,4,5]\n",
    "# Way 1\n",
    "for i in range(0,len(a)):\n",
    "    x = a.pop()\n",
    "    a.insert(i,x)\n",
    "a"
   ]
  },
  {
   "cell_type": "code",
   "execution_count": 23,
   "id": "8a85b52a-6a1d-4add-a78a-8831d6304b0d",
   "metadata": {},
   "outputs": [
    {
     "data": {
      "text/plain": [
       "[6, 5, 4, 3, 2, 1]"
      ]
     },
     "execution_count": 23,
     "metadata": {},
     "output_type": "execute_result"
    }
   ],
   "source": [
    "a = [1,2,3,4,5,6]\n",
    "s = 0\n",
    "e = len(a)-1\n",
    "while s<e:\n",
    "    a[s],a[e]=a[e],a[s]\n",
    "    s+=1\n",
    "    e-=1\n",
    "a"
   ]
  },
  {
   "cell_type": "markdown",
   "id": "3f6cb111-f601-43e6-b8c7-db627c0a834e",
   "metadata": {},
   "source": [
    "<h3>Sort a given list without using any inbuilt function</h3>"
   ]
  },
  {
   "cell_type": "code",
   "execution_count": 2,
   "id": "b8b84f80-8804-4f11-b41d-0422aee9ffef",
   "metadata": {},
   "outputs": [
    {
     "name": "stdout",
     "output_type": "stream",
     "text": [
      "[1, 2, 3, 4, 5, 6]\n"
     ]
    },
    {
     "data": {
      "text/plain": [
       "[1, 2, 3, 4, 5, 6]"
      ]
     },
     "execution_count": 2,
     "metadata": {},
     "output_type": "execute_result"
    }
   ],
   "source": [
    "a = [5, 4, 6, 3, 2, 1]\n",
    "\n",
    "# Solution 1: Debug\n",
    "for i in range(0,len(a)):\n",
    "    max_no = a[i]\n",
    "    index = i\n",
    "    for j in range(i+1,len(a)):\n",
    "        if a[j]<a[index]:\n",
    "            max_no = a[j]\n",
    "            index = j\n",
    "    a[i],a[index] = a[index],a[i]\n",
    "print(a)\n",
    "\n",
    "# Solution 2\n",
    "a = [5, 4, 6, 3, 2, 1]\n",
    "\n",
    "for i in range(0,len(a)):\n",
    "    for j in range(i+1,len(a)):\n",
    "        if a[i]>a[j]:\n",
    "            a[i],a[j] = a[j],a[i]\n",
    "a"
   ]
  },
  {
   "cell_type": "markdown",
   "id": "ad334fcf-6c10-44f5-a96f-7311d3a77424",
   "metadata": {},
   "source": [
    "<h3>WAP in Python to find factorial of a number</h3>"
   ]
  },
  {
   "cell_type": "code",
   "execution_count": 7,
   "id": "2bd7c3fa-5af3-4066-80fc-420916ec6173",
   "metadata": {},
   "outputs": [
    {
     "name": "stdin",
     "output_type": "stream",
     "text": [
      " 5\n"
     ]
    },
    {
     "name": "stdout",
     "output_type": "stream",
     "text": [
      "120\n",
      "120\n"
     ]
    }
   ],
   "source": [
    "n = int(input())\n",
    "# 5! = 5x (4x3x2x1) = 4!\n",
    "\n",
    "# loop approach\n",
    "fact = 1\n",
    "for i in range(1,n+1):\n",
    "    fact = i*fact\n",
    "print(fact)\n",
    "\n",
    "# Recursion \n",
    "def factorial(n):\n",
    "    # Stopping Condition\n",
    "    if n==1 or n==0:\n",
    "        return 1\n",
    "    elif n<0:\n",
    "        return \"Factorial of negative numbers do not exist!\"\n",
    "    else:\n",
    "        return n * factorial(n-1)\n",
    "print(factorial(n))"
   ]
  },
  {
   "cell_type": "markdown",
   "id": "16969c6f-5599-4dd7-8216-8315a8e73c1c",
   "metadata": {},
   "source": [
    "<h3>WAP in Python to print first n terms of fibonacci series</h3>"
   ]
  },
  {
   "cell_type": "code",
   "execution_count": null,
   "id": "1de89501-7843-45f2-8cfa-44d76d26a1ab",
   "metadata": {},
   "outputs": [],
   "source": []
  },
  {
   "cell_type": "markdown",
   "id": "34f7fe28-d19b-4ded-aaae-743bf1865e36",
   "metadata": {},
   "source": [
    "<h3>Given a text as input, return those words which are occuring more than once</h3>\n",
    "'the dog was runing in the feild, \n",
    "the dog was sleeping in the feild,\n",
    "the dog was dancing in the field'"
   ]
  },
  {
   "cell_type": "code",
   "execution_count": null,
   "id": "81463de2-a031-4e03-bfc7-3a47e1e0fc69",
   "metadata": {},
   "outputs": [],
   "source": []
  },
  {
   "cell_type": "markdown",
   "id": "b7c62434-ec41-47b6-922e-94b615fbdb92",
   "metadata": {},
   "source": [
    "<h3>WAP in python to square a number using Lambda function</h3>"
   ]
  },
  {
   "cell_type": "code",
   "execution_count": null,
   "id": "00478778-d1c6-4eb8-96a3-68d345abcbe1",
   "metadata": {},
   "outputs": [],
   "source": []
  },
  {
   "cell_type": "markdown",
   "id": "6c8462e8-a8dd-4b0e-bc8b-f969deaef530",
   "metadata": {},
   "source": [
    "<h3>Given a list of integers, WAP in Python to place even numbers and odd numbers in separate lists.</h3>"
   ]
  },
  {
   "cell_type": "code",
   "execution_count": null,
   "id": "2ca66f6c-f275-413f-bb9e-ff9e2aef984b",
   "metadata": {},
   "outputs": [],
   "source": []
  },
  {
   "cell_type": "markdown",
   "id": "68fff226-0989-40f6-b56c-d1c5e927ee3e",
   "metadata": {},
   "source": [
    "<h3></h3>"
   ]
  },
  {
   "cell_type": "code",
   "execution_count": 14,
   "id": "719f04a8-749a-48ff-aa27-d37bfa597266",
   "metadata": {},
   "outputs": [
    {
     "data": {
      "text/plain": [
       "{1, 2, 3, 4, <__main__.MyClass at 0x2acd6c7d030>}"
      ]
     },
     "execution_count": 14,
     "metadata": {},
     "output_type": "execute_result"
    }
   ],
   "source": [
    "a = {1,2,3,4,obj1}\n",
    "a"
   ]
  },
  {
   "cell_type": "code",
   "execution_count": 16,
   "id": "b3c777be-b0f2-4ed4-8035-2ce925df970c",
   "metadata": {},
   "outputs": [
    {
     "ename": "TypeError",
     "evalue": "unhashable type: 'MyClass'",
     "output_type": "error",
     "traceback": [
      "\u001b[1;31m---------------------------------------------------------------------------\u001b[0m",
      "\u001b[1;31mTypeError\u001b[0m                                 Traceback (most recent call last)",
      "Cell \u001b[1;32mIn[16], line 6\u001b[0m\n\u001b[0;32m      4\u001b[0m         \u001b[38;5;28mself\u001b[39m\u001b[38;5;241m.\u001b[39mvalue \u001b[38;5;241m=\u001b[39m value\n\u001b[0;32m      5\u001b[0m obj1 \u001b[38;5;241m=\u001b[39m MyClass(\u001b[38;5;241m42\u001b[39m)\n\u001b[1;32m----> 6\u001b[0m a \u001b[38;5;241m=\u001b[39m {\u001b[38;5;241m1\u001b[39m,\u001b[38;5;241m2\u001b[39m,\u001b[38;5;241m3\u001b[39m,\u001b[38;5;241m4\u001b[39m,obj1}\n\u001b[0;32m      7\u001b[0m obj1\u001b[38;5;241m.\u001b[39mvalue \u001b[38;5;241m=\u001b[39m \u001b[38;5;241m99\u001b[39m\n\u001b[0;32m      8\u001b[0m \u001b[38;5;28mprint\u001b[39m(a)\n",
      "\u001b[1;31mTypeError\u001b[0m: unhashable type: 'MyClass'"
     ]
    }
   ],
   "source": [
    "class MyClass:\n",
    "    __hash__ = None\n",
    "    def __init__(self, value):\n",
    "        self.value = value\n",
    "obj1 = MyClass(42)\n",
    "a = {1,2,3,4,obj1}\n",
    "obj1.value = 99\n",
    "print(a)"
   ]
  },
  {
   "cell_type": "code",
   "execution_count": null,
   "id": "04680835-6d5a-4f02-bcb7-de63f20150e1",
   "metadata": {},
   "outputs": [],
   "source": []
  },
  {
   "cell_type": "code",
   "execution_count": 13,
   "id": "d77af611-a743-4f61-bc31-c92b5dd62231",
   "metadata": {},
   "outputs": [
    {
     "name": "stdout",
     "output_type": "stream",
     "text": [
      "Original object hash: 183835065603\n",
      "2941361049648\n",
      "Modified object hash: 183835065603\n",
      "2941361049648\n"
     ]
    }
   ],
   "source": [
    "class MyClass:\n",
    "    def __init__(self, value):\n",
    "        self.value = value\n",
    "\n",
    "obj1 = MyClass(42)\n",
    "print(f\"Original object hash: {hash(obj1)}\")\n",
    "print(id(obj1))\n",
    "\n",
    "# Modify an attribute of the object\n",
    "obj1.value = 99\n",
    "print(f\"Modified object hash: {hash(obj1)}\")\n",
    "print(id(obj1))"
   ]
  },
  {
   "cell_type": "code",
   "execution_count": 10,
   "id": "42b1f8cc-17bf-436a-bfed-498829002e8c",
   "metadata": {},
   "outputs": [
    {
     "name": "stdout",
     "output_type": "stream",
     "text": [
      "{1, 2, 3, <__main__.MyClass object at 0x000002E076D8B8B0>, frozenset({1, 2, 3})}\n"
     ]
    }
   ],
   "source": [
    "c = frozenset([1,2,3])\n",
    "s = {1,2,3, c, obj1}\n",
    "print(s)"
   ]
  },
  {
   "cell_type": "code",
   "execution_count": 9,
   "id": "ea5d6a54-e255-4aaa-887d-094cb0533119",
   "metadata": {},
   "outputs": [
    {
     "name": "stdout",
     "output_type": "stream",
     "text": [
      "Heart emoji: 🐁\n"
     ]
    }
   ],
   "source": [
    "# Unicode escape sequence for the heart emoji\n",
    "heart_emoji = '\\U0001F401'\n",
    "print(f\"Heart emoji: {heart_emoji}\")\n"
   ]
  },
  {
   "cell_type": "code",
   "execution_count": null,
   "id": "18bee659-a913-41b3-8306-e6fea7a38480",
   "metadata": {},
   "outputs": [],
   "source": []
  },
  {
   "cell_type": "code",
   "execution_count": null,
   "id": "5928a726-0530-411c-bffe-80d9219b2893",
   "metadata": {},
   "outputs": [],
   "source": []
  },
  {
   "cell_type": "code",
   "execution_count": null,
   "id": "7c9d4c46-c058-4af8-b1f2-5bea18f3de6f",
   "metadata": {},
   "outputs": [],
   "source": []
  },
  {
   "cell_type": "code",
   "execution_count": null,
   "id": "b1a57ae0-a88f-4300-b273-1208df00921d",
   "metadata": {},
   "outputs": [],
   "source": []
  },
  {
   "cell_type": "code",
   "execution_count": null,
   "id": "a5943c02-9c02-4156-a96e-57215b71b0f5",
   "metadata": {},
   "outputs": [],
   "source": []
  },
  {
   "cell_type": "code",
   "execution_count": null,
   "id": "f8fa14d6-41e8-40b6-b983-78a6ae117f03",
   "metadata": {},
   "outputs": [],
   "source": []
  },
  {
   "cell_type": "code",
   "execution_count": null,
   "id": "b4772dbe-c5a6-4b38-b894-6b6f267e579b",
   "metadata": {},
   "outputs": [],
   "source": []
  },
  {
   "cell_type": "code",
   "execution_count": null,
   "id": "267e0975-97fe-4e09-99ac-64081e706a6c",
   "metadata": {},
   "outputs": [],
   "source": []
  },
  {
   "cell_type": "code",
   "execution_count": null,
   "id": "c58b0d53-d45a-401e-9db4-4b952b1de9c5",
   "metadata": {},
   "outputs": [],
   "source": []
  },
  {
   "cell_type": "code",
   "execution_count": null,
   "id": "e576d32a-db68-4bb4-a9f4-e8429fc9ddb2",
   "metadata": {},
   "outputs": [],
   "source": []
  },
  {
   "cell_type": "code",
   "execution_count": null,
   "id": "6090c62a-d496-4d2f-a77a-980f6230230c",
   "metadata": {},
   "outputs": [],
   "source": []
  },
  {
   "cell_type": "code",
   "execution_count": null,
   "id": "c860d3e6-94b1-488e-9b9a-d523297cb8d2",
   "metadata": {},
   "outputs": [],
   "source": []
  },
  {
   "cell_type": "code",
   "execution_count": null,
   "id": "35c53b6e-a9f1-449a-8d65-8d7aaa7e8c4f",
   "metadata": {},
   "outputs": [],
   "source": []
  },
  {
   "cell_type": "code",
   "execution_count": null,
   "id": "83b0540e-fa46-4748-9980-97d8f0da0b74",
   "metadata": {},
   "outputs": [],
   "source": []
  },
  {
   "cell_type": "code",
   "execution_count": null,
   "id": "81a9e42d-88b6-4b47-b405-7d2e0066f286",
   "metadata": {},
   "outputs": [],
   "source": []
  },
  {
   "cell_type": "code",
   "execution_count": null,
   "id": "76f2d2d3-85a1-4fa5-aa3c-8dcb8ff9cac2",
   "metadata": {},
   "outputs": [],
   "source": []
  },
  {
   "cell_type": "code",
   "execution_count": null,
   "id": "58436300-dbb6-4b89-bd60-db3ee1dd6018",
   "metadata": {},
   "outputs": [],
   "source": []
  },
  {
   "cell_type": "code",
   "execution_count": null,
   "id": "18de7def-693c-4b4e-8cea-0ef1a24febd4",
   "metadata": {},
   "outputs": [],
   "source": []
  },
  {
   "cell_type": "code",
   "execution_count": null,
   "id": "f94fcabd-7c8f-4aa9-a06c-3d2ee3951c07",
   "metadata": {},
   "outputs": [],
   "source": []
  }
 ],
 "metadata": {
  "kernelspec": {
   "display_name": "difEnv",
   "language": "python",
   "name": "difenv"
  },
  "language_info": {
   "codemirror_mode": {
    "name": "ipython",
    "version": 3
   },
   "file_extension": ".py",
   "mimetype": "text/x-python",
   "name": "python",
   "nbconvert_exporter": "python",
   "pygments_lexer": "ipython3",
   "version": "3.10.0"
  }
 },
 "nbformat": 4,
 "nbformat_minor": 5
}
