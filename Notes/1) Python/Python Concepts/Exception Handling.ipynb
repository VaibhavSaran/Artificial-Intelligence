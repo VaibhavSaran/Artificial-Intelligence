{
 "cells": [
  {
   "cell_type": "code",
   "execution_count": 6,
   "id": "cbd6b9f6-55c8-4ee2-b476-c094c28f941a",
   "metadata": {
    "scrolled": true
   },
   "outputs": [
    {
     "name": "stdout",
     "output_type": "stream",
     "text": [
      " 3\n",
      " 0\n"
     ]
    },
    {
     "ename": "ZeroDivisionError",
     "evalue": "division by zero",
     "output_type": "error",
     "traceback": [
      "\u001b[1;31m---------------------------------------------------------------------------\u001b[0m",
      "\u001b[1;31mZeroDivisionError\u001b[0m                         Traceback (most recent call last)",
      "Cell \u001b[1;32mIn[6], line 3\u001b[0m\n\u001b[0;32m      1\u001b[0m a \u001b[38;5;241m=\u001b[39m \u001b[38;5;28mint\u001b[39m(\u001b[38;5;28minput\u001b[39m())\n\u001b[0;32m      2\u001b[0m b \u001b[38;5;241m=\u001b[39m \u001b[38;5;28mint\u001b[39m(\u001b[38;5;28minput\u001b[39m())\n\u001b[1;32m----> 3\u001b[0m c \u001b[38;5;241m=\u001b[39m \u001b[43ma\u001b[49m\u001b[38;5;241;43m/\u001b[39;49m\u001b[43mb\u001b[49m\n\u001b[0;32m      4\u001b[0m \u001b[38;5;28mprint\u001b[39m(c)\n",
      "\u001b[1;31mZeroDivisionError\u001b[0m: division by zero"
     ]
    }
   ],
   "source": [
    "a = int(input())\n",
    "b = int(input())\n",
    "c = a/b\n",
    "print(c)"
   ]
  },
  {
   "cell_type": "code",
   "execution_count": 27,
   "id": "de0fd709-705e-4b0f-b82d-3144c1a0b35f",
   "metadata": {},
   "outputs": [
    {
     "ename": "SyntaxError",
     "evalue": "expected 'except' or 'finally' block (2425574440.py, line 3)",
     "output_type": "error",
     "traceback": [
      "\u001b[1;36m  Cell \u001b[1;32mIn[27], line 3\u001b[1;36m\u001b[0m\n\u001b[1;33m    if 3==3:\u001b[0m\n\u001b[1;37m    ^\u001b[0m\n\u001b[1;31mSyntaxError\u001b[0m\u001b[1;31m:\u001b[0m expected 'except' or 'finally' block\n"
     ]
    }
   ],
   "source": [
    "try:\n",
    "    print(1/0)\n",
    "else:\n",
    "    print(\"pavan\")"
   ]
  },
  {
   "cell_type": "code",
   "execution_count": 30,
   "id": "fd45f742-15a8-4b40-b1a3-d1fe862f2093",
   "metadata": {},
   "outputs": [
    {
     "name": "stdout",
     "output_type": "stream",
     "text": [
      "No exception\n",
      "Bye bye\n"
     ]
    }
   ],
   "source": [
    "try:\n",
    "    print(\"No exception\")\n",
    "except Exception as e:\n",
    "    print(e)\n",
    "# if 3==3:\n",
    "#     print(\"Hi Harika\")\n",
    "else:\n",
    "    print(\"Bye bye\")"
   ]
  },
  {
   "cell_type": "code",
   "execution_count": 7,
   "id": "0d70fae5-3ae1-4ada-a5b6-31e80a3df9dc",
   "metadata": {},
   "outputs": [
    {
     "ename": "SyntaxError",
     "evalue": "unmatched ')' (736867379.py, line 1)",
     "output_type": "error",
     "traceback": [
      "\u001b[1;36m  Cell \u001b[1;32mIn[7], line 1\u001b[1;36m\u001b[0m\n\u001b[1;33m    print(\"sravan\"))\u001b[0m\n\u001b[1;37m                   ^\u001b[0m\n\u001b[1;31mSyntaxError\u001b[0m\u001b[1;31m:\u001b[0m unmatched ')'\n"
     ]
    }
   ],
   "source": [
    "print(\"sravan\"))"
   ]
  },
  {
   "cell_type": "code",
   "execution_count": 15,
   "id": "8372f16e-28a5-4f92-bb71-04237913875e",
   "metadata": {},
   "outputs": [
    {
     "name": "stdout",
     "output_type": "stream",
     "text": [
      " 3\n",
      " 0\n"
     ]
    },
    {
     "name": "stdout",
     "output_type": "stream",
     "text": [
      "0.3\n"
     ]
    }
   ],
   "source": [
    "try:\n",
    "    a = int(input())\n",
    "    b = int(input())\n",
    "    c = a/b\n",
    "    print(c)\n",
    "except Exception as e:\n",
    "    c = a/10\n",
    "    print(c)"
   ]
  },
  {
   "cell_type": "code",
   "execution_count": 18,
   "id": "9309082b-2d08-4f25-b057-71b54c4fe953",
   "metadata": {},
   "outputs": [
    {
     "name": "stdout",
     "output_type": "stream",
     "text": [
      "Hi\n",
      "Bye\n",
      "Learn basic maths\n"
     ]
    }
   ],
   "source": [
    "# Handling Exception Error\n",
    "try:\n",
    "    print(\"Hi\")\n",
    "    print(\"Bye\")\n",
    "    print(1/0)\n",
    "    # l=[1,2,3]\n",
    "    # print(l[5])\n",
    "    print(\"Strange Coder\")\n",
    "except ZeroDivisionError:\n",
    "    print(\"Learn basic maths\")"
   ]
  },
  {
   "cell_type": "code",
   "execution_count": 25,
   "id": "135583d2-ba53-45b9-a638-bf7c5e435ed3",
   "metadata": {},
   "outputs": [
    {
     "name": "stdout",
     "output_type": "stream",
     "text": [
      "Hi\n",
      "Bye\n",
      "1\n",
      "Only 4 elements are there\n"
     ]
    }
   ],
   "source": [
    "# Example of else block\n",
    "try:\n",
    "    print(\"Hi\")\n",
    "    print(\"Bye\")\n",
    "    print(1)\n",
    "    l= [1,2,3,4]\n",
    "    print(l[5])\n",
    "    print(\"Strange Coder\")\n",
    "    print(\"You are a good coder\")\n",
    "except ZeroDivisionError:\n",
    "    print(\"Learn basic maths\")\n",
    "except IndexError:\n",
    "    print(\"Only 4 elements are there\")\n",
    "else:\n",
    "    print(\"You are good coder\")"
   ]
  },
  {
   "cell_type": "code",
   "execution_count": null,
   "id": "52d61886-b75c-46e4-9cc8-e7f123eea845",
   "metadata": {},
   "outputs": [],
   "source": []
  },
  {
   "cell_type": "code",
   "execution_count": null,
   "id": "f7357029-63fc-4469-83af-46fcc9e6095f",
   "metadata": {},
   "outputs": [],
   "source": []
  },
  {
   "cell_type": "code",
   "execution_count": null,
   "id": "4b9277b8-a8c6-4253-870a-93fa10d31528",
   "metadata": {},
   "outputs": [],
   "source": []
  },
  {
   "cell_type": "code",
   "execution_count": 8,
   "id": "c399170e-d6b9-4743-a210-43ca85dc02a0",
   "metadata": {},
   "outputs": [
    {
     "ename": "SyntaxError",
     "evalue": "unmatched ')' (4096296668.py, line 2)",
     "output_type": "error",
     "traceback": [
      "\u001b[1;36m  Cell \u001b[1;32mIn[8], line 2\u001b[1;36m\u001b[0m\n\u001b[1;33m    print(3,2))\u001b[0m\n\u001b[1;37m              ^\u001b[0m\n\u001b[1;31mSyntaxError\u001b[0m\u001b[1;31m:\u001b[0m unmatched ')'\n"
     ]
    }
   ],
   "source": [
    "# Generating a syntax error\n",
    "print(3,2))"
   ]
  },
  {
   "cell_type": "code",
   "execution_count": 9,
   "id": "c6e34a30-08c0-4595-8d65-cda769701e42",
   "metadata": {},
   "outputs": [
    {
     "name": "stdout",
     "output_type": "stream",
     "text": [
      "Hi\n",
      "Bye\n"
     ]
    },
    {
     "ename": "ZeroDivisionError",
     "evalue": "division by zero",
     "output_type": "error",
     "traceback": [
      "\u001b[1;31m---------------------------------------------------------------------------\u001b[0m",
      "\u001b[1;31mZeroDivisionError\u001b[0m                         Traceback (most recent call last)",
      "Cell \u001b[1;32mIn[9], line 4\u001b[0m\n\u001b[0;32m      2\u001b[0m \u001b[38;5;28mprint\u001b[39m(\u001b[38;5;124m\"\u001b[39m\u001b[38;5;124mHi\u001b[39m\u001b[38;5;124m\"\u001b[39m)\n\u001b[0;32m      3\u001b[0m \u001b[38;5;28mprint\u001b[39m(\u001b[38;5;124m\"\u001b[39m\u001b[38;5;124mBye\u001b[39m\u001b[38;5;124m\"\u001b[39m)\n\u001b[1;32m----> 4\u001b[0m \u001b[38;5;28mprint\u001b[39m(\u001b[38;5;241;43m1\u001b[39;49m\u001b[38;5;241;43m/\u001b[39;49m\u001b[38;5;241;43m0\u001b[39;49m)\n\u001b[0;32m      5\u001b[0m \u001b[38;5;28mprint\u001b[39m(\u001b[38;5;124m\"\u001b[39m\u001b[38;5;124mStrange Coder\u001b[39m\u001b[38;5;124m\"\u001b[39m)\n",
      "\u001b[1;31mZeroDivisionError\u001b[0m: division by zero"
     ]
    }
   ],
   "source": [
    "# Causing an Exception Error\n",
    "print(\"Hi\")\n",
    "print(\"Bye\")\n",
    "print(1/0)\n",
    "print(\"Strange Coder\")"
   ]
  },
  {
   "cell_type": "code",
   "execution_count": null,
   "id": "a22b1418-24ed-4bf9-a87d-7751fefe82e9",
   "metadata": {},
   "outputs": [],
   "source": [
    "# Handling Exception Error\n",
    "try:\n",
    "    print(\"Hi\")\n",
    "    print(\"Bye\")\n",
    "    print(1/0)\n",
    "    print(\"Strange Coder\")\n",
    "except ZeroDivisionError:\n",
    "    print(\"Learn basic maths\")"
   ]
  },
  {
   "cell_type": "code",
   "execution_count": null,
   "id": "8c559045-2ea9-4798-9b0b-e12680784b4e",
   "metadata": {},
   "outputs": [],
   "source": [
    "# Handling Exception Error in general\n",
    "try:\n",
    "    print(\"Hi\")\n",
    "    print(\"Bye\")\n",
    "    l=[1,2,3,4]\n",
    "    print(l[5])\n",
    "    print(\"Strange Coder\")\n",
    "except Exception as e:\n",
    "    print(\"The error is: \",e)"
   ]
  },
  {
   "cell_type": "code",
   "execution_count": 20,
   "id": "8da3a044-e516-438c-9973-a7b7451822de",
   "metadata": {},
   "outputs": [
    {
     "name": "stdout",
     "output_type": "stream",
     "text": [
      "Hi\n",
      "Bye\n",
      "0.5\n",
      "Only 4 elements are there\n"
     ]
    }
   ],
   "source": [
    "# Handling Multiple Exceptions but one at a time\n",
    "try:\n",
    "    print(\"Hi\")\n",
    "    print(\"Bye\")\n",
    "    print(1/2)\n",
    "    l= [1,2,3,4]\n",
    "    print(l[5])\n",
    "    print(\"Strange Coder\")\n",
    "except ZeroDivisionError:\n",
    "    print(\"Learn basic maths\")\n",
    "except IndexError:\n",
    "    print(\"Only 4 elements are there\")"
   ]
  },
  {
   "cell_type": "code",
   "execution_count": 22,
   "id": "e182d880-0e48-4365-9102-fcd6f574a836",
   "metadata": {},
   "outputs": [
    {
     "name": "stdout",
     "output_type": "stream",
     "text": [
      "Hi\n",
      "Bye\n",
      "Learn basic maths\n"
     ]
    }
   ],
   "source": [
    "# Example of else block\n",
    "try:\n",
    "    print(\"Hi\")\n",
    "    print(\"Bye\")\n",
    "    print(1/0)\n",
    "    l= [1,2,3,4]\n",
    "    print(l[2])\n",
    "    print(\"Strange Coder\")\n",
    "except ZeroDivisionError:\n",
    "    print(\"Learn basic maths\")\n",
    "except IndexError:\n",
    "    print(\"Only 4 elements are there\")\n",
    "else:\n",
    "    print(\"You are good coder\")"
   ]
  },
  {
   "cell_type": "markdown",
   "id": "d9be14bd-d456-45fb-b9f3-d8c7f7100888",
   "metadata": {},
   "source": [
    "- Your `else` block will only execute iff the `try` block runs without any `exceptions`"
   ]
  },
  {
   "cell_type": "code",
   "execution_count": 32,
   "id": "3e5ebb88-fb1b-4bf0-9839-6189a8166b1a",
   "metadata": {},
   "outputs": [
    {
     "name": "stdout",
     "output_type": "stream",
     "text": [
      "Hi\n",
      "Bye\n",
      "1\n",
      "Only 4 elements are there\n",
      "go learn maths\n"
     ]
    }
   ],
   "source": [
    "# Example of finally\n",
    "try:\n",
    "    print(\"Hi\")\n",
    "    print(\"Bye\")\n",
    "    print(1)\n",
    "    l= [1,2,3,4]\n",
    "    print(l[5])\n",
    "    print(\"Strange Coder\")\n",
    "except ZeroDivisionError:\n",
    "    print(\"Learn basic maths\")\n",
    "except IndexError:\n",
    "    print(\"Only 4 elements are there\")\n",
    "else:\n",
    "    print(\"You are good coder\")\n",
    "finally:\n",
    "    print(\"go learn maths\")"
   ]
  },
  {
   "cell_type": "markdown",
   "id": "28516eaf-a911-415d-a2f5-ed71d5b7b670",
   "metadata": {},
   "source": [
    "- `finally` block will always execute regardless of the fact whether an exception occurred in the try block or not."
   ]
  },
  {
   "cell_type": "code",
   "execution_count": null,
   "id": "c57a6f7f-1360-4de8-b76f-69cb823d98cb",
   "metadata": {},
   "outputs": [],
   "source": [
    "try:\n",
    "    print(\"Hi\")\n",
    "    print(\"Bye\")\n",
    "    print(1)\n",
    "    l= [1,2,3,4]\n",
    "    print(l[2])\n",
    "    print(\"Strange Coder\")\n",
    "except ZeroDivisionError:\n",
    "    print(\"Learn basic maths\")\n",
    "except IndexError:\n",
    "    print(\"Only 4 elements are there\")\n",
    "else:\n",
    "    print(\"You are good coder\")\n",
    "finally:\n",
    "    print(\"I will always be there no matter what\")"
   ]
  },
  {
   "cell_type": "code",
   "execution_count": 33,
   "id": "79c31b5f-e338-423d-ab99-63795f7a627f",
   "metadata": {},
   "outputs": [
    {
     "name": "stdout",
     "output_type": "stream",
     "text": [
      "Hi\n",
      "Bye\n",
      "Learn basic maths\n",
      "Only 4 elements are there\n"
     ]
    }
   ],
   "source": [
    "# Nested try except block\n",
    "try:\n",
    "    print(\"Hi\")\n",
    "    print(\"Bye\")\n",
    "    print(1/0)\n",
    "    l= [1,2,3,4]\n",
    "    print(l[5])\n",
    "    print(\"Strange Coder\")\n",
    "except ZeroDivisionError:\n",
    "    print(\"Learn basic maths\")\n",
    "    try: \n",
    "        l= [1,2,3,4]\n",
    "        print(l[5])\n",
    "        print(\"Strange Coder\")\n",
    "    except IndexError:\n",
    "        print(\"Only 4 elements are there\")\n",
    "        "
   ]
  },
  {
   "cell_type": "code",
   "execution_count": 34,
   "id": "c08a6ad0-2d9c-438b-aa3b-28abc1c1c0e7",
   "metadata": {},
   "outputs": [
    {
     "ename": "ZeroDivisionError",
     "evalue": "division by zero",
     "output_type": "error",
     "traceback": [
      "\u001b[1;31m---------------------------------------------------------------------------\u001b[0m",
      "\u001b[1;31mZeroDivisionError\u001b[0m                         Traceback (most recent call last)",
      "Cell \u001b[1;32mIn[34], line 1\u001b[0m\n\u001b[1;32m----> 1\u001b[0m \u001b[38;5;241;43m1\u001b[39;49m\u001b[38;5;241;43m/\u001b[39;49m\u001b[38;5;241;43m0\u001b[39;49m\n",
      "\u001b[1;31mZeroDivisionError\u001b[0m: division by zero"
     ]
    }
   ],
   "source": [
    "1/0"
   ]
  },
  {
   "cell_type": "code",
   "execution_count": 35,
   "id": "3e89a4aa-6fec-4db6-85d9-2afadce63b6f",
   "metadata": {},
   "outputs": [
    {
     "ename": "Exception",
     "evalue": "x is greater than 4",
     "output_type": "error",
     "traceback": [
      "\u001b[1;31m---------------------------------------------------------------------------\u001b[0m",
      "\u001b[1;31mException\u001b[0m                                 Traceback (most recent call last)",
      "Cell \u001b[1;32mIn[35], line 4\u001b[0m\n\u001b[0;32m      2\u001b[0m x \u001b[38;5;241m=\u001b[39m \u001b[38;5;241m7\u001b[39m\n\u001b[0;32m      3\u001b[0m \u001b[38;5;28;01mif\u001b[39;00m x \u001b[38;5;241m>\u001b[39m \u001b[38;5;241m4\u001b[39m:\n\u001b[1;32m----> 4\u001b[0m     \u001b[38;5;28;01mraise\u001b[39;00m \u001b[38;5;167;01mException\u001b[39;00m(\u001b[38;5;124m\"\u001b[39m\u001b[38;5;124mx is greater than 4\u001b[39m\u001b[38;5;124m\"\u001b[39m)\n",
      "\u001b[1;31mException\u001b[0m: x is greater than 4"
     ]
    }
   ],
   "source": [
    "# how to raise an error\n",
    "x = 7\n",
    "if x > 4:\n",
    "    raise Exception(\"x is greater than 4\")"
   ]
  },
  {
   "cell_type": "code",
   "execution_count": 36,
   "id": "0c80f06a-816b-418d-a86f-028afe4ea1e1",
   "metadata": {},
   "outputs": [
    {
     "name": "stdout",
     "output_type": "stream",
     "text": [
      "Handling custom exception\n"
     ]
    }
   ],
   "source": [
    "# Handlig the custom raised error\n",
    "x = 7\n",
    "try: \n",
    "    if x > 4:\n",
    "        raise Exception(\"x is greater than 4\")\n",
    "except Exception as e:\n",
    "    print(\"Handling custom exception\")"
   ]
  },
  {
   "cell_type": "code",
   "execution_count": 39,
   "id": "a9addb9c-04d8-49c1-a8bf-7639a29f6a87",
   "metadata": {},
   "outputs": [
    {
     "ename": "IndexError",
     "evalue": "x is not the type for pavan",
     "output_type": "error",
     "traceback": [
      "\u001b[1;31m---------------------------------------------------------------------------\u001b[0m",
      "\u001b[1;31mIndexError\u001b[0m                                Traceback (most recent call last)",
      "Cell \u001b[1;32mIn[39], line 3\u001b[0m\n\u001b[0;32m      1\u001b[0m x \u001b[38;5;241m=\u001b[39m \u001b[38;5;241m7\u001b[39m\n\u001b[0;32m      2\u001b[0m \u001b[38;5;28;01mif\u001b[39;00m x \u001b[38;5;241m>\u001b[39m \u001b[38;5;241m4\u001b[39m:\n\u001b[1;32m----> 3\u001b[0m     \u001b[38;5;28;01mraise\u001b[39;00m \u001b[38;5;167;01mIndexError\u001b[39;00m(\u001b[38;5;124m\"\u001b[39m\u001b[38;5;124mx is not the type for pavan\u001b[39m\u001b[38;5;124m\"\u001b[39m)\n",
      "\u001b[1;31mIndexError\u001b[0m: x is not the type for pavan"
     ]
    }
   ],
   "source": [
    "x = 7\n",
    "if x > 4:\n",
    "    raise IndexError(\"x is not the type for pavan\")"
   ]
  },
  {
   "cell_type": "code",
   "execution_count": null,
   "id": "773d1bb0-90c4-4330-8c07-8484c0603b83",
   "metadata": {},
   "outputs": [],
   "source": [
    "x = 7\n",
    "try:\n",
    "    if x > 4:\n",
    "        raise TypeError(\"x is greater than 4\")\n",
    "except Exception as e:\n",
    "    print(\"Wrong value\",e,sep=\"\\n\")"
   ]
  },
  {
   "cell_type": "code",
   "execution_count": 42,
   "id": "a474751d-9809-43e3-8ee8-eb7f7e037adc",
   "metadata": {},
   "outputs": [
    {
     "name": "stdout",
     "output_type": "stream",
     "text": [
      "Hi\n",
      "Bye\n",
      "You have an error\n"
     ]
    }
   ],
   "source": [
    "# One except block, multiple excetion handling\n",
    "try:\n",
    "    print(\"Hi\")\n",
    "    print(\"Bye\")\n",
    "    # print(1/0)\n",
    "    l= [1,2,3,4]\n",
    "    print(l[5])\n",
    "    print(\"Strange Coder\")\n",
    "# except (ZeroDivisionError,IndexError):\n",
    "except Exception:\n",
    "    print(\"You have an error\")"
   ]
  },
  {
   "cell_type": "code",
   "execution_count": 4,
   "id": "3638f3a2-28a6-41d4-9136-1523370441ae",
   "metadata": {},
   "outputs": [
    {
     "name": "stdout",
     "output_type": "stream",
     "text": [
      "ZeroDivisionError.with_traceback\n"
     ]
    }
   ],
   "source": [
    "try:\n",
    "    a = 3/0\n",
    "except Exception as e:\n",
    "    print(e.)"
   ]
  },
  {
   "cell_type": "code",
   "execution_count": null,
   "id": "81575adf",
   "metadata": {},
   "outputs": [],
   "source": []
  }
 ],
 "metadata": {
  "kernelspec": {
   "display_name": "Python 3 (ipykernel)",
   "language": "python",
   "name": "python3"
  },
  "language_info": {
   "codemirror_mode": {
    "name": "ipython",
    "version": 3
   },
   "file_extension": ".py",
   "mimetype": "text/x-python",
   "name": "python",
   "nbconvert_exporter": "python",
   "pygments_lexer": "ipython3",
   "version": "3.10.0"
  }
 },
 "nbformat": 4,
 "nbformat_minor": 5
}
