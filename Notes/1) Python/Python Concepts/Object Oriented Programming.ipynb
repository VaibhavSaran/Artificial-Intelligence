{
 "cells": [
  {
   "cell_type": "markdown",
   "id": "7f1bc7af-fcb3-49da-ace9-af99ea3711cf",
   "metadata": {},
   "source": [
    "# Classes and Objects"
   ]
  },
  {
   "cell_type": "markdown",
   "id": "28a0d582-8594-4e44-98cc-5f9eceb70438",
   "metadata": {},
   "source": [
    "- **Class**: It is a collection of variables often of different types and its member functions referenced under one name.\n",
    "- **Object**: An object stores the class' properties in fields(variables) and exposes its behaviour through methods."
   ]
  },
  {
   "cell_type": "markdown",
   "id": "c90b7fb7-34d4-4371-8f9d-90fd1cfbc4ee",
   "metadata": {},
   "source": [
    "<h4>In layman terms, class is a blueprint for a datatype and an object is an instance(variable) of that datatype(class)</h4>"
   ]
  },
  {
   "cell_type": "markdown",
   "id": "0156feea-eec0-4a3e-a439-7e828254208e",
   "metadata": {},
   "source": [
    "- Python utilizes the concept of classes and objects everywhere and you have been using it without knowing it."
   ]
  },
  {
   "cell_type": "code",
   "execution_count": null,
   "id": "90545d62-e379-421c-b2b7-6e5f5b1e7886",
   "metadata": {},
   "outputs": [],
   "source": [
    "x = 5\n",
    "print(type(x))"
   ]
  },
  {
   "cell_type": "code",
   "execution_count": null,
   "id": "005a7fc0-6840-4a5a-8139-0ab12a13c085",
   "metadata": {},
   "outputs": [],
   "source": [
    "class animal:\n",
    "    # Atrributes\n",
    "    species = \"\"\n",
    "    sound = \"\"\n",
    "    \n",
    "    # Constructor in Python\n",
    "    def __init__(self,name,voice):\n",
    "        self.species = name\n",
    "        self.sound = voice"
   ]
  },
  {
   "cell_type": "code",
   "execution_count": null,
   "id": "db867cb7-cac2-4b06-962b-aea327d47da8",
   "metadata": {},
   "outputs": [],
   "source": [
    "dog = animal(\"Pitbull\",\"woof\")\n",
    "print(type(dog))"
   ]
  },
  {
   "cell_type": "code",
   "execution_count": null,
   "id": "4d553000-54b4-4e76-ba64-fd8b7942c976",
   "metadata": {},
   "outputs": [],
   "source": [
    "dog.sound"
   ]
  },
  {
   "cell_type": "code",
   "execution_count": null,
   "id": "500e660f-6dc5-4863-bcc9-84035f4788b4",
   "metadata": {},
   "outputs": [],
   "source": [
    "dog.species"
   ]
  },
  {
   "cell_type": "code",
   "execution_count": null,
   "id": "3008ba8a-f64a-45a0-a336-8b61b73a88b9",
   "metadata": {},
   "outputs": [],
   "source": [
    "cat = animal(\"Tiger\",\"roar\")\n",
    "wolf = animal(\"siberian wolf\",\"howl\")"
   ]
  },
  {
   "cell_type": "code",
   "execution_count": null,
   "id": "0afabc85-bcce-4592-aa22-eb1e6dfc7a2f",
   "metadata": {},
   "outputs": [],
   "source": [
    "forest = [dog,cat,wolf]"
   ]
  },
  {
   "cell_type": "code",
   "execution_count": null,
   "id": "05f929ac-3232-4435-9afd-e3dfa4039e46",
   "metadata": {},
   "outputs": [],
   "source": [
    "for i in forest:\n",
    "    print(i.species)"
   ]
  },
  {
   "cell_type": "markdown",
   "id": "1fce6889-f81e-4507-8cae-f08614693f60",
   "metadata": {},
   "source": [
    "# self in Python Class"
   ]
  },
  {
   "cell_type": "markdown",
   "id": "c540d0b5-74db-48cc-9b7a-03279ac35c93",
   "metadata": {
    "jp-MarkdownHeadingCollapsed": true
   },
   "source": [
    "- `self` is **NOT A KEYWORD**. It is just a convention which is being followed\n",
    "- Self represents the instance of the class.\n",
    "- By using the “self”  we can access the attributes and methods of the class in Python.\n",
    "- It binds the attributes with the given arguments.\n",
    "### Use of self in Python Class\n",
    "- Whenever you call a method of an object created from a class, the object is automatically passed as the first argument using the “self” parameter.\n",
    "- This enables you to modify the object’s properties and execute tasks unique to that particular instance.\n",
    "- The self is always pointing to the Current Object.\n",
    "- When you create an instance of a class, you’re essentially creating an object with its own set of attributes and methods."
   ]
  },
  {
   "cell_type": "code",
   "execution_count": null,
   "id": "15afea05-2240-4aa6-99c6-6b6d1a2e6b1e",
   "metadata": {},
   "outputs": [],
   "source": [
    "class check:\n",
    "    style = 0\n",
    "    def __init__(zoro,swords):\n",
    "        zoro.style = swords\n",
    "        print(\"Address of self = \",id(zoro))\n",
    "        # print(zoro.style)\n",
    "\n",
    "obj = check(4)\n",
    "print(\"Address of class object = \",id(obj),obj.style)"
   ]
  },
  {
   "cell_type": "markdown",
   "id": "009960e2-9956-4376-abf5-6ade9295565f",
   "metadata": {},
   "source": [
    "# Understanding Classes"
   ]
  },
  {
   "cell_type": "code",
   "execution_count": null,
   "id": "280403e9-0605-4b32-88f9-25a53a826db3",
   "metadata": {},
   "outputs": [],
   "source": [
    "class animal:\n",
    "    # Atrributes\n",
    "    species = \"\"\n",
    "    sound = \"\"\n",
    "    x = int()\n",
    "    \n",
    "    # Constructor in Python\n",
    "    def __init__(self,name,voice):\n",
    "        self.species = name\n",
    "        self.sound = voice\n",
    "\n",
    "    # Method\n",
    "    def behaviour(self):\n",
    "        print(\"I am {} and I {}\".format(self.species, self.sound))\n",
    "        return \"\""
   ]
  },
  {
   "cell_type": "code",
   "execution_count": null,
   "id": "c2f86185-dd8f-4c30-98d1-d15853523f1a",
   "metadata": {},
   "outputs": [],
   "source": [
    "dog = animal(\"Pitbull\",\"woof\")\n",
    "cat = animal(\"Tiger\",\"roar\")\n",
    "wolf = animal(\"siberian wolf\",\"howl\")\n",
    "dog_2 = animal(\"chihuahua\",\"yelps\")"
   ]
  },
  {
   "cell_type": "code",
   "execution_count": null,
   "id": "4f079506-495e-4af8-8d6f-29ee6f412a7f",
   "metadata": {},
   "outputs": [],
   "source": [
    "dog_2.behaviour()"
   ]
  },
  {
   "cell_type": "code",
   "execution_count": null,
   "id": "5c7963e4-032a-4f82-a431-bd514c8bb5e8",
   "metadata": {},
   "outputs": [],
   "source": [
    "# Combining objects, lists and loops\n",
    "forest = [dog,cat,wolf]\n",
    "for i in forest:\n",
    "    print(i.behaviour(),end=\"\")\n",
    "    print()"
   ]
  },
  {
   "cell_type": "markdown",
   "id": "90e05efc-5058-4bcd-b6cd-df7a7869d6a0",
   "metadata": {},
   "source": [
    "- The above output contains `None` as the function is returning `None` only"
   ]
  },
  {
   "cell_type": "markdown",
   "id": "24ec39da-27ae-4faa-871e-a36a3b6de8ab",
   "metadata": {},
   "source": [
    "# Understanding `__init__()` method"
   ]
  },
  {
   "cell_type": "markdown",
   "id": "2562fdd1-a06c-4d9a-819c-4094594a9102",
   "metadata": {},
   "source": [
    "- It is the constructor for python class\n",
    "- It is run as soon as an object of a class is instantiated.\n",
    "- The method is useful to do any initialization you want to do with your object."
   ]
  },
  {
   "cell_type": "code",
   "execution_count": null,
   "id": "3170c038-8230-459c-8154-3d5064e7b0e9",
   "metadata": {},
   "outputs": [],
   "source": [
    "class Dog:\n",
    "\t# class attribute\n",
    "\tattr1 = \"mammal\"\n",
    "\t# Instance attribute\n",
    "\tdef __init__(self, name):\n",
    "\t\tself.name = name\n",
    "\n",
    "# Driver code Object instantiation\n",
    "Rodger = Dog(\"Rodger\")\n",
    "Tommy = Dog(\"Tommy\")\n",
    "\n",
    "# Accessing class attributes\n",
    "print(\"Rodger is a {}\".format(Rodger.__class__.attr1))\n",
    "print(\"Tommy is also a {}\".format(Tommy.__class__.attr1))\n",
    "\n",
    "# Accessing instance attributes\n",
    "print(\"My name is {}\".format(Rodger.name))\n",
    "print(\"My name is {}\".format(Tommy.name))"
   ]
  },
  {
   "cell_type": "markdown",
   "id": "bb271cd2-bdf4-447c-8237-696f5205f085",
   "metadata": {},
   "source": [
    "# Access Modifiers in Class\n",
    "A Class in Python has three types of access modifiers:\n",
    "\n",
    "    Public Access Modifier\n",
    "    Protected Access Modifier\n",
    "    Private Access Modifier\n"
   ]
  },
  {
   "cell_type": "code",
   "execution_count": 6,
   "id": "4f09c4a7-78dc-4021-9004-07649c32bd5a",
   "metadata": {},
   "outputs": [
    {
     "name": "stdout",
     "output_type": "stream",
     "text": [
      "Public Data Member:  Innomatics\n",
      "Protected Data Member:  10\n",
      "Private Data Member:  Innomnions!\n",
      "Object is accessing protected member: 10\n",
      "Protected Data Member:  10\n",
      "None\n"
     ]
    }
   ],
   "source": [
    "# program to illustrate access modifiers of a class\n",
    "class Super:\n",
    "\t# public data member\n",
    "\tvar1 = None\n",
    "\t# protected data member\n",
    "\t_var2 = None\n",
    "\t# private data member\n",
    "\t__var3 = None\n",
    "\t\n",
    "\t# constructor\n",
    "\tdef __init__(self, var1, var2, var3): \n",
    "\t\tself.var1 = var1\n",
    "\t\tself._var2 = var2\n",
    "\t\tself.__var3 = var3\n",
    "\t\n",
    "\t# public member function \n",
    "\tdef displayPublicMembers(self):\n",
    "\t\t# accessing public data members\n",
    "\t\tprint(\"Public Data Member: \", self.var1)\n",
    "\t\t\n",
    "\t# protected member function \n",
    "\tdef _displayProtectedMembers(self):\n",
    "\t\t# accessing protected data members\n",
    "\t\tprint(\"Protected Data Member: \", self._var2)\n",
    "\t\n",
    "\t# private member function \n",
    "\tdef __displayPrivateMembers(self):\n",
    "\t\t# accessing private data members\n",
    "\t\tprint(\"Private Data Member: \", self.__var3)\n",
    "\n",
    "\t# public member function\n",
    "\tdef accessPrivateMembers(self):\t \n",
    "\t\t# accessing private member function\n",
    "\t\tself.__displayPrivateMembers()\n",
    "\n",
    "# derived class\n",
    "class Sub(Super):\n",
    "\n",
    "\t# constructor \n",
    "\tdef __init__(self, var1, var2, var3): \n",
    "\t\t\t\tSuper.__init__(self, var1, var2, var3)\n",
    "\t\t\n",
    "\t# public member function \n",
    "\tdef accessProtectedMembers(self):\n",
    "\t\t\t\t# accessing protected member functions of super class \n",
    "\t\t\t\tself._displayProtectedMembers()\n",
    "\n",
    "# creating objects of the derived class\t \n",
    "obj = Sub(\"Innomatics\", 10, \"Innomnions!\") \n",
    "\n",
    "# calling public member functions of the class\n",
    "obj.displayPublicMembers()\n",
    "obj.accessProtectedMembers()\n",
    "obj.accessPrivateMembers() \n",
    "\n",
    "# Object can access protected member\n",
    "print(\"Object is accessing protected member:\", obj._var2)\n",
    "\n",
    "# object can not access private member, so it will generate Attribute error\n",
    "print(obj._displayProtectedMembers())"
   ]
  },
  {
   "cell_type": "markdown",
   "id": "d8487c3b-d31b-48d0-8d08-69f980b22d5c",
   "metadata": {},
   "source": [
    "# Inheritance in Python\n",
    "- Inheritance is the capability of one class to derive or inherit the properties from another class.\n",
    "- The class that derives properties is called the `derived class` or `child class` and the class from which the properties are being derived is called the `base class` or `parent class`.\n",
    "- The benefits of inheritance are:\n",
    "    - It represents real-world relationships well.\n",
    "    - It provides the reusability of a code. We don’t have to write the same code again and again.\n",
    "    - Also, it allows us to add more features to a class without modifying it.\n",
    "    - It is transitive in nature, which means that if class B inherits from another class A, then all the subclasses of B would automatically inherit from class A."
   ]
  },
  {
   "cell_type": "markdown",
   "id": "e7a210e9-cbfc-4b33-9828-450305d135b7",
   "metadata": {},
   "source": [
    "## Types of Inheritance in Python\n",
    "- **Single Inheritance**: Single-level inheritance enables a derived class to inherit characteristics from a single-parent class.\n",
    "- **Multilevel Inheritance**: Multi-level inheritance enables a derived class to inherit properties from an immediate parent class which in turn inherits properties from his parent class.\n",
    "- **Hierarchical Inheritance**: Hierarchical-level inheritance enables more than one derived class to inherit properties from a parent class.\n",
    "- **Multiple Inheritance**: Multiple-level inheritance enables one derived class to inherit properties from more than one base class.\n",
    "- **Hybrid Inheritance**"
   ]
  },
  {
   "attachments": {
    "1c6f5678-555a-4068-8b31-09d45542a23a.png": {
     "image/png": "[encoded data removed]"
    }
   },
   "cell_type": "markdown",
   "id": "4b4d92d9-8ea8-4f8b-86b0-29ed53d7d735",
   "metadata": {},
   "source": [
    "### Single Inheritance\n",
    "![image.png](attachment:1c6f5678-555a-4068-8b31-09d45542a23a.png)"
   ]
  },
  {
   "cell_type": "code",
   "execution_count": 12,
   "id": "3cf5b15b-5618-4b97-878c-fd31f97d2ebc",
   "metadata": {},
   "outputs": [
    {
     "name": "stdout",
     "output_type": "stream",
     "text": [
      "Vaibhav\n",
      "100169\n",
      "My name is Vaibhav\n",
      "IdNumber: 100169\n",
      "Post: Data Scientist\n"
     ]
    }
   ],
   "source": [
    "# Python code to demonstrate Inheritance and how parent constructors are called using Single Inheritance\n",
    "class Person:\n",
    "\tdef __init__(self, name, idnumber):\n",
    "\t\tself.name = name\n",
    "\t\tself.idnumber = idnumber\n",
    "        \n",
    "\tdef display(self):\n",
    "\t\tprint(self.name)\n",
    "\t\tprint(self.idnumber)\n",
    "\t\t\n",
    "\tdef details(self):\n",
    "\t\tprint(\"My name is {}\".format(self.name))\n",
    "\t\tprint(\"IdNumber: {}\".format(self.idnumber))\n",
    "\t\n",
    "class Employee(Person):\n",
    "    def __init__(self, name, idnumber, salary, post):\n",
    "        self.salary = salary\n",
    "        self.post = post\n",
    "        # print(\"Laxman doubt: \",self.name,self.idnumber)\n",
    "        # the above code will throw an error as the constructor for the parent class is yet to be called\n",
    "        # invoking the __init__ of the parent class\n",
    "        Person.__init__(self, name, idnumber)\n",
    "    \n",
    "    def details(self):\n",
    "        print(\"My name is {}\".format(self.name))\n",
    "        print(\"IdNumber: {}\".format(self.idnumber))\n",
    "        print(\"Post: {}\".format(self.post))\n",
    "\n",
    "# creation of an object variable or an instance\n",
    "a = Employee('Vaibhav', 100169, 200000000, \"Data Scientist\")\n",
    "# calling a function of the class Person using its instance\n",
    "a.display()\n",
    "a.details()"
   ]
  },
  {
   "attachments": {
    "2abf9aec-6dce-4931-9e32-e92fd2680b34.png": {
     "image/png": "[encoded data removed]"
    }
   },
   "cell_type": "markdown",
   "id": "8b33b35e-c91f-47fb-a6fd-d45a7f40f7aa",
   "metadata": {},
   "source": [
    "### Multiple Inheritance\n",
    "![image.png](attachment:2abf9aec-6dce-4931-9e32-e92fd2680b34.png)"
   ]
  },
  {
   "cell_type": "code",
   "execution_count": 16,
   "id": "b64bd7f7-b0cd-4cca-922b-11eb4af3cff9",
   "metadata": {},
   "outputs": [
    {
     "name": "stdout",
     "output_type": "stream",
     "text": [
      "Father : Dashrath\n",
      "Mother : Kaykai\n",
      "Sons:  Bharat and Shatrughan\n"
     ]
    }
   ],
   "source": [
    "class Mother:\n",
    "\tmothername = \"\"\n",
    "\tdef mother(self):\n",
    "\t\tprint(self.mothername)\n",
    "\n",
    "class Father:\n",
    "\tfathername = \"\"\n",
    "\tdef father(self):\n",
    "\t\tprint(self.fathername)\n",
    "\n",
    "class Son(Mother, Father):\n",
    "    sonName = \"Bharat and Shatrughan\"\n",
    "    def parents(self):\n",
    "        print(\"Father :\", self.fathername)\n",
    "        print(\"Mother :\", self.mothername)\n",
    "        print(\"Sons: \",self.sonName)\n",
    "        \n",
    "s1 = Son()\n",
    "s1.fathername = \"Dashrath\"\n",
    "s1.mothername = \"Kaykai\"\n",
    "s1.parents()"
   ]
  },
  {
   "attachments": {
    "c237c20e-94dd-46af-addc-0d81180dd56b.png": {
     "image/png": "[encoded data removed]"
    }
   },
   "cell_type": "markdown",
   "id": "fb1c0e9f-23ab-41c1-a031-5c81b85ef9b3",
   "metadata": {},
   "source": [
    "### Multilevel Inheritance\n",
    "![image.png](attachment:c237c20e-94dd-46af-addc-0d81180dd56b.png)"
   ]
  },
  {
   "cell_type": "code",
   "execution_count": 17,
   "id": "a81ab55d-2d9e-4ad5-9acf-ee8751ccde13",
   "metadata": {},
   "outputs": [
    {
     "name": "stdout",
     "output_type": "stream",
     "text": [
      "Lal mani\n",
      "Grandfather name : Lal mani\n",
      "Father name : Rampal\n",
      "Son name : Prince\n"
     ]
    }
   ],
   "source": [
    "class Grandfather:\n",
    "\n",
    "\tdef __init__(self, grandfathername):\n",
    "\t\tself.grandfathername = grandfathername\n",
    "\n",
    "class Father(Grandfather):\n",
    "\tdef __init__(self, fathername, grandfathername):\n",
    "\t\tself.fathername = fathername\n",
    "\n",
    "\t\t# invoking constructor of Grandfather class\n",
    "\t\tGrandfather.__init__(self, grandfathername)\n",
    "\n",
    "class Son(Father):\n",
    "\tdef __init__(self, sonname, fathername, grandfathername):\n",
    "\t\tself.sonname = sonname\n",
    "\n",
    "\t\t# invoking constructor of Father class\n",
    "\t\tFather.__init__(self, fathername, grandfathername)\n",
    "\n",
    "\tdef print_name(self):\n",
    "\t\tprint('Grandfather name :', self.grandfathername)\n",
    "\t\tprint(\"Father name :\", self.fathername)\n",
    "\t\tprint(\"Son name :\", self.sonname)\n",
    "\n",
    "\n",
    "s1 = Son('Prince', 'Rampal', 'Lal mani')\n",
    "print(s1.grandfathername)\n",
    "s1.print_name()"
   ]
  },
  {
   "attachments": {
    "a463c669-d591-4a7c-86fa-18f8ba2537a1.png": {
     "image/png": "[encoded data removed]"
    }
   },
   "cell_type": "markdown",
   "id": "49e6f5aa-4a4a-4406-8403-99c5445d22e1",
   "metadata": {},
   "source": [
    "### Hierarchical Inheritance\n",
    "![image.png](attachment:a463c669-d591-4a7c-86fa-18f8ba2537a1.png)"
   ]
  },
  {
   "cell_type": "code",
   "execution_count": 18,
   "id": "940eedb6-96f3-4a73-88be-8e240ccb6a1c",
   "metadata": {},
   "outputs": [
    {
     "name": "stdout",
     "output_type": "stream",
     "text": [
      "This function is in parent class.\n",
      "This function is in child 1.\n",
      "This function is in parent class.\n",
      "This function is in child 2.\n"
     ]
    }
   ],
   "source": [
    "class Parent:\n",
    "\tdef func1(self):\n",
    "\t\tprint(\"This function is in parent class.\")\n",
    "\n",
    "class Child1(Parent):\n",
    "\tdef func2(self):\n",
    "\t\tprint(\"This function is in child 1.\")\n",
    "\n",
    "class Child2(Parent):\n",
    "\tdef func3(self):\n",
    "\t\tprint(\"This function is in child 2.\")\n",
    "\n",
    "object1 = Child1()\n",
    "object2 = Child2()\n",
    "object1.func1()\n",
    "object1.func2()\n",
    "object2.func1()\n",
    "object2.func3()"
   ]
  },
  {
   "cell_type": "markdown",
   "id": "d04b7128-edf8-412a-8a02-3afda34e563a",
   "metadata": {},
   "source": [
    "### Hybrid Inheritance"
   ]
  },
  {
   "cell_type": "code",
   "execution_count": 20,
   "id": "e8870e35-d976-4ea1-b746-1b7bdbe5f186",
   "metadata": {},
   "outputs": [
    {
     "name": "stdout",
     "output_type": "stream",
     "text": [
      "This function is in school.\n",
      "This function is in student 1. \n",
      "This function is in student 3.\n"
     ]
    }
   ],
   "source": [
    "class School:\n",
    "\tdef func1(self):\n",
    "\t\tprint(\"This function is in school.\")\n",
    "\n",
    "class Student1(School):\n",
    "\tdef func2(self):\n",
    "\t\tprint(\"This function is in student 1. \")\n",
    "\n",
    "class Student2(School):\n",
    "\tdef func3(self):\n",
    "\t\tprint(\"This function is in student 2.\")\n",
    "\n",
    "class Student3(Student1, School):\n",
    "\tdef func4(self):\n",
    "\t\tprint(\"This function is in student 3.\")\n",
    "\n",
    "object = Student3()\n",
    "object.func1()\n",
    "object.func2()\n",
    "object.func4()"
   ]
  },
  {
   "cell_type": "markdown",
   "id": "61ebb85e-3f99-4d54-8761-705b900de86b",
   "metadata": {},
   "source": [
    "## `super()` in Inheritance"
   ]
  },
  {
   "cell_type": "markdown",
   "id": "0aedb61b-abc9-40e5-9ad5-0fd640ebc9b8",
   "metadata": {},
   "source": [
    "- The super() function is a built-in function that returns the objects that represent the parent class.\n",
    "- It allows to access the parent class’s methods and attributes in the child class."
   ]
  },
  {
   "cell_type": "code",
   "execution_count": 36,
   "id": "186b37c3-3e57-40d9-b645-0450dc8ee7ef",
   "metadata": {},
   "outputs": [
    {
     "name": "stdout",
     "output_type": "stream",
     "text": [
      "Raghu 23\n",
      "Vaibhav 23\n"
     ]
    }
   ],
   "source": [
    "# parent class\n",
    "class Person():\n",
    "    def __init__(self, name, age):\n",
    "    \tself.name = name\n",
    "    \tself.age = age\n",
    "    def display(self):\n",
    "    \tprint(self.name, self.age)\n",
    "        \n",
    "# child class\n",
    "class Student(Person):\n",
    "    def __init__(self, name, age):\n",
    "    \tself.sName = name\n",
    "    \tself.sAge = age\n",
    "    \t# inheriting the properties of parent class\n",
    "    \tsuper().__init__(\"Raghu\", age)\n",
    "\n",
    "    def displayInfo(self):\n",
    "    \tprint(self.sName, self.sAge)\n",
    "    \n",
    "    def display(self):\n",
    "        super().display()\n",
    "        # print(self.sName, self.sAge)\n",
    "\n",
    "obj = Student(\"Vaibhav\", 23)\n",
    "obj.display()\n",
    "obj.displayInfo()"
   ]
  },
  {
   "cell_type": "markdown",
   "id": "05f23a37-9ed4-4215-93a4-aae0f0cd26c4",
   "metadata": {},
   "source": [
    "# Polymorphism in Python\n",
    "- Polymorphism simply means having many forms.\n",
    "- For example, we need to determine if the given species of birds fly or not, using polymorphism we can do this using a single function."
   ]
  },
  {
   "cell_type": "code",
   "execution_count": 37,
   "id": "7f7817ad-b976-4ba9-bcd2-67e52db798b0",
   "metadata": {},
   "outputs": [
    {
     "name": "stdout",
     "output_type": "stream",
     "text": [
      "24\n",
      "3\n"
     ]
    }
   ],
   "source": [
    "# in-built polymorphic functions\n",
    "print(len(\"Innomatics Research Labs\"))\n",
    "print(len([10, 20, 30]))"
   ]
  },
  {
   "cell_type": "code",
   "execution_count": 39,
   "id": "b0402e68-5bd2-4195-8c81-d70c89401166",
   "metadata": {},
   "outputs": [
    {
     "name": "stdout",
     "output_type": "stream",
     "text": [
      "5\n",
      "9\n"
     ]
    }
   ],
   "source": [
    "# User defined polymorphic function\n",
    "def add(x, y, z = 0): \n",
    "\treturn x + y+z\n",
    "print(add(2, 3))\n",
    "print(add(2 , 3,4))"
   ]
  },
  {
   "cell_type": "code",
   "execution_count": null,
   "id": "32fcaff8-27ef-46ae-bcc3-51e1cf854990",
   "metadata": {},
   "outputs": [],
   "source": [
    "# Polymorphism with classes\n",
    "class India():\n",
    "\tdef capital(self):\n",
    "\t\tprint(\"New Delhi is the capital of India.\")\n",
    "\n",
    "\tdef language(self):\n",
    "\t\tprint(\"Hindi is the most widely spoken language of India.\")\n",
    "\n",
    "\tdef type(self):\n",
    "\t\tprint(\"India is a developing country.\")\n",
    "\n",
    "class USA():\n",
    "\tdef capital(self):\n",
    "\t\tprint(\"Washington, D.C. is the capital of USA.\")\n",
    "\n",
    "\tdef language(self):\n",
    "\t\tprint(\"English is the primary language of USA.\")\n",
    "\n",
    "\tdef type(self):\n",
    "\t\tprint(\"USA is a developed country.\")\n",
    "\n",
    "obj_ind = India()\n",
    "obj_usa = USA()\n",
    "for country in (obj_ind, obj_usa):\n",
    "\tcountry.capital()\n",
    "\tcountry.language()\n",
    "\tcountry.type()"
   ]
  },
  {
   "cell_type": "code",
   "execution_count": 40,
   "id": "82c12eaa-8dfe-43df-a945-704ac0152740",
   "metadata": {},
   "outputs": [
    {
     "name": "stdout",
     "output_type": "stream",
     "text": [
      "There are many types of birds.\n",
      "Most of the birds can fly but some cannot.\n",
      "There are many types of birds.\n",
      "Sparrows can fly.\n",
      "There are many types of birds.\n",
      "Ostriches cannot fly.\n"
     ]
    }
   ],
   "source": [
    "# Polymorphism with inheritance\n",
    "class Bird:\n",
    "\tdef intro(self):\n",
    "\t\tprint(\"There are many types of birds.\")\n",
    "\tdef flight(self):\n",
    "\t\tprint(\"Most of the birds can fly but some cannot.\")\n",
    "\n",
    "class sparrow(Bird):\n",
    "\tdef flight(self):\n",
    "\t\tprint(\"Sparrows can fly.\")\n",
    "\n",
    "class ostrich(Bird):\n",
    "\tdef flight(self):\n",
    "\t\tprint(\"Ostriches cannot fly.\")\n",
    "\n",
    "obj_bird = Bird()\n",
    "obj_spr = sparrow()\n",
    "obj_ost = ostrich()\n",
    "\n",
    "obj_bird.intro()\n",
    "obj_bird.flight()\n",
    "\n",
    "obj_spr.intro()\n",
    "obj_spr.flight()\n",
    "\n",
    "obj_ost.intro()\n",
    "obj_ost.flight()"
   ]
  },
  {
   "cell_type": "code",
   "execution_count": 41,
   "id": "9c607318-5435-413d-9539-b3e878380d17",
   "metadata": {},
   "outputs": [
    {
     "name": "stdout",
     "output_type": "stream",
     "text": [
      "Woof!\n",
      "Meow!\n"
     ]
    }
   ],
   "source": [
    "# polymorphism in Python using inheritance and method overriding\n",
    "class Animal:\n",
    "\tdef speak(self):\n",
    "\t\traise NotImplementedError(\"Subclass must implement this method\")\n",
    "\n",
    "class Dog(Animal):\n",
    "\tdef speak(self):\n",
    "\t\treturn \"Woof!\"\n",
    "\n",
    "class Cat(Animal):\n",
    "\tdef speak(self):\n",
    "\t\treturn \"Meow!\"\n",
    "\n",
    "# Create a list of Animal objects\n",
    "animals = [Dog(), Cat()]\n",
    "\n",
    "# Call the speak method on each object\n",
    "for animal in animals:\n",
    "\tprint(animal.speak())"
   ]
  },
  {
   "cell_type": "markdown",
   "id": "f2c62719-929d-428e-ab4f-330f9938ab97",
   "metadata": {},
   "source": [
    "<h2>Polymorphism: Method Overloading using Multiple Dispatcher</h2>"
   ]
  },
  {
   "cell_type": "markdown",
   "id": "5a1db2e2-b038-4d45-b7cc-566bd9686bc3",
   "metadata": {},
   "source": [
    "# Encapsulation in Python\n",
    "- It describes the idea of wrapping data and the methods that work on data within one unit.\n",
    "- This puts restrictions on accessing variables and methods directly and can prevent the accidental modification of data.\n",
    "- To prevent accidental change, an object’s variable can only be changed by an object’s method.\n",
    "- Those types of variables are known as private variables.\n",
    "- A class is an example of encapsulation as it encapsulates all the data and its member functions, variables, etc."
   ]
  },
  {
   "cell_type": "code",
   "execution_count": 42,
   "id": "94d189d0-5992-4219-803a-0525d0c5c607",
   "metadata": {},
   "outputs": [
    {
     "name": "stdout",
     "output_type": "stream",
     "text": [
      "Calling protected member of base class:  I am the base class value\n",
      "Calling modified protected member outside class:  I am the derived class value\n",
      "Accessing protected member of obj1:  I am the derived class value\n",
      "Accessing protected member of obj2:  I am the base class value\n"
     ]
    }
   ],
   "source": [
    "class Base: \n",
    "\tdef __init__(self): \n",
    "\t\t# Protected member \n",
    "\t\tself._a = \"I am the base class value\"\n",
    " \n",
    "class Derived(Base): \n",
    "\tdef __init__(self): \n",
    "\n",
    "\t\t# Calling constructor of Base class \n",
    "\t\tBase.__init__(self) \n",
    "\t\tprint(\"Calling protected member of base class: \", self._a) \n",
    "\n",
    "\t\t# Modify the protected variable: \n",
    "\t\tself._a = \"I am the derived class value\"\n",
    "\t\tprint(\"Calling modified protected member outside class: \", self._a) \n",
    "\n",
    "obj1 = Derived() \n",
    "obj2 = Base() \n",
    "\n",
    "# Calling protected member can be accessed but should not be done due to convention \n",
    "print(\"Accessing protected member of obj1: \", obj1._a) \n",
    "\n",
    "# Accessing the protected variable outside \n",
    "print(\"Accessing protected member of obj2: \", obj2._a) "
   ]
  },
  {
   "cell_type": "code",
   "execution_count": 46,
   "id": "0d46c65a-ae05-4ce8-a1f2-721add02e219",
   "metadata": {},
   "outputs": [
    {
     "name": "stdout",
     "output_type": "stream",
     "text": [
      "Innomatics Research Labs\n"
     ]
    }
   ],
   "source": [
    "class Base:\n",
    "\tdef __init__(self):\n",
    "\t\tself.a = \"Innomatics Research Labs\"\n",
    "\t\tself.__c = \"Innomnions\"\n",
    "\n",
    "# Creating a derived class\n",
    "class Derived(Base):\n",
    "\tdef __init__(self):\n",
    "\n",
    "\t\t# Calling constructor of Base class\n",
    "\t\tBase.__init__(self)\n",
    "\t\tprint(\"Calling private member of base class: \")\n",
    "\t\tprint(self.__c)\n",
    "\n",
    "\n",
    "# Driver code\n",
    "obj1 = Base()\n",
    "print(obj1.a)\n",
    "\n",
    "# Uncommenting \n",
    "# print(obj1.c) \n",
    "# will raise an AttributeError\n",
    "\n",
    "# Uncommenting \n",
    "# obj2 = Derived() \n",
    "# will also raise an AtrributeError as private member of base class is called inside derived class"
   ]
  },
  {
   "cell_type": "markdown",
   "id": "dfb60ada-6aea-4d35-b257-0dd05973a69d",
   "metadata": {
    "jp-MarkdownHeadingCollapsed": true
   },
   "source": [
    "# Data Abstraction in Python\n",
    "- It hides unnecessary code details from the user.\n",
    "- Also, when we do not want to give out sensitive parts of our code implementation and this is where data abstraction came.\n",
    "For Ref. see Access Modifiers in Python"
   ]
  },
  {
   "cell_type": "markdown",
   "id": "cf321aaf-8235-4fd3-8efc-702b13256d6d",
   "metadata": {},
   "source": [
    "<h2>ABC Module for this</h2>"
   ]
  },
  {
   "cell_type": "markdown",
   "id": "62b8232a-30d1-472c-8a79-3475736e7a35",
   "metadata": {},
   "source": [
    "# Properties of OOPs implemented using classes and objects"
   ]
  },
  {
   "cell_type": "markdown",
   "id": "fecfc71d-02f2-4c7e-86b2-0efaa3ff7b9b",
   "metadata": {},
   "source": [
    "1. **Data Hiding**: The private and protected data members of the class remain hidden from the outside world and cannot be accessed directly.\n",
    "2. **Data Encapsulation**: It refers to wrapping up of data members and their associated functions under one name.\n",
    "3. **Data Abstraction**: It refers to representation of essential features without any background information or explanation\n",
    "4. **Polymorphism**: It refers to one name having many forms i.e. different behaviour of an instance depending upon the situation.\n",
    "5. **Inheritance**: It is the capability of one class to inherit the properties of another class.\n",
    "6. **Transitivity**: Whenever the changes are made in base class, they are reflected in derived class."
   ]
  },
  {
   "cell_type": "markdown",
   "id": "84ad6183-809d-431b-ab01-3627a4f50698",
   "metadata": {},
   "source": [
    "# Advantages of OOPs"
   ]
  },
  {
   "cell_type": "markdown",
   "id": "d1b7628d-0ace-4097-a430-32991227723a",
   "metadata": {},
   "source": [
    "1. Complexities can easily be managed.\n",
    "2. It can easily be upgraded.\n",
    "3. The work can be partioned into projects.\n",
    "4. It can model real life situations really well."
   ]
  },
  {
   "cell_type": "markdown",
   "id": "07772117-121b-47db-9ee4-e39633dca88f",
   "metadata": {},
   "source": [
    "# Name Mangling\n",
    "- In python any private attribute can be accessed outside the class via name mangling"
   ]
  },
  {
   "cell_type": "code",
   "execution_count": 47,
   "id": "6ebe2d4c-b5fb-4359-a5f9-f58db53053e6",
   "metadata": {},
   "outputs": [
    {
     "name": "stdout",
     "output_type": "stream",
     "text": [
      "Vaibhav\n"
     ]
    },
    {
     "ename": "AttributeError",
     "evalue": "'Student' object has no attribute '__name'",
     "output_type": "error",
     "traceback": [
      "\u001b[1;31m---------------------------------------------------------------------------\u001b[0m",
      "\u001b[1;31mAttributeError\u001b[0m                            Traceback (most recent call last)",
      "Cell \u001b[1;32mIn[47], line 13\u001b[0m\n\u001b[0;32m     10\u001b[0m s1\u001b[38;5;241m.\u001b[39mdisplayName() \n\u001b[0;32m     12\u001b[0m \u001b[38;5;66;03m# Raises an error \u001b[39;00m\n\u001b[1;32m---> 13\u001b[0m \u001b[38;5;28mprint\u001b[39m(\u001b[43ms1\u001b[49m\u001b[38;5;241;43m.\u001b[39;49m\u001b[43m__name\u001b[49m) \n",
      "\u001b[1;31mAttributeError\u001b[0m: 'Student' object has no attribute '__name'"
     ]
    }
   ],
   "source": [
    "# Python program to demonstrate name mangling \n",
    "class Student: \n",
    "\tdef __init__(self, name): \n",
    "\t\tself.__name = name \n",
    "\n",
    "\tdef displayName(self): \n",
    "\t\tprint(self.__name) \n",
    "\n",
    "s1 = Student(\"Vaibhav\") \n",
    "s1.displayName() \n",
    "\n",
    "# Raises an error \n",
    "print(s1.__name) "
   ]
  },
  {
   "cell_type": "markdown",
   "id": "b5f31d28-1950-41d4-9f9e-c12dab2a36fc",
   "metadata": {},
   "source": [
    "### Name mangling process\n",
    "- With the help of dir() method, we can see the name mangling process that is done to the class variable.\n",
    "- The name mangling process was done by the Interpreter.\n",
    "- The dir() method is used by passing the class object and it will return all valid attributes that belong to that object."
   ]
  },
  {
   "cell_type": "code",
   "execution_count": 48,
   "id": "534a722a-5763-4a27-bef5-ee481c379249",
   "metadata": {},
   "outputs": [
    {
     "name": "stdout",
     "output_type": "stream",
     "text": [
      "['_Student__name', '__class__', '__delattr__', '__dict__', '__dir__', '__doc__', '__eq__', '__format__', '__ge__', '__getattribute__', '__gt__', '__hash__', '__init__', '__init_subclass__', '__le__', '__lt__', '__module__', '__ne__', '__new__', '__reduce__', '__reduce_ex__', '__repr__', '__setattr__', '__sizeof__', '__str__', '__subclasshook__', '__weakref__']\n"
     ]
    }
   ],
   "source": [
    "# Python program to demonstrate name mangling \n",
    "class Student: \n",
    "\tdef __init__(self, name): \n",
    "\t\tself.__name = name \n",
    "\n",
    "s1 = Student(\"Vaibhav\") \n",
    "print(dir(s1)) "
   ]
  },
  {
   "cell_type": "markdown",
   "id": "1ebf3d71-3179-488c-990e-48332aa78943",
   "metadata": {},
   "source": [
    "- The above output shows dir() method returning all valid attributes with the name mangling process that is done to the class variable __name.\n",
    "- The name changed from __name to _Student__name."
   ]
  },
  {
   "cell_type": "code",
   "execution_count": 49,
   "id": "c1272c15-6e52-4bba-a5ae-b073f5098d07",
   "metadata": {},
   "outputs": [
    {
     "name": "stdout",
     "output_type": "stream",
     "text": [
      "Vaibhav\n"
     ]
    }
   ],
   "source": [
    "# Using Name mangling\n",
    "class Student: \n",
    "\tdef __init__(self, name): \n",
    "\t\tself.__name = name \n",
    "\n",
    "s1 = Student(\"Vaibhav\") \n",
    "print(s1._Student__name) "
   ]
  },
  {
   "cell_type": "markdown",
   "id": "7c27c771-4bcf-4966-b5af-7fb43fc49562",
   "metadata": {},
   "source": [
    "# Interview Questions"
   ]
  },
  {
   "cell_type": "markdown",
   "id": "3394de84-61d7-4488-917b-4234ed5fb7eb",
   "metadata": {},
   "source": [
    "### Question: How does a class enforce data-hiding, abstraction and encapsulation?\n",
    "**Answer**\n",
    "- A class binds together data and its associated methods under one unit thereby enforcing *DATA ENCAPSULATION*.\n",
    "- A class through its *private* and *protected members* enforces *DATA HIDING* as they remain hidden from the outside world.\n",
    "- A class through its *public* members enforces *DATA ABSTRACTION* as through them only necessary details are given and rest all remain hidden from the world."
   ]
  },
  {
   "cell_type": "markdown",
   "id": "9d90a20a-4a85-4fac-b4f4-8a86890f98cd",
   "metadata": {},
   "source": [
    "### Question: What is the difference between a method and a function in python?\n",
    "**Answer**\n",
    "<br>\n",
    "A method and a function in Python are both blocks of code that can perform a specific task. However they have some key differences:\n",
    "- A *function* is defined *outside* a class and can be called by its name from anywhere in the program. A *Method* is defined *inside a class* and can only be called by an object that is associated with it.\n",
    "- A function can have any number of parameters or none at all, and they are passed explicitly to the function. A method always has at least one parameter(generally referred to as `self`), and it is passed implicitly to the method by the object that invokes it.\n",
    "- A function can return any value or none at all. A method can also do the same but it can also modify the state of the object that calls it.\n",
    "- A function can be used for general purposes and code reusability. A method on the other hand can be used for specific behavioues and functionality of the object"
   ]
  },
  {
   "cell_type": "code",
   "execution_count": 50,
   "id": "70b75681-ca3d-4b70-9e4a-dffaa88e33af",
   "metadata": {},
   "outputs": [
    {
     "name": "stdout",
     "output_type": "stream",
     "text": [
      "5\n",
      "15\n"
     ]
    }
   ],
   "source": [
    "# A function that adds two numbers and returns the sum\n",
    "def add(a, b):\n",
    "    return a + b\n",
    "\n",
    "# A class that has a method that adds two numbers and updates the attribute\n",
    "class Calculator:\n",
    "    def __init__(self, x):\n",
    "        self.x = x # an attribute of the class instance\n",
    "\n",
    "    # A method that adds a number to the attribute and returns the new value\n",
    "    def add(self, y):\n",
    "        self.x = self.x + y # modifies the attribute\n",
    "        return self.x\n",
    "\n",
    "# Calling the function\n",
    "print(add(2, 3)) # prints 5\n",
    "\n",
    "# Creating a class instance\n",
    "calc = Calculator(10)\n",
    "\n",
    "# Calling the method\n",
    "print(calc.add(5)) # prints 15"
   ]
  },
  {
   "cell_type": "code",
   "execution_count": 51,
   "id": "f37693d6-efe8-41de-a6b0-2b9a844a832f",
   "metadata": {},
   "outputs": [],
   "source": [
    "a = [1,2,3]\n",
    "a.append(4)"
   ]
  },
  {
   "cell_type": "code",
   "execution_count": 52,
   "id": "58d03571-96e3-40eb-8f65-39ac7bb4beae",
   "metadata": {},
   "outputs": [
    {
     "data": {
      "text/plain": [
       "[1, 2, 3, 4]"
      ]
     },
     "execution_count": 52,
     "metadata": {},
     "output_type": "execute_result"
    }
   ],
   "source": [
    "a"
   ]
  },
  {
   "cell_type": "code",
   "execution_count": 53,
   "id": "fd0da9e4-ab4b-419f-ad0d-6feb9d263ea8",
   "metadata": {},
   "outputs": [
    {
     "data": {
      "text/plain": [
       "[1, 2, 3, 4, 1, 2, 3]"
      ]
     },
     "execution_count": 53,
     "metadata": {},
     "output_type": "execute_result"
    }
   ],
   "source": [
    "a.extend([1,2,3])\n",
    "a"
   ]
  },
  {
   "cell_type": "markdown",
   "id": "3aaa59a9-3757-4fb0-9f2a-8f995b89af8d",
   "metadata": {},
   "source": [
    "<h1>Duck Duck Typing</h1>"
   ]
  }
 ],
 "metadata": {
  "kernelspec": {
   "display_name": "Python 3 (ipykernel)",
   "language": "python",
   "name": "python3"
  },
  "language_info": {
   "codemirror_mode": {
    "name": "ipython",
    "version": 3
   },
   "file_extension": ".py",
   "mimetype": "text/x-python",
   "name": "python",
   "nbconvert_exporter": "python",
   "pygments_lexer": "ipython3",
   "version": "3.10.0"
  }
 },
 "nbformat": 4,
 "nbformat_minor": 5
}
